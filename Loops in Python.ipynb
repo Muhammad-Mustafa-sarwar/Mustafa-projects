{
 "cells": [
  {
   "cell_type": "code",
   "execution_count": 1,
   "metadata": {},
   "outputs": [
    {
     "name": "stdout",
     "output_type": "stream",
     "text": [
      "2980\n"
     ]
    }
   ],
   "source": [
    "exp = [2340, 2500, 2100, 3100, 2980]\n",
    "\n",
    "# total = exp[0] + exp[1] + exp[2] + exp[3] + [exp4]\n",
    "\n",
    "total = 0\n",
    "for i in exp :\n",
    "    total = total + i\n",
    "print(i)"
   ]
  },
  {
   "cell_type": "code",
   "execution_count": 2,
   "metadata": {},
   "outputs": [
    {
     "name": "stdout",
     "output_type": "stream",
     "text": [
      "29461\n"
     ]
    }
   ],
   "source": [
    "budget = [9680, 4810, 1152, 2263, 4724, 6832]\n",
    "\n",
    "total = 0\n",
    "for x in budget :\n",
    "    total = total + x\n",
    "print(total)"
   ]
  },
  {
   "cell_type": "code",
   "execution_count": 1,
   "metadata": {},
   "outputs": [
    {
     "name": "stdout",
     "output_type": "stream",
     "text": [
      "9680\n",
      "14490\n",
      "15642\n",
      "17905\n",
      "22629\n",
      "29461\n"
     ]
    }
   ],
   "source": [
    "budget = [9680, 4810, 1152, 2263, 4724, 6832]\n",
    "\n",
    "total = 0\n",
    "for x in budget :\n",
    "    total = total + x\n",
    "    print(total)"
   ]
  },
  {
   "cell_type": "markdown",
   "metadata": {},
   "source": [
    "# combining if and for loop\n"
   ]
  },
  {
   "cell_type": "code",
   "execution_count": 28,
   "metadata": {},
   "outputs": [
    {
     "name": "stdout",
     "output_type": "stream",
     "text": [
      "Month :  1 budget :  9680\n",
      "Month :  2 budget :  4810\n",
      "Month :  3 budget :  1152\n",
      "Month :  4 budget :  2263\n",
      "Month :  5 budget :  4724\n",
      "Month :  6 budget :  6832\n",
      "\n",
      "\n",
      "\n",
      "Total amount is : 29461\n"
     ]
    }
   ],
   "source": [
    "\n",
    "\n",
    "budget = [9680, 4810, 1152, 2263, 4724, 6832]\n",
    "total = 0\n",
    "for i in range(len(budget)):    \n",
    "    print('Month : ',(i+1), 'budget : ',budget[i])\n",
    "    total = total + budget[i]\n",
    "print()\n",
    "print()\n",
    "print()\n",
    "print('Total amount is :', total)\n"
   ]
  },
  {
   "cell_type": "code",
   "execution_count": 9,
   "metadata": {},
   "outputs": [
    {
     "name": "stdout",
     "output_type": "stream",
     "text": [
      "key is not found in garage\n",
      "key is not found in living room\n",
      "key is not found in \" chair \"\n",
      "key is not found in closet\n"
     ]
    }
   ],
   "source": [
    "key = 'chair'\n",
    "location = ['garage', 'living room', '\" chair \"', 'closet']\n",
    "for i in location :\n",
    "    if i == key :\n",
    "        print('key is found in', i )\n",
    "        break\n",
    "    else:\n",
    "        print('key is not found in', i)"
   ]
  },
  {
   "cell_type": "code",
   "execution_count": 12,
   "metadata": {},
   "outputs": [
    {
     "name": "stdout",
     "output_type": "stream",
     "text": [
      "['garage', 'living room', '\" chair \"', 'closet']\n",
      "['garage', 'living room', '\" chair \"', 'closet']\n",
      "['garage', 'living room', '\" chair \"', 'closet']\n",
      "['garage', 'living room', '\" chair \"', 'closet']\n"
     ]
    }
   ],
   "source": [
    "location = ['garage', 'living room', '\" chair \"', 'closet']\n",
    "for m in location :\n",
    "    print(location)"
   ]
  },
  {
   "cell_type": "code",
   "execution_count": 18,
   "metadata": {},
   "outputs": [
    {
     "name": "stdout",
     "output_type": "stream",
     "text": [
      "garage\n",
      "garage\n",
      "garage\n",
      "living room\n",
      "living room\n",
      "living room\n",
      "chair\n",
      "chair\n",
      "chair\n",
      "closet\n",
      "closet\n",
      "closet\n"
     ]
    }
   ],
   "source": [
    "location = ['garage', 'living room', 'chair', 'closet']\n",
    "for k in location :\n",
    "    print(k)\n",
    "    print(k)\n",
    "    print(k)"
   ]
  },
  {
   "cell_type": "code",
   "execution_count": 19,
   "metadata": {},
   "outputs": [
    {
     "name": "stdout",
     "output_type": "stream",
     "text": [
      "garage\n",
      "living room\n",
      "chair\n",
      "closet\n"
     ]
    }
   ],
   "source": [
    "location = ['garage', 'living room', 'chair', 'closet']\n",
    "for j in location :\n",
    "    print(j)"
   ]
  },
  {
   "cell_type": "code",
   "execution_count": 19,
   "metadata": {},
   "outputs": [
    {
     "name": "stdout",
     "output_type": "stream",
     "text": [
      "ID not found in fire works\n",
      "ID not found in lion roar\n",
      "ID not found in white riders\n",
      "ID found in black stone\n"
     ]
    }
   ],
   "source": [
    "ID = 'black stone'\n",
    "\n",
    "total_list = ['fire works', 'lion roar', 'white riders', 'black stone']\n",
    "for m in total_list :\n",
    "    if m == ID :\n",
    "        print('ID found in', m)\n",
    "        break\n",
    "    else :\n",
    "        print('ID not found in', m)"
   ]
  },
  {
   "cell_type": "code",
   "execution_count": 21,
   "metadata": {},
   "outputs": [
    {
     "name": "stdout",
     "output_type": "stream",
     "text": [
      "0\n",
      "1\n",
      "2\n",
      "3\n",
      "4\n",
      "5\n",
      "6\n",
      "7\n",
      "8\n",
      "9\n",
      "10\n"
     ]
    }
   ],
   "source": [
    "for k in range(0,11):\n",
    "    print(k)"
   ]
  },
  {
   "cell_type": "code",
   "execution_count": 23,
   "metadata": {},
   "outputs": [
    {
     "name": "stdout",
     "output_type": "stream",
     "text": [
      "1\n",
      "4\n",
      "9\n",
      "16\n",
      "25\n",
      "36\n",
      "49\n",
      "64\n",
      "81\n",
      "100\n",
      "121\n"
     ]
    }
   ],
   "source": [
    "for j in range(1,12) :\n",
    "    print(j*j)"
   ]
  },
  {
   "cell_type": "code",
   "execution_count": 24,
   "metadata": {},
   "outputs": [
    {
     "name": "stdout",
     "output_type": "stream",
     "text": [
      "1\n",
      "9\n",
      "25\n",
      "49\n",
      "81\n",
      "121\n"
     ]
    }
   ],
   "source": [
    "for j in range(1,12) :\n",
    "    if j %2 == 0 :\n",
    "        continue\n",
    "    print(j*j)"
   ]
  },
  {
   "cell_type": "code",
   "execution_count": 26,
   "metadata": {},
   "outputs": [
    {
     "name": "stdout",
     "output_type": "stream",
     "text": [
      "1\n",
      "4\n",
      "9\n",
      "16\n",
      "36\n",
      "49\n",
      "64\n",
      "81\n",
      "121\n"
     ]
    }
   ],
   "source": [
    "for j in range(1,12) :\n",
    "    if j %5 == 0 :\n",
    "        continue\n",
    "    print(j*j)"
   ]
  },
  {
   "cell_type": "code",
   "execution_count": 29,
   "metadata": {},
   "outputs": [
    {
     "name": "stdout",
     "output_type": "stream",
     "text": [
      "22\n",
      "23\n",
      "24\n",
      "25\n",
      "26\n",
      "27\n",
      "28\n",
      "29\n",
      "30\n",
      "31\n",
      "32\n",
      "33\n",
      "34\n",
      "35\n",
      "36\n",
      "37\n",
      "38\n"
     ]
    }
   ],
   "source": [
    "m = 21\n",
    "while m < 38 :\n",
    "    m = m + 1\n",
    "    print(m)"
   ]
  },
  {
   "cell_type": "code",
   "execution_count": 2,
   "metadata": {},
   "outputs": [
    {
     "name": "stdout",
     "output_type": "stream",
     "text": [
      "12 7 16\n",
      "13 8 17\n",
      "14 9 18\n",
      "15 10 19\n",
      "16 11 20\n"
     ]
    }
   ],
   "source": [
    "m = 11\n",
    "y = 6\n",
    "n = 15\n",
    "while m < 19 and y < 11 and n < 25 :\n",
    "    m = m + 1\n",
    "    y = y + 1\n",
    "    n = n + 1\n",
    "    print(m,y,n)"
   ]
  },
  {
   "cell_type": "code",
   "execution_count": 36,
   "metadata": {},
   "outputs": [
    {
     "name": "stdout",
     "output_type": "stream",
     "text": [
      "i\n",
      "m\n",
      "r\n",
      "a\n",
      "n\n",
      "a\n",
      " \n",
      "i\n",
      "s\n",
      " \n",
      "a\n",
      " \n",
      "g\n",
      "o\n",
      "o\n",
      "d\n",
      " \n",
      "g\n",
      "u\n",
      "y\n",
      ".\n"
     ]
    }
   ],
   "source": [
    "v = 'imrana is a good guy.'\n",
    "for v in v :\n",
    "    print(v)"
   ]
  },
  {
   "cell_type": "code",
   "execution_count": 1,
   "metadata": {},
   "outputs": [
    {
     "name": "stdout",
     "output_type": "stream",
     "text": [
      "d\n",
      "a\n",
      "w\n",
      "l\n",
      "a\n",
      "n\n",
      "c\n",
      "e\n",
      " \n",
      "&\n",
      " \n",
      "a\n",
      "b\n",
      "s\n",
      "o\n",
      "n\n",
      "s\n",
      " \n",
      "&\n",
      " \n",
      "s\n",
      "o\n",
      "n\n",
      "e\n",
      "x\n"
     ]
    }
   ],
   "source": [
    "b = 'dawlance & absons & sonex'\n",
    "for b in b :\n",
    "    print(b)"
   ]
  },
  {
   "cell_type": "markdown",
   "metadata": {},
   "source": [
    "# For with dictionar"
   ]
  },
  {
   "cell_type": "code",
   "execution_count": 4,
   "metadata": {},
   "outputs": [
    {
     "name": "stdout",
     "output_type": "stream",
     "text": [
      "one\n",
      "two\n",
      "three\n",
      "thirty four\n"
     ]
    }
   ],
   "source": [
    "my_dict = {'one':1 ,'two':2, 'three':3, 'thirty four':34}\n",
    "\n",
    "for k in my_dict :\n",
    "    print(k)"
   ]
  },
  {
   "cell_type": "markdown",
   "metadata": {},
   "source": [
    "# For sorting"
   ]
  },
  {
   "cell_type": "code",
   "execution_count": 17,
   "metadata": {},
   "outputs": [
    {
     "name": "stdout",
     "output_type": "stream",
     "text": [
      "one\n",
      "three\n",
      "two\n",
      "thirty four\n"
     ]
    }
   ],
   "source": [
    "a_dict = {'one':1 , 'three':3, 'two':2, 'thirty four':34}\n",
    "keys = a_dict.keys()\n",
    "sorted(keys)\n",
    "\n",
    "for key_2 in keys :\n",
    "    print(key_2)\n",
    "\n",
    "# not working"
   ]
  },
  {
   "cell_type": "code",
   "execution_count": 20,
   "metadata": {},
   "outputs": [
    {
     "name": "stdout",
     "output_type": "stream",
     "text": [
      "0\n",
      "2\n",
      "4\n",
      "6\n",
      "8\n"
     ]
    }
   ],
   "source": [
    "for number in range(10):\n",
    "    if number % 2 == 0:\n",
    "        print(number)"
   ]
  },
  {
   "cell_type": "code",
   "execution_count": null,
   "metadata": {},
   "outputs": [],
   "source": []
  },
  {
   "cell_type": "markdown",
   "metadata": {},
   "source": [
    "# combining if and for loop"
   ]
  },
  {
   "cell_type": "code",
   "execution_count": 24,
   "metadata": {},
   "outputs": [
    {
     "name": "stdout",
     "output_type": "stream",
     "text": [
      "Month :  1 Expenses :  1145\n",
      "Month :  2 Expenses :  2659\n",
      "Month :  3 Expenses :  3549\n",
      "Month :  4 Expenses :  4589\n",
      "Month :  5 Expenses :  5648\n",
      "Month :  6 Expenses :  6621\n",
      "Month :  7 Expenses :  7145\n",
      "\n",
      "\n",
      "Total for the period is : 31356\n"
     ]
    }
   ],
   "source": [
    "\n",
    "\n",
    "exp = [1145, 2659, 3549, 4589, 5648, 6621, 7145]\n",
    "total = 0\n",
    "for e in range(len(exp)) :\n",
    "    print('Month : ',(e + 1), 'Expenses : ',exp[e])\n",
    "    total = total + exp[e]\n",
    "print()\n",
    "print()\n",
    "print('Total for the period is :', total)\n",
    "\n"
   ]
  },
  {
   "cell_type": "code",
   "execution_count": 4,
   "metadata": {},
   "outputs": [
    {
     "name": "stdout",
     "output_type": "stream",
     "text": [
      "['bread', 'butter', 'jelly', 'cheese', 'honey', 'egg', 'cream']\n",
      "['bread', 'butter', 'jelly', 'cheese', 'honey', 'egg', 'cream']\n",
      "['bread', 'butter', 'jelly', 'cheese', 'honey', 'egg', 'cream']\n",
      "['bread', 'butter', 'jelly', 'cheese', 'honey', 'egg', 'cream']\n",
      "['bread', 'butter', 'jelly', 'cheese', 'honey', 'egg', 'cream']\n",
      "['bread', 'butter', 'jelly', 'cheese', 'honey', 'egg', 'cream']\n"
     ]
    }
   ],
   "source": [
    "Grocery_list = ['bread','butter','jelly','cheese','honey','egg','cream']\n",
    "for G in range(0,6) :\n",
    "    print(Grocery_list)"
   ]
  },
  {
   "cell_type": "code",
   "execution_count": 6,
   "metadata": {},
   "outputs": [
    {
     "name": "stdout",
     "output_type": "stream",
     "text": [
      "13 38\n",
      "14 39\n",
      "15 40\n",
      "16 41\n",
      "17 42\n",
      "18 43\n",
      "19 44\n",
      "20 45\n",
      "21 46\n",
      "22 47\n",
      "23 48\n",
      "24 49\n",
      "25 50\n"
     ]
    }
   ],
   "source": [
    "c = 12\n",
    "d = 37\n",
    "\n",
    "while c<25 and d<62 :\n",
    "    c = c + 1\n",
    "    d = d + 1\n",
    "    print(c,d)\n"
   ]
  },
  {
   "cell_type": "code",
   "execution_count": 7,
   "metadata": {},
   "outputs": [
    {
     "name": "stdout",
     "output_type": "stream",
     "text": [
      "['bread', 'butter', 'jelly', 'cheese', 'honey', 'egg', 'cream']\n",
      "['bread', 'butter', 'jelly', 'cheese', 'honey', 'egg', 'cream']\n",
      "['bread', 'butter', 'jelly', 'cheese', 'honey', 'egg', 'cream']\n",
      "['bread', 'butter', 'jelly', 'cheese', 'honey', 'egg', 'cream']\n",
      "['bread', 'butter', 'jelly', 'cheese', 'honey', 'egg', 'cream']\n",
      "['bread', 'butter', 'jelly', 'cheese', 'honey', 'egg', 'cream']\n",
      "['bread', 'butter', 'jelly', 'cheese', 'honey', 'egg', 'cream']\n"
     ]
    }
   ],
   "source": [
    "Grocery_list = ['bread','butter','jelly','cheese','honey','egg','cream']\n",
    "for f in Grocery_list :\n",
    "    print(Grocery_list)"
   ]
  },
  {
   "cell_type": "code",
   "execution_count": 11,
   "metadata": {},
   "outputs": [
    {
     "name": "stdout",
     "output_type": "stream",
     "text": [
      "salam\n",
      "salam\n",
      "salam\n",
      "salam\n",
      "salam\n",
      "salam\n",
      "salam\n"
     ]
    }
   ],
   "source": [
    "for k in range(0,7):\n",
    "    print('salam')"
   ]
  },
  {
   "cell_type": "code",
   "execution_count": 13,
   "metadata": {},
   "outputs": [
    {
     "name": "stdout",
     "output_type": "stream",
     "text": [
      "salam 0\n",
      "salam 1\n",
      "salam 2\n",
      "salam 3\n",
      "salam 4\n",
      "salam 5\n"
     ]
    }
   ],
   "source": [
    "for x in range(0,6):\n",
    "    print('salam %s' %x)"
   ]
  },
  {
   "cell_type": "code",
   "execution_count": 17,
   "metadata": {},
   "outputs": [
    {
     "name": "stdout",
     "output_type": "stream",
     "text": [
      "salam 0\n",
      "salam 1\n",
      "salam 2\n",
      "salam 3\n",
      "salam 4\n",
      "salam 5\n"
     ]
    }
   ],
   "source": [
    "for x in range(0,6):\n",
    "    print('salam %s' %x)"
   ]
  },
  {
   "cell_type": "code",
   "execution_count": 3,
   "metadata": {},
   "outputs": [
    {
     "name": "stdout",
     "output_type": "stream",
     "text": [
      "salam 0\n",
      "salam 1\n",
      "salam 2\n",
      "salam 3\n",
      "salam 4\n",
      "salam 5\n"
     ]
    }
   ],
   "source": [
    "for x in range(0,6):\n",
    "    print(\"salam\",(x))"
   ]
  },
  {
   "cell_type": "markdown",
   "metadata": {},
   "source": [
    "# Enumerate Function    "
   ]
  },
  {
   "cell_type": "code",
   "execution_count": 7,
   "metadata": {},
   "outputs": [
    {
     "name": "stdout",
     "output_type": "stream",
     "text": [
      "muhammad\n",
      "Poonum\n",
      "Ali\n"
     ]
    }
   ],
   "source": [
    "names = [\"muhammad\", \"Raza\", \"Poonum\", \"Ali\"]\n",
    "for i in range(0,len(names)):\n",
    "    if i is not 1:\n",
    "        print(names[i])"
   ]
  },
  {
   "cell_type": "code",
   "execution_count": 3,
   "metadata": {},
   "outputs": [
    {
     "name": "stdout",
     "output_type": "stream",
     "text": [
      "muhammad\n",
      "Raza\n",
      "Ali\n"
     ]
    }
   ],
   "source": [
    "names = [\"muhammad\", \"Raza\", \"Poonum\", \"Ali\"]\n",
    "for index, item in enumerate (names):\n",
    "    if index is not 2:\n",
    "        print(item)"
   ]
  },
  {
   "cell_type": "code",
   "execution_count": 6,
   "metadata": {},
   "outputs": [
    {
     "name": "stdout",
     "output_type": "stream",
     "text": [
      "muhammad\n",
      "Raza\n",
      "Poonum\n"
     ]
    }
   ],
   "source": [
    "names = [\"muhammad\", \"Raza\", \"Poonum\", \"Ali\"]\n",
    "for j, item in enumerate (names):\n",
    "    if j is not 3:\n",
    "        print(item)"
   ]
  },
  {
   "cell_type": "code",
   "execution_count": null,
   "metadata": {},
   "outputs": [],
   "source": []
  },
  {
   "cell_type": "code",
   "execution_count": null,
   "metadata": {},
   "outputs": [],
   "source": []
  },
  {
   "cell_type": "code",
   "execution_count": null,
   "metadata": {},
   "outputs": [],
   "source": []
  },
  {
   "cell_type": "code",
   "execution_count": null,
   "metadata": {},
   "outputs": [],
   "source": []
  },
  {
   "cell_type": "code",
   "execution_count": null,
   "metadata": {},
   "outputs": [],
   "source": []
  },
  {
   "cell_type": "code",
   "execution_count": null,
   "metadata": {},
   "outputs": [],
   "source": []
  },
  {
   "cell_type": "code",
   "execution_count": null,
   "metadata": {},
   "outputs": [],
   "source": []
  }
 ],
 "metadata": {
  "kernelspec": {
   "display_name": "Python 3",
   "language": "python",
   "name": "python3"
  },
  "language_info": {
   "codemirror_mode": {
    "name": "ipython",
    "version": 3
   },
   "file_extension": ".py",
   "mimetype": "text/x-python",
   "name": "python",
   "nbconvert_exporter": "python",
   "pygments_lexer": "ipython3",
   "version": "3.7.4"
  }
 },
 "nbformat": 4,
 "nbformat_minor": 2
}
