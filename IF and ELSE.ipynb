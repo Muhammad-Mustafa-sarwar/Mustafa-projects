{
 "cells": [
  {
   "cell_type": "markdown",
   "metadata": {},
   "source": [
    "# combinig IF , IN and Input \n"
   ]
  },
  {
   "cell_type": "code",
   "execution_count": 1,
   "metadata": {},
   "outputs": [
    {
     "name": "stdout",
     "output_type": "stream",
     "text": [
      "enter a dish name :samosa\n",
      "\n",
      " samosa is indian cuisine\n"
     ]
    }
   ],
   "source": [
    "\n",
    "\n",
    "indian = ['samosa','daal','naan','nihari','biryani']\n",
    "chinese = ['fried rice','manchurian','shashlek','egg roll','chao min']\n",
    "italian = ['pizza','pasta','risotto']\n",
    "\n",
    "\n",
    "dish = input(\"enter a dish name :\")\n",
    "if dish in indian :\n",
    "    print(\"\\n %s is indian cuisine\" %dish)\n",
    "    \n",
    "elif dish in chinese :\n",
    "    print(\"\\n %s is chinese cuisine\" %dish)\n",
    "    \n",
    "elif dish in italian :\n",
    "    print(\"\\n %s is italian cuisine\" %dish)\n",
    "    \n",
    "else :\n",
    "    print(\"\\n On the base on my little knowledge i don't know what dish is \",dish )"
   ]
  },
  {
   "cell_type": "markdown",
   "metadata": {},
   "source": [
    "# for sidra\n"
   ]
  },
  {
   "cell_type": "code",
   "execution_count": null,
   "metadata": {},
   "outputs": [],
   "source": [
    "\n",
    "\n",
    "age = 30\n",
    "\n",
    "if age <15 :\n",
    "    print(\"\\n oh! %s you are too little for play the game.\" %age)\n",
    "else :\n",
    "    print(\"Hum! %s Permission granted\" %age)"
   ]
  },
  {
   "cell_type": "code",
   "execution_count": 42,
   "metadata": {},
   "outputs": [
    {
     "name": "stdout",
     "output_type": "stream",
     "text": [
      "your name is hoorya and you are a monkey too.\n"
     ]
    }
   ],
   "source": [
    "name = \"hoorya\"\n",
    "if name == \"sidra\" :\n",
    "    print(\"your name is %s and you are a monkey\" %name)\n",
    "elif name == \"hoorya\" :\n",
    "    print(\"your name is %s and you are a monkey too.\" %name)"
   ]
  },
  {
   "cell_type": "code",
   "execution_count": 61,
   "metadata": {},
   "outputs": [
    {
     "name": "stdout",
     "output_type": "stream",
     "text": [
      "\n",
      " Oh! tuesday there are alot of choices , you can make daal, vegetables, or something light.\n"
     ]
    }
   ],
   "source": [
    "day = 'tuesday'\n",
    "\n",
    "if day == 'tuesday' or day == 'monday' or day == 'wednesday' or day == 'thursday' or day == 'satarday' :\n",
    "    print('\\n Oh! %s there are alot of choices , you can make daal, vegetables, or something light.' %day)\n",
    "    \n",
    "else :\n",
    "    print('hey! it\\'s %s ... means some thing special should be in the menu' %day)"
   ]
  },
  {
   "cell_type": "code",
   "execution_count": 63,
   "metadata": {},
   "outputs": [
    {
     "name": "stdout",
     "output_type": "stream",
     "text": [
      "\n",
      " Hey it's sunday ! alot of choices for today something special, means Biryani, Qeema,  Chicken Etc.\n"
     ]
    }
   ],
   "source": [
    "day = 'sunday'\n",
    "\n",
    "if day == 'satarday' or day == 'monday' :\n",
    "    print(\"\\n Oh it's %s you should make something light today, why don't you try daal today.\" %day)\n",
    "    \n",
    "elif day == 'friday' or day == 'sunday' :\n",
    "    print(\"\\n Hey it's %s ! alot of choices for today something special, means Biryani, Qeema,  Chicken Etc.\" %day)\n",
    "    \n",
    "else :\n",
    "    print(\"\\n Oh! %s vegetable day, so simple ha ha ha.\" %day)"
   ]
  },
  {
   "cell_type": "code",
   "execution_count": 52,
   "metadata": {},
   "outputs": [
    {
     "name": "stdout",
     "output_type": "stream",
     "text": [
      "what is your hair colour? brown !\n",
      "\n",
      " your hair colour is 'brown' and you may not belong to asia.\n"
     ]
    }
   ],
   "source": [
    "colour = \"brown\"\n",
    "\n",
    "print(\"what is your hair colour? %s !\" %colour)\n",
    "if colour == \"black\" :\n",
    "    print(\"\\n So your hair colour is '%s' and you may belong to Asia\" %colour)\n",
    "    \n",
    "else :\n",
    "    print(\"\\n your hair colour is '%s' and you may not belong to asia.\" %colour)"
   ]
  },
  {
   "cell_type": "code",
   "execution_count": 5,
   "metadata": {},
   "outputs": [
    {
     "name": "stdout",
     "output_type": "stream",
     "text": [
      "your hair colour is brown you may be asian\n"
     ]
    }
   ],
   "source": [
    "colour = \"brown\"\n",
    "if colour == \"brown\" :\n",
    "    print(\"your hair colour is\",colour, \"you may be asian\" )"
   ]
  },
  {
   "cell_type": "code",
   "execution_count": 8,
   "metadata": {},
   "outputs": [
    {
     "name": "stdout",
     "output_type": "stream",
     "text": [
      "Oh! 175 it is too much\n"
     ]
    }
   ],
   "source": [
    " toys = 175\n",
    "if toys > 150 :\n",
    "    print(\"Oh!\", toys, \"it is too much\")\n",
    "    "
   ]
  },
  {
   "cell_type": "code",
   "execution_count": 11,
   "metadata": {},
   "outputs": [
    {
     "name": "stdout",
     "output_type": "stream",
     "text": [
      "Enter a day :sunday\n",
      "hey it's sunday let's have biryani today\n"
     ]
    }
   ],
   "source": [
    "day = input(\"Enter a day :\")\n",
    "\n",
    "if day == \"sunday\" :\n",
    "    print(\"hey it's\" ,day,\"let's have biryani today\")"
   ]
  },
  {
   "cell_type": "code",
   "execution_count": 1,
   "metadata": {},
   "outputs": [
    {
     "name": "stdout",
     "output_type": "stream",
     "text": [
      "var_1 is greater then var_2\n"
     ]
    }
   ],
   "source": [
    "var_1 = 125\n",
    "var_2 = 25\n",
    "\n",
    "if var_1 > var_2 :\n",
    "    print('var_1 is greater then var_2')"
   ]
  },
  {
   "cell_type": "code",
   "execution_count": 3,
   "metadata": {},
   "outputs": [
    {
     "name": "stdout",
     "output_type": "stream",
     "text": [
      "var_1 is not greater then var_2\n"
     ]
    }
   ],
   "source": [
    "var_1 = 25\n",
    "var_2 = 125\n",
    "\n",
    "if var_1 < var_2 :\n",
    "    print('var_1 is not greater then var_2')"
   ]
  },
  {
   "cell_type": "code",
   "execution_count": 8,
   "metadata": {},
   "outputs": [
    {
     "name": "stdout",
     "output_type": "stream",
     "text": [
      "i'd still pay that...\n"
     ]
    }
   ],
   "source": [
    "value = 19\n",
    " \n",
    "if value < 10 :\n",
    "    print('Great it is a good deal ')\n",
    "    \n",
    "elif 10 <= value <= 20 :\n",
    "    print(\"i'd still pay that...\")\n",
    "    \n",
    "else :\n",
    "    print(\"wow! that's too much\")"
   ]
  },
  {
   "cell_type": "markdown",
   "metadata": {},
   "source": [
    "# use of or & and with if & else"
   ]
  },
  {
   "cell_type": "code",
   "execution_count": 11,
   "metadata": {},
   "outputs": [
    {
     "name": "stdout",
     "output_type": "stream",
     "text": [
      "permission not granted\n"
     ]
    }
   ],
   "source": [
    "x = 12\n",
    "y = 19\n",
    "\n",
    "if x >= 14 or y <= 18 :\n",
    "    print('permission granted')\n",
    "else :\n",
    "    print(\"permission not granted\")"
   ]
  },
  {
   "cell_type": "code",
   "execution_count": 13,
   "metadata": {},
   "outputs": [
    {
     "name": "stdout",
     "output_type": "stream",
     "text": [
      "some thing went wrong\n"
     ]
    }
   ],
   "source": [
    "x = 12\n",
    "y = 17\n",
    "\n",
    "if x == 12 and y == 18 :\n",
    "    print(\"okey you are allowed\")\n",
    "else:\n",
    "    print(\"some thing went wrong\")"
   ]
  },
  {
   "cell_type": "code",
   "execution_count": 17,
   "metadata": {},
   "outputs": [
    {
     "name": "stdout",
     "output_type": "stream",
     "text": [
      "you have dialed incorrect pin code\n"
     ]
    }
   ],
   "source": [
    "x = 1544\n",
    "\n",
    "if x != 1501 :\n",
    "    print(\"you have dialed incorrect pin code\")\n",
    "else :\n",
    "    print(\"well come back\")"
   ]
  },
  {
   "cell_type": "code",
   "execution_count": 19,
   "metadata": {},
   "outputs": [
    {
     "name": "stdout",
     "output_type": "stream",
     "text": [
      "oops\n"
     ]
    }
   ],
   "source": [
    "grand_total = [154,'invalid', 56, 789, 'deal closed']\n",
    "\n",
    "if 'deal finalized' not in grand_total :\n",
    "    print('oops')"
   ]
  },
  {
   "cell_type": "code",
   "execution_count": 20,
   "metadata": {},
   "outputs": [
    {
     "name": "stdout",
     "output_type": "stream",
     "text": [
      "x is not found in list\n"
     ]
    }
   ],
   "source": [
    "final_bill = [154, 489, 123, 452, 852, 7489]\n",
    "x = 7589\n",
    "\n",
    "if x not in final_bill :\n",
    "    print('x is not found in list')\n",
    "    "
   ]
  },
  {
   "cell_type": "code",
   "execution_count": null,
   "metadata": {},
   "outputs": [],
   "source": []
  },
  {
   "cell_type": "code",
   "execution_count": null,
   "metadata": {},
   "outputs": [],
   "source": []
  },
  {
   "cell_type": "code",
   "execution_count": null,
   "metadata": {},
   "outputs": [],
   "source": []
  }
 ],
 "metadata": {
  "kernelspec": {
   "display_name": "Python 3",
   "language": "python",
   "name": "python3"
  },
  "language_info": {
   "codemirror_mode": {
    "name": "ipython",
    "version": 3
   },
   "file_extension": ".py",
   "mimetype": "text/x-python",
   "name": "python",
   "nbconvert_exporter": "python",
   "pygments_lexer": "ipython3",
   "version": "3.7.4"
  }
 },
 "nbformat": 4,
 "nbformat_minor": 2
}
