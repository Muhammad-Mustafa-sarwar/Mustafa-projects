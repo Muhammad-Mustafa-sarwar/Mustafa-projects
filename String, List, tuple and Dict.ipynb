{
 "cells": [
  {
   "cell_type": "code",
   "execution_count": 2,
   "metadata": {},
   "outputs": [
    {
     "name": "stdout",
     "output_type": "stream",
     "text": [
      "['surf', 'hand wash', 'bath soap']\n"
     ]
    }
   ],
   "source": [
    "my_list = ['surf', 'hand wash', 'bath soap']\n",
    "print(my_list)"
   ]
  },
  {
   "cell_type": "code",
   "execution_count": 4,
   "metadata": {},
   "outputs": [
    {
     "name": "stdout",
     "output_type": "stream",
     "text": [
      "['surf', 'hand wash', 'bath soap']\n"
     ]
    }
   ],
   "source": [
    "my_list = ['surf', 'hand wash', 'bath soap']\n",
    "print(my_list)"
   ]
  },
  {
   "cell_type": "code",
   "execution_count": 4,
   "metadata": {},
   "outputs": [
    {
     "name": "stdout",
     "output_type": "stream",
     "text": [
      "hand wash\n"
     ]
    }
   ],
   "source": [
    "print(my_list[1])"
   ]
  },
  {
   "cell_type": "code",
   "execution_count": 5,
   "metadata": {},
   "outputs": [
    {
     "name": "stdout",
     "output_type": "stream",
     "text": [
      "hand wash\n"
     ]
    }
   ],
   "source": [
    "print(my_list[1])"
   ]
  },
  {
   "cell_type": "code",
   "execution_count": 6,
   "metadata": {},
   "outputs": [
    {
     "name": "stdout",
     "output_type": "stream",
     "text": [
      "hand wash\n"
     ]
    }
   ],
   "source": [
    "print(my_list[1])"
   ]
  },
  {
   "cell_type": "markdown",
   "metadata": {},
   "source": [
    "# find the type and class "
   ]
  },
  {
   "cell_type": "code",
   "execution_count": null,
   "metadata": {},
   "outputs": [],
   "source": [
    "\n",
    "\n",
    "\n",
    "my_list = ['surf', 'hand wash', 'bath soap']\n",
    "print(\"my_list : \", type(my_list))\n",
    "print(my_list)"
   ]
  },
  {
   "cell_type": "code",
   "execution_count": 8,
   "metadata": {},
   "outputs": [
    {
     "name": "stdout",
     "output_type": "stream",
     "text": [
      "hand wash\n"
     ]
    }
   ],
   "source": [
    "print(my_list[1])"
   ]
  },
  {
   "cell_type": "code",
   "execution_count": 7,
   "metadata": {},
   "outputs": [
    {
     "name": "stdout",
     "output_type": "stream",
     "text": [
      "hand wash\n"
     ]
    }
   ],
   "source": [
    "my_list = ['surf', 'hand wash', 'bath soap']\n",
    "print(my_list[1])"
   ]
  },
  {
   "cell_type": "markdown",
   "metadata": {},
   "source": [
    "# change the value in a list"
   ]
  },
  {
   "cell_type": "code",
   "execution_count": 152,
   "metadata": {},
   "outputs": [
    {
     "name": "stdout",
     "output_type": "stream",
     "text": [
      "['surf', 'hand wash', 'bath soap']\n",
      "\n",
      "\n",
      "\n",
      "\n",
      "['surf', 'shampoo', 'bath soap']\n"
     ]
    }
   ],
   "source": [
    "\n",
    "\n",
    "\n",
    "my_list = ['surf', 'hand wash', 'bath soap']\n",
    "print(my_list)\n",
    "print()\n",
    "print()\n",
    "print()\n",
    "print()\n",
    "my_list[1] = 'shampoo'\n",
    "print(my_list)"
   ]
  },
  {
   "cell_type": "code",
   "execution_count": 8,
   "metadata": {},
   "outputs": [
    {
     "name": "stdout",
     "output_type": "stream",
     "text": [
      "['surf', 'hand wash', 'bath soap']\n"
     ]
    }
   ],
   "source": [
    "my_list = ['surf', 'hand wash', 'bath soap']\n",
    "print(my_list)"
   ]
  },
  {
   "cell_type": "markdown",
   "metadata": {},
   "source": [
    "# List & Slicing\n"
   ]
  },
  {
   "cell_type": "code",
   "execution_count": 50,
   "metadata": {},
   "outputs": [
    {
     "name": "stdout",
     "output_type": "stream",
     "text": [
      "['daal', 'Oil', 'ghee', 'Tea', 'detergent', 'Macroni', 'jelly']\n",
      "['daal', 'Oil', 'ghee', 'Tea']\n",
      "Macroni\n",
      "['Oil', 'ghee']\n",
      "['ghee', 'Tea', 'detergent', 'Macroni', 'jelly']\n",
      "['Oil', 'ghee', 'Tea', 'detergent', 'Macroni']\n",
      "\n",
      "\n",
      "\n",
      "[]\n",
      "\n",
      "\n",
      "['Macroni', 'jelly']\n",
      "['Macroni']\n"
     ]
    }
   ],
   "source": [
    "\n",
    "\n",
    "Imrun_List = ['daal', 'Oil', 'ghee', 'Tea', 'detergent', 'Macroni', 'jelly']\n",
    "print(Imrun_List)\n",
    "print(Imrun_List[0:4])\n",
    "print(Imrun_List[5])\n",
    "print(Imrun_List[1:3])\n",
    "print(Imrun_List[2:7])\n",
    "print(Imrun_List[1:6])\n",
    "\n",
    "print()\n",
    "print()\n",
    "print()\n",
    "print(Imrun_List[4:3])\n",
    "print()\n",
    "print()\n",
    "\n",
    "print(Imrun_List[5:7])\n",
    "print(Imrun_List[5:6])"
   ]
  },
  {
   "cell_type": "code",
   "execution_count": 53,
   "metadata": {},
   "outputs": [
    {
     "name": "stdout",
     "output_type": "stream",
     "text": [
      "['daal', 'Oil', 'ghee', 'Tea', 'detergent', 'Macroni', 'jelly']\n"
     ]
    }
   ],
   "source": [
    "Imrun_List = ['daal', 'Oil', 'ghee', 'Tea', 'detergent', 'Macroni', 'jelly']\n",
    "print(Imrun_List)\n",
    "\n"
   ]
  },
  {
   "cell_type": "code",
   "execution_count": 54,
   "metadata": {},
   "outputs": [
    {
     "name": "stdout",
     "output_type": "stream",
     "text": [
      "['daal', 'Oil', 'ghee', 'Tea', 'detergent', 'Macroni', 'jelly']\n",
      "\n",
      "\n",
      "\n",
      "\n"
     ]
    },
    {
     "data": {
      "text/plain": [
       "['daal', 'Oil', 'ghee', 'Tea', 'detergent', 'Macroni', 'jelly']"
      ]
     },
     "execution_count": 54,
     "metadata": {},
     "output_type": "execute_result"
    }
   ],
   "source": [
    "print(Imrun_List)\n",
    "print()\n",
    "print()\n",
    "print()\n",
    "print()\n",
    "Imrun_List = ['daal', 'Oil', 'ghee', 'Tea', 'detergent', 'Macroni', 'jelly']\n",
    "(Imrun_List)\n"
   ]
  },
  {
   "cell_type": "markdown",
   "metadata": {},
   "source": [
    "# list including numbers & string\n"
   ]
  },
  {
   "cell_type": "code",
   "execution_count": 15,
   "metadata": {},
   "outputs": [
    {
     "name": "stdout",
     "output_type": "stream",
     "text": [
      "[6, 5, 7, 1, 3, 9, 0, 54, 87]\n",
      "\n",
      "\n",
      "\n",
      "\n",
      "['why', 'was', 'afraid', 'of', 'fall']\n",
      "\n",
      "\n",
      "\n",
      "[6, 5, 7, 1, 3, 9, 0, 54, 87, 'why', 'was', 'afraid', 'of', 'fall']\n",
      "\n",
      "\n",
      "\n",
      "[[6, 5, 7, 1, 3, 9, 0, 54, 87], ['why', 'was', 'afraid', 'of', 'fall']]\n"
     ]
    }
   ],
   "source": [
    "\n",
    "\n",
    "num = [6,5,7,1,3,9,0,54,87]\n",
    "print(num)\n",
    "\n",
    "print()\n",
    "print()\n",
    "print()\n",
    "print()\n",
    "\n",
    "\n",
    "string = ['why','was','afraid', 'of', 'fall']\n",
    "print(string)\n",
    "print()\n",
    "print()\n",
    "print()\n",
    "\n",
    "\n",
    "\n",
    "# Nested list in a list\n",
    "\n",
    "\n",
    "print(num + string)\n",
    "print()\n",
    "print()\n",
    "print()\n",
    "my_list = [num, string]\n",
    "print(my_list)\n"
   ]
  },
  {
   "cell_type": "markdown",
   "metadata": {},
   "source": [
    "# Editing an existing list"
   ]
  },
  {
   "cell_type": "code",
   "execution_count": 57,
   "metadata": {},
   "outputs": [
    {
     "name": "stdout",
     "output_type": "stream",
     "text": [
      "['detergent', 'soap', 'polish', 'oil', 'biscuits']\n",
      "\n",
      "\n",
      "\n",
      "['detergent', 'soap', 'polish', 'oil', 'biscuits', 'chocolates', 'cold drinks', 'cup cakes']\n",
      "\n",
      "\n",
      "\n",
      "\n",
      "['detergent', 'polish', 'oil', 'biscuits', 'chocolates', 'cold drinks', 'cup cakes']\n",
      "\n",
      "\n",
      "\n",
      "['detergent', 'polish', 'oil', 'biscuits', 'chocolates', 'cold drinks', 'cup cakes', 'detergent', 'polish', 'oil', 'biscuits', 'chocolates', 'cold drinks', 'cup cakes', 'detergent', 'polish', 'oil', 'biscuits', 'chocolates', 'cold drinks', 'cup cakes', 'detergent', 'polish', 'oil', 'biscuits', 'chocolates', 'cold drinks', 'cup cakes', 'detergent', 'polish', 'oil', 'biscuits', 'chocolates', 'cold drinks', 'cup cakes']\n"
     ]
    }
   ],
   "source": [
    "\n",
    "\n",
    "list_101 = ['detergent', 'soap', 'polish', 'oil', 'biscuits',]\n",
    "print(list_101)\n",
    "print()\n",
    "print()\n",
    "print()\n",
    "list_101.append('chocolates')\n",
    "list_101.append('cold drinks')\n",
    "list_101.append('cup cakes')\n",
    "print(list_101)\n",
    "print()\n",
    "print()\n",
    "print()\n",
    "print()\n",
    "\n",
    "# deleting an item from a list\n",
    "\n",
    "\n",
    "del list_101[1]\n",
    "print(list_101)\n",
    "\n",
    "# multiplying the list\n",
    "\n",
    "\n",
    "print()\n",
    "print()\n",
    "print()\n",
    "print(list_101*5)\n",
    "\n"
   ]
  },
  {
   "cell_type": "markdown",
   "metadata": {},
   "source": [
    "# list with range function"
   ]
  },
  {
   "cell_type": "code",
   "execution_count": 18,
   "metadata": {},
   "outputs": [
    {
     "name": "stdout",
     "output_type": "stream",
     "text": [
      "[10, 11, 12, 13, 14, 15, 16, 17, 18, 19]\n"
     ]
    }
   ],
   "source": [
    "\n",
    "\n",
    "\n",
    "print(list(range(10,20)))"
   ]
  },
  {
   "cell_type": "markdown",
   "metadata": {},
   "source": [
    "# Sorting out a list"
   ]
  },
  {
   "cell_type": "code",
   "execution_count": 19,
   "metadata": {},
   "outputs": [
    {
     "name": "stdout",
     "output_type": "stream",
     "text": [
      "[12, 19, 26, 32, 42, 69, 96]\n"
     ]
    }
   ],
   "source": [
    "fusion_list = [12,42,96,69,26,32,19]\n",
    "fusion_list.sort()\n",
    "print(fusion_list)"
   ]
  },
  {
   "cell_type": "markdown",
   "metadata": {},
   "source": [
    "# Nested list"
   ]
  },
  {
   "cell_type": "code",
   "execution_count": 21,
   "metadata": {},
   "outputs": [
    {
     "name": "stdout",
     "output_type": "stream",
     "text": [
      "[[1, 2, 3, 65, 12], ['hook', 'van', 'lamp', 'table', 'bike'], [1, 'bolt', 23, 'milk', 'bread', 47]]\n"
     ]
    }
   ],
   "source": [
    "list_one = [1,2,3,65,12]\n",
    "list_two = ['hook', 'van', 'lamp', 'table', 'bike']\n",
    "list_three = [1, 'bolt', 23, 'milk', 'bread', 47]\n",
    "my_nested_list = [list_one, list_two, list_three]\n",
    "print(my_nested_list)"
   ]
  },
  {
   "cell_type": "code",
   "execution_count": null,
   "metadata": {},
   "outputs": [],
   "source": []
  },
  {
   "cell_type": "code",
   "execution_count": null,
   "metadata": {},
   "outputs": [],
   "source": []
  },
  {
   "cell_type": "markdown",
   "metadata": {},
   "source": [
    "# Maps or Dictionary\n"
   ]
  },
  {
   "cell_type": "code",
   "execution_count": 22,
   "metadata": {},
   "outputs": [
    {
     "name": "stdout",
     "output_type": "stream",
     "text": [
      "{'faizan': 'cricket', 'omer': 'football', 'kashif': 'hockey', 'bilal': 'rugby'}\n"
     ]
    }
   ],
   "source": [
    "\n",
    "fav_sport = {'faizan':'cricket', 'omer':'football', 'kashif':'hockey', 'bilal':'rugby'}\n",
    "print(fav_sport)\n"
   ]
  },
  {
   "cell_type": "code",
   "execution_count": 23,
   "metadata": {},
   "outputs": [
    {
     "name": "stdout",
     "output_type": "stream",
     "text": [
      "{'faizan': 'cricket', 'omer': 'football', 'kashif': 'hockey', 'bilal': 'rugby'}\n"
     ]
    }
   ],
   "source": [
    "print(fav_sport)"
   ]
  },
  {
   "cell_type": "code",
   "execution_count": 25,
   "metadata": {},
   "outputs": [
    {
     "name": "stdout",
     "output_type": "stream",
     "text": [
      "rugby\n"
     ]
    }
   ],
   "source": [
    "print(fav_sport['bilal'])"
   ]
  },
  {
   "cell_type": "markdown",
   "metadata": {},
   "source": [
    "# retreive all keys\n"
   ]
  },
  {
   "cell_type": "code",
   "execution_count": 26,
   "metadata": {},
   "outputs": [
    {
     "data": {
      "text/plain": [
       "dict_keys(['faizan', 'omer', 'kashif', 'bilal'])"
      ]
     },
     "execution_count": 26,
     "metadata": {},
     "output_type": "execute_result"
    }
   ],
   "source": [
    "\n",
    "\n",
    "fav_sport.keys()"
   ]
  },
  {
   "cell_type": "markdown",
   "metadata": {},
   "source": [
    "# retreive all values"
   ]
  },
  {
   "cell_type": "code",
   "execution_count": 25,
   "metadata": {},
   "outputs": [
    {
     "data": {
      "text/plain": [
       "dict_values(['cricket', 'football', 'hockey', 'basket ball'])"
      ]
     },
     "execution_count": 25,
     "metadata": {},
     "output_type": "execute_result"
    }
   ],
   "source": [
    "\n",
    "\n",
    "fav_sport.values()"
   ]
  },
  {
   "cell_type": "code",
   "execution_count": 27,
   "metadata": {},
   "outputs": [
    {
     "name": "stdout",
     "output_type": "stream",
     "text": [
      "{'faizan': 'cricket', 'omer': 'football', 'kashif': 'hockey', 'bilal': 'rugby'}\n"
     ]
    }
   ],
   "source": [
    "fav_sport['bilal']:'basket ball'  # not working\n",
    "print(fav_sport)"
   ]
  },
  {
   "cell_type": "markdown",
   "metadata": {},
   "source": [
    "# changing the value of keys in a dictionary"
   ]
  },
  {
   "cell_type": "code",
   "execution_count": 28,
   "metadata": {},
   "outputs": [
    {
     "name": "stdout",
     "output_type": "stream",
     "text": [
      "{'faizan': 'cricket', 'omer': 'football', 'kashif': 'hockey', 'bilal': 'basket ball'}\n"
     ]
    }
   ],
   "source": [
    "\n",
    "\n",
    "\n",
    "fav_sport['bilal'] = 'basket ball'\n",
    "print(fav_sport)"
   ]
  },
  {
   "cell_type": "markdown",
   "metadata": {},
   "source": [
    "# Appending more keys in same dictionary"
   ]
  },
  {
   "cell_type": "code",
   "execution_count": 29,
   "metadata": {},
   "outputs": [
    {
     "name": "stdout",
     "output_type": "stream",
     "text": [
      "{'faizan': 'cricket', 'omer': 'football', 'kashif': 'hockey', 'bilal': 'basket ball', 'khizar': 'golf'}\n"
     ]
    }
   ],
   "source": [
    "\n",
    "\n",
    "fav_sport['khizar'] = 'golf'\n",
    "    \n",
    "print(fav_sport)"
   ]
  },
  {
   "cell_type": "markdown",
   "metadata": {},
   "source": [
    "# deleting a key from a dictionary\n"
   ]
  },
  {
   "cell_type": "code",
   "execution_count": 35,
   "metadata": {},
   "outputs": [
    {
     "name": "stdout",
     "output_type": "stream",
     "text": [
      "{'faizan': 'cricket', 'omer': 'football'}\n"
     ]
    }
   ],
   "source": [
    "\n",
    "\n",
    "del fav_sport['bilal']\n",
    "print(fav_sport)"
   ]
  },
  {
   "cell_type": "code",
   "execution_count": 37,
   "metadata": {},
   "outputs": [
    {
     "name": "stdout",
     "output_type": "stream",
     "text": [
      "{'faizan': 'cricket', 'omer': 'football', 'bilal': 'basket ball'}\n"
     ]
    }
   ],
   "source": [
    "fav_sport['bilal'] = 'basket ball'\n",
    "print(fav_sport)"
   ]
  },
  {
   "cell_type": "code",
   "execution_count": 30,
   "metadata": {},
   "outputs": [
    {
     "name": "stdout",
     "output_type": "stream",
     "text": [
      "{'faizan': 'cricket', 'omer': 'football', 'kashif': 'golf', 'bilal': 'basket ball', 'khizar': 'hockey'}\n"
     ]
    }
   ],
   "source": [
    "fav_sport['kashif'] = 'golf'\n",
    "fav_sport['khizar'] = 'hockey'\n",
    "print(fav_sport)"
   ]
  },
  {
   "cell_type": "markdown",
   "metadata": {},
   "source": [
    "# verifying that a key is in a Dictionary or not\n"
   ]
  },
  {
   "cell_type": "code",
   "execution_count": 45,
   "metadata": {},
   "outputs": [
    {
     "data": {
      "text/plain": [
       "True"
      ]
     },
     "execution_count": 45,
     "metadata": {},
     "output_type": "execute_result"
    }
   ],
   "source": [
    "\n",
    "'omer' in fav_sport\n",
    "\n"
   ]
  },
  {
   "cell_type": "code",
   "execution_count": 44,
   "metadata": {},
   "outputs": [
    {
     "data": {
      "text/plain": [
       "False"
      ]
     },
     "execution_count": 44,
     "metadata": {},
     "output_type": "execute_result"
    }
   ],
   "source": [
    "'nizam' in fav_sport"
   ]
  },
  {
   "cell_type": "code",
   "execution_count": 31,
   "metadata": {},
   "outputs": [],
   "source": [
    "delta ={'sidra' : 'campus 1', 'hoorya' : 'campus 2'}"
   ]
  },
  {
   "cell_type": "markdown",
   "metadata": {},
   "source": [
    "# add 2 dictionaries"
   ]
  },
  {
   "cell_type": "code",
   "execution_count": 32,
   "metadata": {},
   "outputs": [
    {
     "data": {
      "text/plain": [
       "{'faizan': 'cricket',\n",
       " 'omer': 'football',\n",
       " 'kashif': 'golf',\n",
       " 'bilal': 'basket ball',\n",
       " 'khizar': 'hockey',\n",
       " 'sidra': 'campus 1',\n",
       " 'hoorya': 'campus 2'}"
      ]
     },
     "execution_count": 32,
     "metadata": {},
     "output_type": "execute_result"
    }
   ],
   "source": [
    "\n",
    "\n",
    "fav_sport.update(delta)\n",
    "fav_sport"
   ]
  },
  {
   "cell_type": "markdown",
   "metadata": {},
   "source": [
    "# only clear the Dictionary"
   ]
  },
  {
   "cell_type": "code",
   "execution_count": 69,
   "metadata": {},
   "outputs": [],
   "source": [
    "\n",
    "\n",
    "delta.clear()"
   ]
  },
  {
   "cell_type": "code",
   "execution_count": 68,
   "metadata": {},
   "outputs": [
    {
     "data": {
      "text/plain": [
       "{}"
      ]
     },
     "execution_count": 68,
     "metadata": {},
     "output_type": "execute_result"
    }
   ],
   "source": [
    "delta"
   ]
  },
  {
   "cell_type": "code",
   "execution_count": 70,
   "metadata": {},
   "outputs": [
    {
     "name": "stdout",
     "output_type": "stream",
     "text": [
      "{'faizan': 'cricket', 'omer': 'football', 'bilal': 'basket ball', 'kashif': 'golf', 'khizar': 'hockey', 'hoorya': 'campus 2'}\n"
     ]
    }
   ],
   "source": [
    "del fav_sport['sidra']\n",
    "print(fav_sport)"
   ]
  },
  {
   "cell_type": "code",
   "execution_count": 33,
   "metadata": {},
   "outputs": [
    {
     "name": "stdout",
     "output_type": "stream",
     "text": [
      "{'faizan': 'cricket', 'omer': 'football', 'kashif': 'golf', 'bilal': 'basket ball', 'khizar': 'hockey', 'sidra': 'campus 1'}\n"
     ]
    }
   ],
   "source": [
    "del fav_sport['hoorya']\n",
    "print(fav_sport)"
   ]
  },
  {
   "cell_type": "markdown",
   "metadata": {},
   "source": [
    "# permanently delete a Dictionary\n"
   ]
  },
  {
   "cell_type": "code",
   "execution_count": 78,
   "metadata": {},
   "outputs": [],
   "source": [
    "\n",
    "del delta"
   ]
  },
  {
   "cell_type": "code",
   "execution_count": 34,
   "metadata": {},
   "outputs": [
    {
     "data": {
      "text/plain": [
       "{'sidra': 'campus 1', 'hoorya': 'campus 2'}"
      ]
     },
     "execution_count": 34,
     "metadata": {},
     "output_type": "execute_result"
    }
   ],
   "source": [
    "delta"
   ]
  },
  {
   "cell_type": "markdown",
   "metadata": {},
   "source": [
    "# use of F string"
   ]
  },
  {
   "cell_type": "code",
   "execution_count": 36,
   "metadata": {},
   "outputs": [
    {
     "name": "stdout",
     "output_type": "stream",
     "text": [
      "hoorya is in class 5\n"
     ]
    },
    {
     "data": {
      "text/plain": [
       "'hoorya is in class 5'"
      ]
     },
     "execution_count": 36,
     "metadata": {},
     "output_type": "execute_result"
    }
   ],
   "source": [
    "\n",
    "\n",
    "\n",
    "name = 'hoorya'\n",
    "grade = 5\n",
    "\n",
    "statement = f'''{name} is in class {grade}'''\n",
    "print(statement)\n",
    "statement"
   ]
  },
  {
   "cell_type": "code",
   "execution_count": 37,
   "metadata": {},
   "outputs": [
    {
     "data": {
      "text/plain": [
       "'hoorya is in class 5'"
      ]
     },
     "execution_count": 37,
     "metadata": {},
     "output_type": "execute_result"
    }
   ],
   "source": [
    "statement"
   ]
  },
  {
   "cell_type": "markdown",
   "metadata": {},
   "source": [
    "# we can use .format function\n"
   ]
  },
  {
   "cell_type": "code",
   "execution_count": 38,
   "metadata": {},
   "outputs": [
    {
     "name": "stdout",
     "output_type": "stream",
     "text": [
      "hoorya is in class 5\n"
     ]
    },
    {
     "data": {
      "text/plain": [
       "'hoorya is in class 5'"
      ]
     },
     "execution_count": 38,
     "metadata": {},
     "output_type": "execute_result"
    }
   ],
   "source": [
    "\n",
    "name = 'hoorya'\n",
    "grade = 5\n",
    "\n",
    "statement = '''{} is in class {}'''.format(name,grade)\n",
    "print(statement)\n",
    "statement"
   ]
  },
  {
   "cell_type": "markdown",
   "metadata": {},
   "source": [
    "# change the order of variables while using .format function"
   ]
  },
  {
   "cell_type": "code",
   "execution_count": 40,
   "metadata": {},
   "outputs": [
    {
     "name": "stdout",
     "output_type": "stream",
     "text": [
      "ahmed eats 2 banana,1 apple,1 mango daily\n"
     ]
    }
   ],
   "source": [
    "\n",
    "\n",
    "\n",
    "fruit_1 = '2 banana'\n",
    "fruit_2 = '1 apple'\n",
    "fruit_3 = '1 mango'\n",
    "\n",
    "print(\"ahmed eats {},{},{} daily\".format(fruit_1, fruit_2, fruit_3))"
   ]
  },
  {
   "cell_type": "markdown",
   "metadata": {},
   "source": [
    "# But if we want to change the order\n"
   ]
  },
  {
   "cell_type": "code",
   "execution_count": 41,
   "metadata": {},
   "outputs": [
    {
     "name": "stdout",
     "output_type": "stream",
     "text": [
      "ahmed eats 1 mango,2 banana,1 apple daily\n"
     ]
    }
   ],
   "source": [
    "\n",
    "\n",
    "fruit_1 = '2 banana'\n",
    "fruit_2 = '1 apple'\n",
    "fruit_3 = '1 mango'\n",
    "\n",
    "print(\"ahmed eats {2},{0},{1} daily\".format(fruit_1, fruit_2, fruit_3))"
   ]
  },
  {
   "cell_type": "markdown",
   "metadata": {},
   "source": [
    "# we can use %s also for embedding the value\n"
   ]
  },
  {
   "cell_type": "code",
   "execution_count": 96,
   "metadata": {},
   "outputs": [
    {
     "name": "stdout",
     "output_type": "stream",
     "text": [
      "hoorya is in class 5\n"
     ]
    }
   ],
   "source": [
    "\n",
    "\n",
    "name = 'hoorya'\n",
    "grade = 5\n",
    "\n",
    "statement = '''%s is in class %s''' \n",
    "print(statement %(name,grade))\n"
   ]
  },
  {
   "cell_type": "code",
   "execution_count": 42,
   "metadata": {},
   "outputs": [
    {
     "name": "stdout",
     "output_type": "stream",
     "text": [
      "                          Dear sir\n",
      "                          H.no 346\n",
      "                          Setor 14 B\n",
      "                          Orangi town Karachi\n"
     ]
    }
   ],
   "source": [
    "p = \" \"*25\n",
    "\n",
    "print('%s Dear sir' %p)\n",
    "print('%s H.no 346' %p)\n",
    "print('%s Setor 14 B' %p)\n",
    "print('%s Orangi town Karachi' %p)"
   ]
  },
  {
   "cell_type": "markdown",
   "metadata": {},
   "source": [
    "# string Methods:   len\n"
   ]
  },
  {
   "cell_type": "code",
   "execution_count": 107,
   "metadata": {},
   "outputs": [
    {
     "data": {
      "text/plain": [
       "26"
      ]
     },
     "execution_count": 107,
     "metadata": {},
     "output_type": "execute_result"
    }
   ],
   "source": [
    "\n",
    "\n",
    "good_saying = 'honesty is the best policy'\n",
    "len(good_saying)"
   ]
  },
  {
   "cell_type": "code",
   "execution_count": 109,
   "metadata": {},
   "outputs": [
    {
     "name": "stdout",
     "output_type": "stream",
     "text": [
      "13\n"
     ]
    }
   ],
   "source": [
    "good_saying = 'honesty is the best policy'\n",
    "mid_point = int(len(good_saying)/2)\n",
    "print(mid_point)"
   ]
  },
  {
   "cell_type": "code",
   "execution_count": 43,
   "metadata": {},
   "outputs": [
    {
     "name": "stdout",
     "output_type": "stream",
     "text": [
      "honesty is th\n",
      "\n",
      "\n",
      "\n",
      "e best policy\n"
     ]
    }
   ],
   "source": [
    "good_saying = 'honesty is the best policy'\n",
    "mid_point = int(len(good_saying)/2)\n",
    "\n",
    "print(good_saying[:mid_point])\n",
    "print()\n",
    "print()\n",
    "print()\n",
    "\n",
    "print(good_saying[mid_point:])"
   ]
  },
  {
   "cell_type": "markdown",
   "metadata": {},
   "source": [
    "# String methods:  .count"
   ]
  },
  {
   "cell_type": "code",
   "execution_count": 3,
   "metadata": {},
   "outputs": [
    {
     "name": "stdout",
     "output_type": "stream",
     "text": [
      "reading book is a good habbit\n",
      "1\n"
     ]
    }
   ],
   "source": [
    "\n",
    "\n",
    "\n",
    "read_book = 'reading book is a good habbit'\n",
    "print(read_book)\n",
    "print(read_book.count('e'))"
   ]
  },
  {
   "cell_type": "code",
   "execution_count": 4,
   "metadata": {},
   "outputs": [
    {
     "name": "stdout",
     "output_type": "stream",
     "text": [
      "3\n"
     ]
    }
   ],
   "source": [
    "read_book = 'reading book is a good habbit'\n",
    "print(read_book.count('b'))"
   ]
  },
  {
   "cell_type": "code",
   "execution_count": 5,
   "metadata": {},
   "outputs": [
    {
     "name": "stdout",
     "output_type": "stream",
     "text": [
      "4\n"
     ]
    }
   ],
   "source": [
    "read_book = 'reading book is a good habbit'\n",
    "print(read_book.count('o'))"
   ]
  },
  {
   "cell_type": "code",
   "execution_count": 120,
   "metadata": {},
   "outputs": [
    {
     "name": "stdout",
     "output_type": "stream",
     "text": [
      "reading book is a good habbit\n",
      "how many 'o's ?  4\n",
      "how many 'b's ?  3\n",
      "how many 'e's ?  1\n",
      "how many 't's ?  1\n",
      "how many 'g's ?  2\n",
      "how many 'n's ?  1\n",
      "how many 'k's ?  1\n",
      "how many 'r's ?  1\n",
      "how many 'a's ?  3\n",
      "how many 'm's ?  0\n",
      "how many 'j's ?  0\n",
      "how many 'w's ?  0\n"
     ]
    }
   ],
   "source": [
    "print(read_book)\n",
    "print(\"how many 'o's ? \", read_book.count('o'))\n",
    "print(\"how many 'b's ? \", read_book.count('b'))\n",
    "print(\"how many 'e's ? \", read_book.count('e'))\n",
    "print(\"how many 't's ? \", read_book.count('t'))\n",
    "print(\"how many 'g's ? \", read_book.count('g'))\n",
    "print(\"how many 'n's ? \", read_book.count('n'))\n",
    "print(\"how many 'k's ? \", read_book.count('k'))\n",
    "print(\"how many 'r's ? \", read_book.count('r'))\n",
    "print(\"how many 'a's ? \", read_book.count('a'))\n",
    "print(\"how many 'm's ? \", read_book.count('m'))\n",
    "print(\"how many 'j's ? \", read_book.count('j'))\n",
    "print(\"how many 'w's ? \", read_book.count('w'))"
   ]
  },
  {
   "cell_type": "code",
   "execution_count": 48,
   "metadata": {},
   "outputs": [
    {
     "name": "stdout",
     "output_type": "stream",
     "text": [
      "reading book\n",
      "# 'o's in first half\n",
      "2\n"
     ]
    }
   ],
   "source": [
    "print(read_book[:12])\n",
    "print(\"# 'o's in first half\")\n",
    "print(read_book[:12].count(\"o\"))"
   ]
  },
  {
   "cell_type": "code",
   "execution_count": 49,
   "metadata": {},
   "outputs": [
    {
     "name": "stdout",
     "output_type": "stream",
     "text": [
      " is a good habbit\n",
      "# 'o's in second half\n",
      "0\n"
     ]
    }
   ],
   "source": [
    "print(read_book[12:])\n",
    "print(\"# 'o's in second half\")\n",
    "print(read_book[12:].count(\"r\"))"
   ]
  },
  {
   "cell_type": "markdown",
   "metadata": {},
   "source": [
    "# string methods .find\n"
   ]
  },
  {
   "cell_type": "code",
   "execution_count": 6,
   "metadata": {},
   "outputs": [
    {
     "name": "stdout",
     "output_type": "stream",
     "text": [
      "reading book is a good habbit\n",
      "find the first place of 'i'\n",
      "4\n"
     ]
    }
   ],
   "source": [
    "\n",
    "\n",
    "print(read_book)\n",
    "print(\"find the first place of 'i'\")\n",
    "print(read_book.find('i') )"
   ]
  },
  {
   "cell_type": "code",
   "execution_count": 140,
   "metadata": {},
   "outputs": [
    {
     "name": "stdout",
     "output_type": "stream",
     "text": [
      "reading book is a good habbit\n",
      "find the first place of 'a'\n",
      "2\n"
     ]
    }
   ],
   "source": [
    "print(read_book)\n",
    "print(\"find the first place of 'a'\")\n",
    "print(read_book.find('a') )"
   ]
  },
  {
   "cell_type": "code",
   "execution_count": 141,
   "metadata": {},
   "outputs": [
    {
     "name": "stdout",
     "output_type": "stream",
     "text": [
      "reading book is a good habbit\n",
      "18 = is starting index for \"good\"\n"
     ]
    }
   ],
   "source": [
    "read_book = 'reading book is a good habbit'\n",
    "print(read_book)\n",
    "reading = read_book.find('good')\n",
    "print(reading, '= is starting index for \"good\"')"
   ]
  },
  {
   "cell_type": "code",
   "execution_count": 144,
   "metadata": {},
   "outputs": [
    {
     "name": "stdout",
     "output_type": "stream",
     "text": [
      "reading book is a good habbit\n",
      "read_book: reading book is a good habbit\n",
      " 'i' at index =  4\n",
      " 'i' at index =  13\n",
      " 'i' at index =  27\n",
      "no more 'i's \n"
     ]
    }
   ],
   "source": [
    "read_book = 'reading book is a good habbit'\n",
    "print(read_book)\n",
    "\n",
    "print(\"read_book:\", read_book)\n",
    "location = read_book.find('i')\n",
    "#keeps looping until location = -1 (no 'i' found)\n",
    "\n",
    "while location >= 0:\n",
    "    print(\" 'i' at index = \" , location)\n",
    "    # find(\"i\", location + 1) looks for a \"i\" after index the first \"i\" was found\n",
    "    location = read_book.find(\"i\", location + 1)\n",
    "print(\"no more 'i's \")"
   ]
  },
  {
   "cell_type": "code",
   "execution_count": 7,
   "metadata": {},
   "outputs": [
    {
     "name": "stdout",
     "output_type": "stream",
     "text": [
      "18\n"
     ]
    }
   ],
   "source": [
    "print(read_book.find(\"good\"))"
   ]
  },
  {
   "cell_type": "markdown",
   "metadata": {},
   "source": [
    "# String Methods Upper & Lower case"
   ]
  },
  {
   "cell_type": "code",
   "execution_count": 8,
   "metadata": {},
   "outputs": [
    {
     "name": "stdout",
     "output_type": "stream",
     "text": [
      "this is a string\n"
     ]
    }
   ],
   "source": [
    "my_string = 'this is a string'\n",
    "print(my_string)"
   ]
  },
  {
   "cell_type": "code",
   "execution_count": 9,
   "metadata": {},
   "outputs": [
    {
     "data": {
      "text/plain": [
       "'THIS IS A STRING'"
      ]
     },
     "execution_count": 9,
     "metadata": {},
     "output_type": "execute_result"
    }
   ],
   "source": [
    "my_string.upper()"
   ]
  },
  {
   "cell_type": "code",
   "execution_count": 10,
   "metadata": {},
   "outputs": [
    {
     "name": "stdout",
     "output_type": "stream",
     "text": [
      "TODAY IS FRIDAY\n"
     ]
    }
   ],
   "source": [
    "new_string = 'TODAY IS FRIDAY'\n",
    "print(new_string)"
   ]
  },
  {
   "cell_type": "code",
   "execution_count": 11,
   "metadata": {},
   "outputs": [
    {
     "data": {
      "text/plain": [
       "'today is friday'"
      ]
     },
     "execution_count": 11,
     "metadata": {},
     "output_type": "execute_result"
    }
   ],
   "source": [
    "new_string.lower()"
   ]
  },
  {
   "cell_type": "code",
   "execution_count": 12,
   "metadata": {},
   "outputs": [
    {
     "data": {
      "text/plain": [
       "['__add__',\n",
       " '__class__',\n",
       " '__contains__',\n",
       " '__delattr__',\n",
       " '__dir__',\n",
       " '__doc__',\n",
       " '__eq__',\n",
       " '__format__',\n",
       " '__ge__',\n",
       " '__getattribute__',\n",
       " '__getitem__',\n",
       " '__getnewargs__',\n",
       " '__gt__',\n",
       " '__hash__',\n",
       " '__init__',\n",
       " '__init_subclass__',\n",
       " '__iter__',\n",
       " '__le__',\n",
       " '__len__',\n",
       " '__lt__',\n",
       " '__mod__',\n",
       " '__mul__',\n",
       " '__ne__',\n",
       " '__new__',\n",
       " '__reduce__',\n",
       " '__reduce_ex__',\n",
       " '__repr__',\n",
       " '__rmod__',\n",
       " '__rmul__',\n",
       " '__setattr__',\n",
       " '__sizeof__',\n",
       " '__str__',\n",
       " '__subclasshook__',\n",
       " 'capitalize',\n",
       " 'casefold',\n",
       " 'center',\n",
       " 'count',\n",
       " 'encode',\n",
       " 'endswith',\n",
       " 'expandtabs',\n",
       " 'find',\n",
       " 'format',\n",
       " 'format_map',\n",
       " 'index',\n",
       " 'isalnum',\n",
       " 'isalpha',\n",
       " 'isascii',\n",
       " 'isdecimal',\n",
       " 'isdigit',\n",
       " 'isidentifier',\n",
       " 'islower',\n",
       " 'isnumeric',\n",
       " 'isprintable',\n",
       " 'isspace',\n",
       " 'istitle',\n",
       " 'isupper',\n",
       " 'join',\n",
       " 'ljust',\n",
       " 'lower',\n",
       " 'lstrip',\n",
       " 'maketrans',\n",
       " 'partition',\n",
       " 'replace',\n",
       " 'rfind',\n",
       " 'rindex',\n",
       " 'rjust',\n",
       " 'rpartition',\n",
       " 'rsplit',\n",
       " 'rstrip',\n",
       " 'split',\n",
       " 'splitlines',\n",
       " 'startswith',\n",
       " 'strip',\n",
       " 'swapcase',\n",
       " 'title',\n",
       " 'translate',\n",
       " 'upper',\n",
       " 'zfill']"
      ]
     },
     "execution_count": 12,
     "metadata": {},
     "output_type": "execute_result"
    }
   ],
   "source": [
    "dir(new_string)"
   ]
  },
  {
   "cell_type": "markdown",
   "metadata": {},
   "source": [
    "# Tuples"
   ]
  },
  {
   "cell_type": "code",
   "execution_count": 55,
   "metadata": {},
   "outputs": [
    {
     "name": "stdout",
     "output_type": "stream",
     "text": [
      "56\n"
     ]
    }
   ],
   "source": [
    "fibs = ('treat', 'medicine', 0, 56, 'toast')\n",
    "print(fibs[3])"
   ]
  },
  {
   "cell_type": "markdown",
   "metadata": {},
   "source": [
    "# Tuples & slicing"
   ]
  },
  {
   "cell_type": "code",
   "execution_count": 56,
   "metadata": {},
   "outputs": [
    {
     "name": "stdout",
     "output_type": "stream",
     "text": [
      "('treat', 'medicine', 0, 56, 'toast')\n",
      "\n",
      "\n",
      "medicine\n",
      "\n",
      "\n",
      "('treat', 'medicine')\n",
      "\n",
      "\n",
      "('medicine', 0, 56, 'toast')\n",
      "\n",
      "\n",
      "(0, 56)\n"
     ]
    }
   ],
   "source": [
    "fibs = ('treat', 'medicine', 0, 56, 'toast')\n",
    "print(fibs)\n",
    "print()\n",
    "print()\n",
    "print(fibs[1])\n",
    "print()\n",
    "print()\n",
    "print(fibs[0:2])\n",
    "print()\n",
    "print()\n",
    "print(fibs[1:5])\n",
    "print()\n",
    "print()\n",
    "print(fibs[2:4])"
   ]
  },
  {
   "cell_type": "markdown",
   "metadata": {},
   "source": [
    "# Tuple casting"
   ]
  },
  {
   "cell_type": "code",
   "execution_count": 14,
   "metadata": {},
   "outputs": [
    {
     "name": "stdout",
     "output_type": "stream",
     "text": [
      "(1, 56, 89, 12, 36)\n"
     ]
    }
   ],
   "source": [
    "alpha = [1,56,89,12,36]\n",
    "abc = tuple(alpha)\n",
    "print(abc)"
   ]
  },
  {
   "cell_type": "code",
   "execution_count": 17,
   "metadata": {},
   "outputs": [
    {
     "name": "stdout",
     "output_type": "stream",
     "text": [
      "[15, 45, 78, 'field', 'lights', 'helmet', 'cricket']\n"
     ]
    }
   ],
   "source": [
    "\n",
    "bolt = ([15,45,78,'field', 'lights', 'helmet', 'cricket'])\n",
    "print(bolt)"
   ]
  },
  {
   "cell_type": "markdown",
   "metadata": {},
   "source": [
    "# scientific Notation for 10 to the power 6"
   ]
  },
  {
   "cell_type": "code",
   "execution_count": 1,
   "metadata": {},
   "outputs": [
    {
     "data": {
      "text/plain": [
       "31536000"
      ]
     },
     "execution_count": 1,
     "metadata": {},
     "output_type": "execute_result"
    }
   ],
   "source": [
    "# calculating the number of Seconds in a year\n",
    "\n",
    "365*24*60*60"
   ]
  },
  {
   "cell_type": "code",
   "execution_count": 3,
   "metadata": {},
   "outputs": [
    {
     "data": {
      "text/plain": [
       "31.536"
      ]
     },
     "execution_count": 3,
     "metadata": {},
     "output_type": "execute_result"
    }
   ],
   "source": [
    "_/1e6"
   ]
  },
  {
   "cell_type": "code",
   "execution_count": null,
   "metadata": {},
   "outputs": [],
   "source": []
  },
  {
   "cell_type": "code",
   "execution_count": null,
   "metadata": {},
   "outputs": [],
   "source": []
  },
  {
   "cell_type": "code",
   "execution_count": null,
   "metadata": {},
   "outputs": [],
   "source": []
  },
  {
   "cell_type": "code",
   "execution_count": null,
   "metadata": {},
   "outputs": [],
   "source": []
  },
  {
   "cell_type": "code",
   "execution_count": null,
   "metadata": {},
   "outputs": [],
   "source": []
  }
 ],
 "metadata": {
  "kernelspec": {
   "display_name": "Python 3",
   "language": "python",
   "name": "python3"
  },
  "language_info": {
   "codemirror_mode": {
    "name": "ipython",
    "version": 3
   },
   "file_extension": ".py",
   "mimetype": "text/x-python",
   "name": "python",
   "nbconvert_exporter": "python",
   "pygments_lexer": "ipython3",
   "version": "3.7.4"
  }
 },
 "nbformat": 4,
 "nbformat_minor": 2
}
