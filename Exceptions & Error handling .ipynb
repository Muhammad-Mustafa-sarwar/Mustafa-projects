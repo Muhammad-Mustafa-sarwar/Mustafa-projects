{
 "cells": [
  {
   "cell_type": "markdown",
   "metadata": {},
   "source": [
    "# Division Error"
   ]
  },
  {
   "cell_type": "code",
   "execution_count": 7,
   "metadata": {},
   "outputs": [
    {
     "ename": "ZeroDivisionError",
     "evalue": "division by zero",
     "output_type": "error",
     "traceback": [
      "\u001b[1;31m---------------------------------------------------------------------------\u001b[0m",
      "\u001b[1;31mZeroDivisionError\u001b[0m                         Traceback (most recent call last)",
      "\u001b[1;32m<ipython-input-7-9e1622b385b6>\u001b[0m in \u001b[0;36m<module>\u001b[1;34m\u001b[0m\n\u001b[1;32m----> 1\u001b[1;33m \u001b[1;36m1\u001b[0m\u001b[1;33m/\u001b[0m\u001b[1;36m0\u001b[0m\u001b[1;33m\u001b[0m\u001b[1;33m\u001b[0m\u001b[0m\n\u001b[0m",
      "\u001b[1;31mZeroDivisionError\u001b[0m: division by zero"
     ]
    }
   ],
   "source": [
    "1/0"
   ]
  },
  {
   "cell_type": "code",
   "execution_count": 6,
   "metadata": {},
   "outputs": [
    {
     "name": "stdout",
     "output_type": "stream",
     "text": [
      "you can not divide by Zero\n"
     ]
    }
   ],
   "source": [
    "try :\n",
    "    1/0\n",
    "except ZeroDivisionError :\n",
    "        print('you can not divide by Zero')"
   ]
  },
  {
   "cell_type": "markdown",
   "metadata": {},
   "source": [
    "# Dictionary Example"
   ]
  },
  {
   "cell_type": "code",
   "execution_count": 10,
   "metadata": {},
   "outputs": [
    {
     "name": "stdout",
     "output_type": "stream",
     "text": [
      "That key is not available!\n"
     ]
    }
   ],
   "source": [
    "new_Dict = {\"a\":1, \"b\":2, \"c\":3}\n",
    "\n",
    "try :\n",
    "    value = new_Dict[\"d\"]\n",
    "except KeyError :\n",
    "    \n",
    "    print(\"That key is not available!\")"
   ]
  },
  {
   "cell_type": "code",
   "execution_count": 2,
   "metadata": {},
   "outputs": [
    {
     "data": {
      "text/plain": [
       "3"
      ]
     },
     "execution_count": 2,
     "metadata": {},
     "output_type": "execute_result"
    }
   ],
   "source": [
    "new_Dict[\"c\"]"
   ]
  },
  {
   "cell_type": "markdown",
   "metadata": {},
   "source": [
    "# Index Eror in list"
   ]
  },
  {
   "cell_type": "code",
   "execution_count": 11,
   "metadata": {},
   "outputs": [
    {
     "name": "stdout",
     "output_type": "stream",
     "text": [
      "That index is not in the list!\n"
     ]
    }
   ],
   "source": [
    "list_one = [1,2,3,4,5]\n",
    "\n",
    "try:\n",
    "    list_one[6]\n",
    "except IndexError :\n",
    "    print('That index is not in the list!' )"
   ]
  },
  {
   "cell_type": "markdown",
   "metadata": {},
   "source": [
    "# Catching Multiple Exception"
   ]
  },
  {
   "cell_type": "code",
   "execution_count": 14,
   "metadata": {},
   "outputs": [
    {
     "name": "stdout",
     "output_type": "stream",
     "text": [
      "That key does not exist!\n"
     ]
    }
   ],
   "source": [
    "dict_one = {\"a\":1, \"b\":2, \"c\":3, \"d\":4}\n",
    "\n",
    "try :\n",
    "    value = dict_one[\"f\"]\n",
    "    \n",
    "except KeyError :\n",
    "    print('That key does not exist!')\n",
    "    \n",
    "except IndexError :\n",
    "    print('That index is not in the list!')\n",
    "    \n",
    "except :\n",
    "    print('some other error occurred!')\n"
   ]
  },
  {
   "cell_type": "markdown",
   "metadata": {},
   "source": [
    "# using () parenthesis for multiple error"
   ]
  },
  {
   "cell_type": "code",
   "execution_count": 13,
   "metadata": {},
   "outputs": [
    {
     "name": "stdout",
     "output_type": "stream",
     "text": [
      "An index error or key error occurred!\n"
     ]
    }
   ],
   "source": [
    "dict_one = {\"a\":1, \"b\":2, \"c\":3, \"d\":4}\n",
    "\n",
    "try :\n",
    "    value = dict_one[\"f\"]\n",
    "    \n",
    "except (IndexError, KeyError) :\n",
    "    print('An index error or key error occurred!')"
   ]
  },
  {
   "cell_type": "code",
   "execution_count": 15,
   "metadata": {},
   "outputs": [
    {
     "name": "stdout",
     "output_type": "stream",
     "text": [
      "An index error or key error occurred!\n"
     ]
    }
   ],
   "source": [
    "dict_one = {\"a\":1, \"b\":2, \"c\":3, \"d\":4}\n",
    "\n",
    "try :\n",
    "    value = dict_one[\"f\"]\n",
    "    \n",
    "except (IndexError, KeyError) :\n",
    "    print('An index error or key error occurred!')\n",
    "    \n",
    "except :\n",
    "    print('some thing went wrong.')"
   ]
  },
  {
   "cell_type": "code",
   "execution_count": 18,
   "metadata": {},
   "outputs": [
    {
     "name": "stdout",
     "output_type": "stream",
     "text": [
      "Enter number 1: 5\n",
      "Enter number 2: 0\n",
      "exception occurred:  division by zero\n",
      "Division is :  None\n"
     ]
    }
   ],
   "source": [
    "x = input(\"Enter number 1: \")\n",
    "y = input(\"Enter number 2: \")\n",
    "try :\n",
    "    z = int(x) / int(y)\n",
    "except Exception as e:\n",
    "    \n",
    "    print('exception occurred: ',e)\n",
    "    z = None\n",
    "print(\"Division is : \", z)\n",
    "    \n"
   ]
  },
  {
   "cell_type": "code",
   "execution_count": 19,
   "metadata": {},
   "outputs": [
    {
     "name": "stdout",
     "output_type": "stream",
     "text": [
      "Enter number 1: 6\n",
      "Enter number 2: 0\n",
      "Division by zero exception\n",
      "Division is :  None\n"
     ]
    }
   ],
   "source": [
    "x = input(\"Enter number 1: \")\n",
    "y = input(\"Enter number 2: \")\n",
    "try :\n",
    "    z = int(x) / int(y)\n",
    "except ZeroDivisionError as e:\n",
    "    \n",
    "    print('Division by zero exception')\n",
    "    z = None\n",
    "print(\"Division is : \", z)\n",
    "    \n"
   ]
  },
  {
   "cell_type": "markdown",
   "metadata": {},
   "source": [
    "# if we don't know what type of error is"
   ]
  },
  {
   "cell_type": "code",
   "execution_count": 22,
   "metadata": {},
   "outputs": [
    {
     "name": "stdout",
     "output_type": "stream",
     "text": [
      "Enter number 1: 5\n",
      "Enter number 2: 0\n"
     ]
    },
    {
     "ename": "TypeError",
     "evalue": "unsupported operand type(s) for /: 'str' and 'int'",
     "output_type": "error",
     "traceback": [
      "\u001b[1;31m---------------------------------------------------------------------------\u001b[0m",
      "\u001b[1;31mTypeError\u001b[0m                                 Traceback (most recent call last)",
      "\u001b[1;32m<ipython-input-22-7e13c6b5891c>\u001b[0m in \u001b[0;36m<module>\u001b[1;34m\u001b[0m\n\u001b[0;32m      6\u001b[0m \u001b[1;33m\u001b[0m\u001b[0m\n\u001b[0;32m      7\u001b[0m \u001b[1;32mtry\u001b[0m \u001b[1;33m:\u001b[0m\u001b[1;33m\u001b[0m\u001b[1;33m\u001b[0m\u001b[0m\n\u001b[1;32m----> 8\u001b[1;33m     \u001b[0mz\u001b[0m \u001b[1;33m=\u001b[0m \u001b[0mx\u001b[0m \u001b[1;33m/\u001b[0m \u001b[0mint\u001b[0m\u001b[1;33m(\u001b[0m\u001b[0my\u001b[0m\u001b[1;33m)\u001b[0m\u001b[1;33m\u001b[0m\u001b[1;33m\u001b[0m\u001b[0m\n\u001b[0m\u001b[0;32m      9\u001b[0m \u001b[1;32mexcept\u001b[0m \u001b[0mZeroDivisionError\u001b[0m \u001b[1;32mas\u001b[0m \u001b[0me\u001b[0m\u001b[1;33m:\u001b[0m\u001b[1;33m\u001b[0m\u001b[1;33m\u001b[0m\u001b[0m\n\u001b[0;32m     10\u001b[0m \u001b[1;33m\u001b[0m\u001b[0m\n",
      "\u001b[1;31mTypeError\u001b[0m: unsupported operand type(s) for /: 'str' and 'int'"
     ]
    }
   ],
   "source": [
    "x = input(\"Enter number 1: \")\n",
    "y = input(\"Enter number 2: \")\n",
    "\n",
    "# here we forget to change the string(x) into int\n",
    "\n",
    "\n",
    "try :\n",
    "    z = x / int(y)\n",
    "except ZeroDivisionError as e:\n",
    "    \n",
    "    print('Division by zero exception')\n",
    "    z = None\n",
    "print(\"Division is : \", z)\n",
    "    "
   ]
  },
  {
   "cell_type": "markdown",
   "metadata": {},
   "source": [
    "# Doing again"
   ]
  },
  {
   "cell_type": "code",
   "execution_count": 26,
   "metadata": {},
   "outputs": [
    {
     "name": "stdout",
     "output_type": "stream",
     "text": [
      "Enter number 1: 4\n",
      "Enter number 2: 0\n",
      "exception type:  TypeError\n",
      "Division is :  None\n"
     ]
    }
   ],
   "source": [
    "\n",
    "\n",
    "x = input(\"Enter number 1: \")\n",
    "y = input(\"Enter number 2: \")\n",
    "\n",
    "# here we forget to change the string(x) into int\n",
    "\n",
    "\n",
    "try :\n",
    "    z = x / int(y)\n",
    "except ZeroDivisionError as e:    \n",
    "    print('Division by zero exception')\n",
    "    z = None\n",
    "    \n",
    "except Exception as e:\n",
    "    print(\"exception type: \", type(e) .__name__)\n",
    "    z = None\n",
    "print(\"Division is : \", z)"
   ]
  },
  {
   "cell_type": "markdown",
   "metadata": {},
   "source": [
    "# so doing again after knowing what is the type of error"
   ]
  },
  {
   "cell_type": "code",
   "execution_count": 27,
   "metadata": {},
   "outputs": [
    {
     "name": "stdout",
     "output_type": "stream",
     "text": [
      "Enter number 1: 9\n",
      "Enter number 2: 0\n",
      "Type Error Exception \n",
      "Division is :  None\n"
     ]
    }
   ],
   "source": [
    "x = input(\"Enter number 1: \")\n",
    "y = input(\"Enter number 2: \")\n",
    "\n",
    "# here we forget to change the string(x) into int\n",
    "\n",
    "\n",
    "try :\n",
    "    z = x / int(y)\n",
    "except ZeroDivisionError as e:    \n",
    "    print('Division by zero exception')\n",
    "    z = None\n",
    "    \n",
    "except TypeError as e:\n",
    "    print(\"Type Error Exception \")\n",
    "    z = None\n",
    "print(\"Division is : \", z)"
   ]
  },
  {
   "cell_type": "markdown",
   "metadata": {},
   "source": [
    "# using Finally"
   ]
  },
  {
   "cell_type": "code",
   "execution_count": 30,
   "metadata": {},
   "outputs": [
    {
     "name": "stdout",
     "output_type": "stream",
     "text": [
      "A key error occurred!\n",
      "\n",
      "The finally statement has occurred.\n"
     ]
    }
   ],
   "source": [
    "new_Dict = {\"a\":1, \"b\":2, \"c\":3}\n",
    "\n",
    "try :\n",
    "    value = new_Dict[\"d\"]\n",
    "    \n",
    "except KeyError :\n",
    "    \n",
    "    print(\"A key error occurred!\")\n",
    "    \n",
    "finally :\n",
    "    print(\"\\nThe finally statement has occurred.\")"
   ]
  },
  {
   "cell_type": "markdown",
   "metadata": {},
   "source": [
    "# using else in (Try,except,else) Block"
   ]
  },
  {
   "cell_type": "code",
   "execution_count": 38,
   "metadata": {},
   "outputs": [
    {
     "name": "stdout",
     "output_type": "stream",
     "text": [
      "3\n",
      "\n",
      "No Error occurred.\n",
      "\n",
      "The finally statement has occurred.\n"
     ]
    }
   ],
   "source": [
    "new_Dict = {\"a\":1, \"b\":2, \"c\":3}\n",
    "\n",
    "try :\n",
    "    value = new_Dict[\"c\"]\n",
    "    print(value)\n",
    "    \n",
    "except KeyError :\n",
    "    \n",
    "    print(\"A key error occurred!\")\n",
    "    \n",
    "else :\n",
    "    print(\"\\nNo Error occurred.\")\n",
    "    \n",
    "finally :\n",
    "    print(\"\\nThe finally statement has occurred.\")"
   ]
  },
  {
   "cell_type": "code",
   "execution_count": 41,
   "metadata": {},
   "outputs": [
    {
     "name": "stdout",
     "output_type": "stream",
     "text": [
      "A key error occurred!\n",
      "\n",
      "The finally statement has occurred.\n"
     ]
    }
   ],
   "source": [
    "new_Dict = {\"a\":1, \"b\":2, \"c\":3}\n",
    "\n",
    "try :\n",
    "    value = new_Dict[\"g\"]\n",
    "    print(value)\n",
    "    \n",
    "except KeyError :\n",
    "    \n",
    "    print(\"A key error occurred!\")\n",
    "    \n",
    "except:\n",
    "    print(\"Some thing went wrong.\")\n",
    "    \n",
    "else :\n",
    "    print(\"\\nNo Error occurred.\")\n",
    "    \n",
    "finally :\n",
    "    print(\"\\nThe finally statement has occurred.\")"
   ]
  },
  {
   "cell_type": "markdown",
   "metadata": {},
   "source": [
    "# A new one"
   ]
  },
  {
   "cell_type": "markdown",
   "metadata": {},
   "source": [
    "# this may be a consenses exeption code ...."
   ]
  },
  {
   "cell_type": "code",
   "execution_count": null,
   "metadata": {},
   "outputs": [],
   "source": [
    "# no need to mentin many error and exeptions separately...."
   ]
  },
  {
   "cell_type": "code",
   "execution_count": 5,
   "metadata": {},
   "outputs": [
    {
     "name": "stdout",
     "output_type": "stream",
     "text": [
      "An error has been occurred\n",
      "exception occurred:  'f'\n",
      "exception type:  KeyError\n",
      "your code has been executed successfully.\n",
      "\n",
      "The finally statement has occurred.\n"
     ]
    }
   ],
   "source": [
    "dict_one = {\"a\":1, \"b\":2, \"c\":3, \"d\":4}\n",
    "\n",
    "try :\n",
    "    value = dict_one[\"f\"]\n",
    "    \n",
    "except Exception as e:\n",
    "    \n",
    "    print(\"An error has been occurred\")    \n",
    "    print('exception occurred: ',e)\n",
    "    print(\"exception type: \", type(e) .__name__)\n",
    "    print(\"your code has been executed successfully.\")\n",
    "    \n",
    "except :\n",
    "    print('some thing went wrong.')\n",
    "    \n",
    "else :\n",
    "    print(\"\\nNo Error occurred.\")\n",
    "    \n",
    "finally :\n",
    "    print(\"\\nThe finally statement has occurred.\")"
   ]
  },
  {
   "cell_type": "code",
   "execution_count": null,
   "metadata": {},
   "outputs": [],
   "source": [
    "# another example....."
   ]
  },
  {
   "cell_type": "code",
   "execution_count": 2,
   "metadata": {},
   "outputs": [],
   "source": [
    "list_101 = [1,2,3,4,5]"
   ]
  },
  {
   "cell_type": "code",
   "execution_count": 4,
   "metadata": {},
   "outputs": [
    {
     "name": "stdout",
     "output_type": "stream",
     "text": [
      "An error has been occurred\n",
      "exception occurred:  list index out of range\n",
      "exception type:  IndexError\n",
      "your code has been executed successfully.\n",
      "\n",
      "The finally your code has been executed successfully..\n"
     ]
    }
   ],
   "source": [
    "try :\n",
    "    result = list_101[9]\n",
    "    print(result)\n",
    "    \n",
    "except Exception as e:\n",
    "    \n",
    "    print(\"An error has been occurred\")    \n",
    "    print('exception occurred: ',e)\n",
    "    print(\"exception type: \", type(e).__name__)\n",
    "    print(\"your code has been executed successfully.\")\n",
    "    \n",
    "except :\n",
    "    print('some thing went wrong.')\n",
    "    \n",
    "else :\n",
    "    print(\"\\nNo Error occurred.\")\n",
    "    \n",
    "finally :\n",
    "    print(\"\\nThe finally your code has been executed successfully..\")"
   ]
  },
  {
   "cell_type": "code",
   "execution_count": null,
   "metadata": {},
   "outputs": [],
   "source": []
  },
  {
   "cell_type": "code",
   "execution_count": null,
   "metadata": {},
   "outputs": [],
   "source": []
  }
 ],
 "metadata": {
  "kernelspec": {
   "display_name": "Python 3",
   "language": "python",
   "name": "python3"
  },
  "language_info": {
   "codemirror_mode": {
    "name": "ipython",
    "version": 3
   },
   "file_extension": ".py",
   "mimetype": "text/x-python",
   "name": "python",
   "nbconvert_exporter": "python",
   "pygments_lexer": "ipython3",
   "version": "3.7.4"
  }
 },
 "nbformat": 4,
 "nbformat_minor": 2
}
