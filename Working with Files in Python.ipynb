{
 "cells": [
  {
   "cell_type": "markdown",
   "metadata": {},
   "source": [
    "# opening a file"
   ]
  },
  {
   "cell_type": "markdown",
   "metadata": {},
   "source": [
    "# raw string vs regular string"
   ]
  },
  {
   "cell_type": "code",
   "execution_count": 7,
   "metadata": {},
   "outputs": [
    {
     "name": "stdout",
     "output_type": "stream",
     "text": [
      "G:\\Articles about Data Science\t. Beeralytics price prediction.docx\n"
     ]
    }
   ],
   "source": [
    "# regular string\n",
    "# due to \\t it's taking a tab space\n",
    "\n",
    "print(\"G:\\Articles about Data Science\\t. Beeralytics price prediction.docx\")"
   ]
  },
  {
   "cell_type": "code",
   "execution_count": 8,
   "metadata": {},
   "outputs": [
    {
     "name": "stdout",
     "output_type": "stream",
     "text": [
      "('G:\\\\Articles about Data Science\\\\t. Beeralytics price prediction.docx', 'r')\n"
     ]
    }
   ],
   "source": [
    "# raw string\n",
    "\n",
    "print((r\"G:\\Articles about Data Science\\t. Beeralytics price prediction.docx\",\"r\"))"
   ]
  },
  {
   "cell_type": "markdown",
   "metadata": {},
   "source": [
    "# opening , reading and showing a file"
   ]
  },
  {
   "cell_type": "code",
   "execution_count": 3,
   "metadata": {},
   "outputs": [
    {
     "name": "stdout",
     "output_type": "stream",
     "text": [
      "Sample file\n",
      "\n",
      "\n",
      "Data science\n",
      "\n",
      "Python\n",
      "\n",
      "Pandas\n",
      "\n",
      "Numpy\n",
      "\n",
      "Tableau\n",
      "\n",
      "My Sql\n",
      "\n",
      "Matlab\n",
      "\n",
      "Power bi\n",
      "\n",
      "R studio\n",
      "\n",
      "my name is Muhammad Mustafa Sarwar and i am learning python this is a test file that how to open and read a file in python.\n"
     ]
    }
   ],
   "source": [
    "x = open(r\"G:\\Articles about Data Science\\test file 2.txt\",\"r\")\n",
    "data = x.read()\n",
    "print(data)\n",
    "x.close()"
   ]
  },
  {
   "cell_type": "markdown",
   "metadata": {},
   "source": [
    "# with readlines"
   ]
  },
  {
   "cell_type": "code",
   "execution_count": 4,
   "metadata": {},
   "outputs": [
    {
     "name": "stdout",
     "output_type": "stream",
     "text": [
      "['Sample file\\n', '\\n', '\\n', 'Data science\\n', '\\n', 'Python\\n', '\\n', 'Pandas\\n', '\\n', 'Numpy\\n', '\\n', 'Tableau\\n', '\\n', 'My Sql\\n', '\\n', 'Matlab\\n', '\\n', 'Power bi\\n', '\\n', 'R studio\\n', '\\n', 'my name is Muhammad Mustafa Sarwar and i am learning python this is a test file that how to open and read a file in python.']\n"
     ]
    }
   ],
   "source": [
    "x = open(r\"G:\\Articles about Data Science\\test file 2.txt\",\"r\")\n",
    "data = x.readlines()\n",
    "print(data)\n",
    "x.close()"
   ]
  },
  {
   "cell_type": "markdown",
   "metadata": {},
   "source": [
    "# with read line"
   ]
  },
  {
   "cell_type": "code",
   "execution_count": 2,
   "metadata": {},
   "outputs": [
    {
     "name": "stdout",
     "output_type": "stream",
     "text": [
      "Sample file\n",
      "\n"
     ]
    }
   ],
   "source": [
    "x = open(r\"G:\\Articles about Data Science\\test file 2.txt\",\"r\")\n",
    "data = x.readline()\n",
    "print(data)\n",
    "x.close()"
   ]
  },
  {
   "cell_type": "markdown",
   "metadata": {},
   "source": [
    "# for reading line by line (for reading piece by piece)"
   ]
  },
  {
   "cell_type": "code",
   "execution_count": 26,
   "metadata": {},
   "outputs": [
    {
     "name": "stdout",
     "output_type": "stream",
     "text": [
      "Sample file\n",
      "\n",
      "\n",
      "\n",
      "\n",
      "\n",
      "Data science\n",
      "\n",
      "\n",
      "\n",
      "Python\n",
      "\n",
      "\n",
      "\n",
      "Pandas\n",
      "\n",
      "\n",
      "\n",
      "Numpy\n",
      "\n",
      "\n",
      "\n",
      "Tableau\n",
      "\n",
      "\n",
      "\n",
      "My Sql\n",
      "\n",
      "\n",
      "\n",
      "Matlab\n",
      "\n",
      "\n",
      "\n",
      "Power bi\n",
      "\n",
      "\n",
      "\n",
      "R studio\n",
      "\n",
      "\n",
      "\n",
      "my name is Muhammad Mustafa Sarwar and i am learning python this is a test file that how to open and read a file in python.\n"
     ]
    }
   ],
   "source": [
    "x = open(r\"G:\\Articles about Data Science\\test file 2.txt\",\"r\")\n",
    "\n",
    "for line in x:\n",
    "    print(line)"
   ]
  },
  {
   "cell_type": "markdown",
   "metadata": {},
   "source": [
    "# writing files in python by using \"w\""
   ]
  },
  {
   "cell_type": "code",
   "execution_count": 9,
   "metadata": {},
   "outputs": [],
   "source": [
    "x = open(r\"G:\\Articles about Data Science\\test file 3.txt\",\"w\")\n",
    "x.write(\"\\n\\tThis is another file.\")\n",
    "\n",
    "x.close()"
   ]
  },
  {
   "cell_type": "markdown",
   "metadata": {},
   "source": [
    "# importing file "
   ]
  },
  {
   "cell_type": "code",
   "execution_count": 10,
   "metadata": {},
   "outputs": [
    {
     "name": "stdout",
     "output_type": "stream",
     "text": [
      "The Zen of Python, by Tim Peters\n",
      "\n",
      "Beautiful is better than ugly.\n",
      "Explicit is better than implicit.\n",
      "Simple is better than complex.\n",
      "Complex is better than complicated.\n",
      "Flat is better than nested.\n",
      "Sparse is better than dense.\n",
      "Readability counts.\n",
      "Special cases aren't special enough to break the rules.\n",
      "Although practicality beats purity.\n",
      "Errors should never pass silently.\n",
      "Unless explicitly silenced.\n",
      "In the face of ambiguity, refuse the temptation to guess.\n",
      "There should be one-- and preferably only one --obvious way to do it.\n",
      "Although that way may not be obvious at first unless you're Dutch.\n",
      "Now is better than never.\n",
      "Although never is often better than *right* now.\n",
      "If the implementation is hard to explain, it's a bad idea.\n",
      "If the implementation is easy to explain, it may be a good idea.\n",
      "Namespaces are one honking great idea -- let's do more of those!\n"
     ]
    }
   ],
   "source": [
    "import this"
   ]
  },
  {
   "cell_type": "code",
   "execution_count": 11,
   "metadata": {},
   "outputs": [],
   "source": [
    "# to use math module the syntax is \" module name.method name(argument)\"\n",
    "\n",
    "import math"
   ]
  },
  {
   "cell_type": "code",
   "execution_count": 12,
   "metadata": {},
   "outputs": [
    {
     "data": {
      "text/plain": [
       "2.0"
      ]
     },
     "execution_count": 12,
     "metadata": {},
     "output_type": "execute_result"
    }
   ],
   "source": [
    "math.sqrt(4)"
   ]
  },
  {
   "cell_type": "code",
   "execution_count": null,
   "metadata": {},
   "outputs": [],
   "source": [
    "# using from method to import lec alpha 800b"
   ]
  },
  {
   "cell_type": "code",
   "execution_count": 8,
   "metadata": {},
   "outputs": [
    {
     "data": {
      "text/plain": [
       "3.141592653589793"
      ]
     },
     "execution_count": 8,
     "metadata": {},
     "output_type": "execute_result"
    }
   ],
   "source": [
    "from math import pi, sqrt\n",
    "\n",
    "pi"
   ]
  },
  {
   "cell_type": "markdown",
   "metadata": {},
   "source": [
    "# getting all built in function"
   ]
  },
  {
   "cell_type": "code",
   "execution_count": 7,
   "metadata": {},
   "outputs": [
    {
     "data": {
      "text/plain": [
       "['__add__',\n",
       " '__class__',\n",
       " '__contains__',\n",
       " '__delattr__',\n",
       " '__dir__',\n",
       " '__doc__',\n",
       " '__eq__',\n",
       " '__format__',\n",
       " '__ge__',\n",
       " '__getattribute__',\n",
       " '__getitem__',\n",
       " '__getnewargs__',\n",
       " '__gt__',\n",
       " '__hash__',\n",
       " '__init__',\n",
       " '__init_subclass__',\n",
       " '__iter__',\n",
       " '__le__',\n",
       " '__len__',\n",
       " '__lt__',\n",
       " '__mod__',\n",
       " '__mul__',\n",
       " '__ne__',\n",
       " '__new__',\n",
       " '__reduce__',\n",
       " '__reduce_ex__',\n",
       " '__repr__',\n",
       " '__rmod__',\n",
       " '__rmul__',\n",
       " '__setattr__',\n",
       " '__sizeof__',\n",
       " '__str__',\n",
       " '__subclasshook__',\n",
       " 'capitalize',\n",
       " 'casefold',\n",
       " 'center',\n",
       " 'count',\n",
       " 'encode',\n",
       " 'endswith',\n",
       " 'expandtabs',\n",
       " 'find',\n",
       " 'format',\n",
       " 'format_map',\n",
       " 'index',\n",
       " 'isalnum',\n",
       " 'isalpha',\n",
       " 'isascii',\n",
       " 'isdecimal',\n",
       " 'isdigit',\n",
       " 'isidentifier',\n",
       " 'islower',\n",
       " 'isnumeric',\n",
       " 'isprintable',\n",
       " 'isspace',\n",
       " 'istitle',\n",
       " 'isupper',\n",
       " 'join',\n",
       " 'ljust',\n",
       " 'lower',\n",
       " 'lstrip',\n",
       " 'maketrans',\n",
       " 'partition',\n",
       " 'replace',\n",
       " 'rfind',\n",
       " 'rindex',\n",
       " 'rjust',\n",
       " 'rpartition',\n",
       " 'rsplit',\n",
       " 'rstrip',\n",
       " 'split',\n",
       " 'splitlines',\n",
       " 'startswith',\n",
       " 'strip',\n",
       " 'swapcase',\n",
       " 'title',\n",
       " 'translate',\n",
       " 'upper',\n",
       " 'zfill']"
      ]
     },
     "execution_count": 7,
     "metadata": {},
     "output_type": "execute_result"
    }
   ],
   "source": [
    "x = \"al nafi\"\n",
    "dir(x)"
   ]
  },
  {
   "cell_type": "code",
   "execution_count": 1,
   "metadata": {},
   "outputs": [],
   "source": [
    "# Creating text file by command\n",
    "\n",
    "\n"
   ]
  },
  {
   "cell_type": "markdown",
   "metadata": {},
   "source": [
    "# Al nafi beta level seek method"
   ]
  },
  {
   "cell_type": "code",
   "execution_count": 15,
   "metadata": {},
   "outputs": [
    {
     "name": "stdout",
     "output_type": "stream",
     "text": [
      "Writing myfile1.txt\n"
     ]
    }
   ],
   "source": [
    "%%writefile myfile1.txt\n",
    "Assalam o alaikum\n",
    "This is Al Nafi Python Beta 109 lecture\n",
    "and we are going to learn input and output function"
   ]
  },
  {
   "cell_type": "code",
   "execution_count": 17,
   "metadata": {},
   "outputs": [],
   "source": [
    "myfile1 = open('myfile1.txt')"
   ]
  },
  {
   "cell_type": "code",
   "execution_count": 18,
   "metadata": {},
   "outputs": [
    {
     "data": {
      "text/plain": [
       "'Assalam o alaikum\\nThis is Al Nafi Python Beta 109 lecture\\nand we are going to learn input and output function\\n'"
      ]
     },
     "execution_count": 18,
     "metadata": {},
     "output_type": "execute_result"
    }
   ],
   "source": [
    "myfile1.read()"
   ]
  },
  {
   "cell_type": "code",
   "execution_count": 19,
   "metadata": {},
   "outputs": [
    {
     "data": {
      "text/plain": [
       "''"
      ]
     },
     "execution_count": 19,
     "metadata": {},
     "output_type": "execute_result"
    }
   ],
   "source": [
    "# once we read file in python and if we want to read again it will show empty untill we set the curser again on zero..\n",
    "\n",
    "\n",
    "myfile1.read()"
   ]
  },
  {
   "cell_type": "code",
   "execution_count": 20,
   "metadata": {},
   "outputs": [
    {
     "data": {
      "text/plain": [
       "0"
      ]
     },
     "execution_count": 20,
     "metadata": {},
     "output_type": "execute_result"
    }
   ],
   "source": [
    "# now we set curser again \n",
    "\n",
    "myfile1.seek(0)"
   ]
  },
  {
   "cell_type": "code",
   "execution_count": 22,
   "metadata": {},
   "outputs": [
    {
     "data": {
      "text/plain": [
       "'Assalam o alaikum\\nThis is Al Nafi Python Beta 109 lecture\\nand we are going to learn input and output function\\n'"
      ]
     },
     "execution_count": 22,
     "metadata": {},
     "output_type": "execute_result"
    }
   ],
   "source": [
    "# now it will show the file.....\n",
    "\n",
    "\n",
    "myfile1.read()"
   ]
  },
  {
   "cell_type": "code",
   "execution_count": 23,
   "metadata": {},
   "outputs": [
    {
     "data": {
      "text/plain": [
       "0"
      ]
     },
     "execution_count": 23,
     "metadata": {},
     "output_type": "execute_result"
    }
   ],
   "source": [
    "# if we want to read the file as we write it than.....\n",
    "\n",
    "\n",
    "myfile1.seek(0)"
   ]
  },
  {
   "cell_type": "code",
   "execution_count": 24,
   "metadata": {},
   "outputs": [
    {
     "data": {
      "text/plain": [
       "'Assalam o alaikum\\n'"
      ]
     },
     "execution_count": 24,
     "metadata": {},
     "output_type": "execute_result"
    }
   ],
   "source": [
    "myfile1.readline()"
   ]
  },
  {
   "cell_type": "code",
   "execution_count": 25,
   "metadata": {},
   "outputs": [
    {
     "data": {
      "text/plain": [
       "'This is Al Nafi Python Beta 109 lecture\\n'"
      ]
     },
     "execution_count": 25,
     "metadata": {},
     "output_type": "execute_result"
    }
   ],
   "source": [
    "# and if we apply same command without seeking than it will read next line for example.....\n",
    "\n",
    "myfile1.readline()"
   ]
  },
  {
   "cell_type": "code",
   "execution_count": 26,
   "metadata": {},
   "outputs": [
    {
     "data": {
      "text/plain": [
       "0"
      ]
     },
     "execution_count": 26,
     "metadata": {},
     "output_type": "execute_result"
    }
   ],
   "source": [
    "# now again reset the curser\n",
    "\n",
    "myfile1.seek(0)"
   ]
  },
  {
   "cell_type": "code",
   "execution_count": 27,
   "metadata": {},
   "outputs": [
    {
     "data": {
      "text/plain": [
       "['Assalam o alaikum\\n',\n",
       " 'This is Al Nafi Python Beta 109 lecture\\n',\n",
       " 'and we are going to learn input and output function\\n']"
      ]
     },
     "execution_count": 27,
     "metadata": {},
     "output_type": "execute_result"
    }
   ],
   "source": [
    "myfile1.readlines()"
   ]
  },
  {
   "cell_type": "markdown",
   "metadata": {},
   "source": [
    "# if we want to know where the file is being saving...\n",
    "\n",
    "\n"
   ]
  },
  {
   "cell_type": "code",
   "execution_count": 30,
   "metadata": {},
   "outputs": [
    {
     "data": {
      "text/plain": [
       "'C:\\\\Users\\\\Musta'"
      ]
     },
     "execution_count": 30,
     "metadata": {},
     "output_type": "execute_result"
    }
   ],
   "source": [
    "# than ......\n",
    "\n",
    "pwd"
   ]
  },
  {
   "cell_type": "code",
   "execution_count": 32,
   "metadata": {},
   "outputs": [],
   "source": [
    "# if we want to go in real given location pc then type.....\n",
    "\n",
    "\n",
    "#   C:\\Users\\Musta"
   ]
  },
  {
   "cell_type": "markdown",
   "metadata": {},
   "source": [
    "# Beta level up"
   ]
  },
  {
   "cell_type": "markdown",
   "metadata": {},
   "source": [
    "# Reading file "
   ]
  },
  {
   "cell_type": "code",
   "execution_count": null,
   "metadata": {},
   "outputs": [],
   "source": [
    "# first of all we created a file named myfile_2 in pwd\n",
    "\n",
    "# then created a variable named \"data_1\"\n",
    "\n",
    "# f is a variable where we are saving the processor and output of reading command.\n",
    "\n",
    "# make a loop\n",
    "\n",
    "# and append it on empty list called data_1"
   ]
  },
  {
   "cell_type": "code",
   "execution_count": 5,
   "metadata": {},
   "outputs": [],
   "source": [
    "# without striping (deleting) \\n\n",
    "\n",
    "\n",
    "\n",
    "data_1 = []\n",
    "\n",
    "f = open('myfile_2.txt', \"r\")\n",
    "\n",
    "for row in f:\n",
    "    \n",
    "    data_1.append(row)\n",
    "    \n",
    "f.close()\n",
    "\n",
    "# it will show \"\\n \" with every single elemnt except the last character....."
   ]
  },
  {
   "cell_type": "code",
   "execution_count": 6,
   "metadata": {},
   "outputs": [
    {
     "data": {
      "text/plain": [
       "['1\\n',\n",
       " '2\\n',\n",
       " '3\\n',\n",
       " '4\\n',\n",
       " '5\\n',\n",
       " '6\\n',\n",
       " 'Al nafi\\n',\n",
       " 'character\\n',\n",
       " 'alphabets']"
      ]
     },
     "execution_count": 6,
     "metadata": {},
     "output_type": "execute_result"
    }
   ],
   "source": [
    "data_1"
   ]
  },
  {
   "cell_type": "code",
   "execution_count": 11,
   "metadata": {},
   "outputs": [],
   "source": [
    "# with striping (deleting) \\n\n",
    "\n",
    "\n",
    "data_2 = []\n",
    "\n",
    "f_2 = open('myfile_2.txt', \"r\")\n",
    "\n",
    "for row_2 in f_2:\n",
    "    \n",
    "    r = row_2.strip('\\n')  # here we are deleting or cleaning \"\\n\"\n",
    "    \n",
    "    data_2.append(r)\n",
    "    \n",
    "f_2.close()"
   ]
  },
  {
   "cell_type": "code",
   "execution_count": 12,
   "metadata": {},
   "outputs": [
    {
     "data": {
      "text/plain": [
       "['1', '2', '3', '4', '5', '6', 'Al nafi', 'character', 'alphabets']"
      ]
     },
     "execution_count": 12,
     "metadata": {},
     "output_type": "execute_result"
    }
   ],
   "source": [
    "data_2"
   ]
  },
  {
   "cell_type": "markdown",
   "metadata": {},
   "source": [
    "# Writing file using\"with\"\n"
   ]
  },
  {
   "cell_type": "code",
   "execution_count": 14,
   "metadata": {},
   "outputs": [],
   "source": [
    "write_data = [\"Alpha\", \"Beta\", \"Gamma\", \"Zeta\", \"Epsilon\"]\n",
    "\n",
    "with open(\"greek_letters.txt\", \"w\") as g :\n",
    "    \n",
    "    for value in write_data :\n",
    "        \n",
    "        g.write(value)\n",
    "        g.write(\"\\n\")\n",
    "        \n",
    "g.close()"
   ]
  },
  {
   "cell_type": "code",
   "execution_count": 19,
   "metadata": {},
   "outputs": [],
   "source": [
    "# checking here.....\n",
    "\n",
    "test_1 = open('greek_letters.txt')"
   ]
  },
  {
   "cell_type": "code",
   "execution_count": 20,
   "metadata": {},
   "outputs": [
    {
     "data": {
      "text/plain": [
       "['Alpha\\n', 'Beta\\n', 'Gamma\\n', 'Zeta\\n', 'Epsilon\\n']"
      ]
     },
     "execution_count": 20,
     "metadata": {},
     "output_type": "execute_result"
    }
   ],
   "source": [
    "test_1.readlines()"
   ]
  },
  {
   "cell_type": "code",
   "execution_count": null,
   "metadata": {},
   "outputs": [],
   "source": []
  },
  {
   "cell_type": "markdown",
   "metadata": {},
   "source": [
    "# Appending data into a file.."
   ]
  },
  {
   "cell_type": "code",
   "execution_count": 22,
   "metadata": {},
   "outputs": [],
   "source": [
    "append_data = [\"Delta\", \"Eta\", \"Theta\", \"Platinum\"]\n",
    "\n",
    "with open(\"greek_letters.txt\", \"a\") as h :     # here is difference we are using \"a \" fro appending not \"w\" that is writing\n",
    "    \n",
    "    for value_1 in append_data :\n",
    "        \n",
    "        h.write(value_1)\n",
    "        h.write(\"\\n\")\n",
    "        \n",
    "h.close()\n",
    "    \n",
    "    \n"
   ]
  },
  {
   "cell_type": "code",
   "execution_count": 24,
   "metadata": {},
   "outputs": [
    {
     "data": {
      "text/plain": [
       "['Alpha\\n',\n",
       " 'Beta\\n',\n",
       " 'Gamma\\n',\n",
       " 'Zeta\\n',\n",
       " 'Epsilon\\n',\n",
       " 'Delta\\n',\n",
       " 'Eta\\n',\n",
       " 'Theta\\n',\n",
       " 'Platinum\\n',\n",
       " 'Delta\\n',\n",
       " 'Eta\\n',\n",
       " 'Theta\\n',\n",
       " 'Platinum\\n']"
      ]
     },
     "execution_count": 24,
     "metadata": {},
     "output_type": "execute_result"
    }
   ],
   "source": [
    "# Now testing it.....\n",
    "\n",
    "test_2 = open('greek_letters.txt')\n",
    "\n",
    "test_2.readlines()"
   ]
  },
  {
   "cell_type": "markdown",
   "metadata": {},
   "source": [
    "# writing with index position"
   ]
  },
  {
   "cell_type": "code",
   "execution_count": 37,
   "metadata": {},
   "outputs": [],
   "source": [
    "data_index = [\"Kabab\", \"fruit chat\", \"dahi barey\", \"choley\", \"pakorey\", \"samosey\"]\n",
    "\n",
    "with open(\"new_letters.txt\", \"w\") as m :\n",
    "    \n",
    "    for ind, value in enumerate (data_index):\n",
    "        \n",
    "        p = f\" {ind}    {value} \"\n",
    "        \n",
    "        m.write(p)\n",
    "        \n",
    "        m.write(\"\\n\")\n",
    "        \n",
    "        \n",
    "m.close()"
   ]
  },
  {
   "cell_type": "code",
   "execution_count": 38,
   "metadata": {},
   "outputs": [
    {
     "data": {
      "text/plain": [
       "[' 0    Kabab \\n',\n",
       " ' 1    fruit chat \\n',\n",
       " ' 2    dahi barey \\n',\n",
       " ' 3    choley \\n',\n",
       " ' 4    pakorey \\n',\n",
       " ' 5    samosey \\n']"
      ]
     },
     "execution_count": 38,
     "metadata": {},
     "output_type": "execute_result"
    }
   ],
   "source": [
    "# checking it again.............\n",
    "\n",
    "test_3 = open('new_letters.txt')\n",
    "\n",
    "test_3.readlines()"
   ]
  },
  {
   "cell_type": "markdown",
   "metadata": {},
   "source": [
    "# reading a CSV file"
   ]
  },
  {
   "cell_type": "code",
   "execution_count": 39,
   "metadata": {},
   "outputs": [
    {
     "name": "stdout",
     "output_type": "stream",
     "text": [
      "The total count of row is :  29\n"
     ]
    }
   ],
   "source": [
    "file_name = \"new_csv.csv\"\n",
    "\n",
    "observation = []\n",
    "\n",
    "count = 0\n",
    "\n",
    "with open(file_name , 'r') as tempfile :\n",
    "    \n",
    "    header = tempfile.__next__()\n",
    "    \n",
    "    for row_c in tempfile :\n",
    "        \n",
    "        observation.append(row_c.strip(\"\\n\"))\n",
    "        \n",
    "        count += 1\n",
    "        \n",
    "        \n",
    "print(\"The total count of row is : \", count)\n",
    "    "
   ]
  },
  {
   "cell_type": "code",
   "execution_count": 40,
   "metadata": {},
   "outputs": [
    {
     "data": {
      "text/plain": [
       "['Temp\\tday\\n',\n",
       " '20\\t\\n',\n",
       " '18\\t\\n',\n",
       " '16\\t\\n',\n",
       " '22\\t\\n',\n",
       " '35\\t\\n',\n",
       " '36\\t\\n',\n",
       " '42\\t\\n',\n",
       " '15\\t\\n',\n",
       " '17\\t\\n',\n",
       " '31\\t\\n',\n",
       " '69\\t\\n',\n",
       " '45\\t\\n',\n",
       " '43\\t\\n',\n",
       " '12\\t\\n',\n",
       " '11\\t\\n',\n",
       " '29\\t\\n',\n",
       " '27\\t\\n',\n",
       " '13\\t\\n',\n",
       " '41\\t\\n',\n",
       " '38\\t\\n',\n",
       " '39\\t\\n',\n",
       " '31\\t\\n',\n",
       " '27\\t\\n',\n",
       " '22\\t\\n',\n",
       " '29\\t\\n',\n",
       " '16\\t\\n',\n",
       " '18\\t\\n',\n",
       " '29\\t\\n',\n",
       " '31\\t\\n']"
      ]
     },
     "execution_count": 40,
     "metadata": {},
     "output_type": "execute_result"
    }
   ],
   "source": [
    "# checking ...........\n",
    "\n",
    "test_4 = open('new_csv.csv')\n",
    "\n",
    "test_4.readlines()"
   ]
  },
  {
   "cell_type": "code",
   "execution_count": null,
   "metadata": {},
   "outputs": [],
   "source": []
  },
  {
   "cell_type": "code",
   "execution_count": null,
   "metadata": {},
   "outputs": [],
   "source": []
  },
  {
   "cell_type": "code",
   "execution_count": null,
   "metadata": {},
   "outputs": [],
   "source": []
  },
  {
   "cell_type": "code",
   "execution_count": null,
   "metadata": {},
   "outputs": [],
   "source": []
  },
  {
   "cell_type": "code",
   "execution_count": null,
   "metadata": {},
   "outputs": [],
   "source": []
  },
  {
   "cell_type": "code",
   "execution_count": null,
   "metadata": {},
   "outputs": [],
   "source": []
  },
  {
   "cell_type": "code",
   "execution_count": null,
   "metadata": {},
   "outputs": [],
   "source": []
  },
  {
   "cell_type": "code",
   "execution_count": null,
   "metadata": {},
   "outputs": [],
   "source": []
  },
  {
   "cell_type": "code",
   "execution_count": null,
   "metadata": {},
   "outputs": [],
   "source": []
  }
 ],
 "metadata": {
  "kernelspec": {
   "display_name": "Python 3",
   "language": "python",
   "name": "python3"
  },
  "language_info": {
   "codemirror_mode": {
    "name": "ipython",
    "version": 3
   },
   "file_extension": ".py",
   "mimetype": "text/x-python",
   "name": "python",
   "nbconvert_exporter": "python",
   "pygments_lexer": "ipython3",
   "version": "3.7.4"
  }
 },
 "nbformat": 4,
 "nbformat_minor": 2
}
