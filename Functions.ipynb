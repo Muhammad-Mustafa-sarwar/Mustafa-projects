{
 "cells": [
  {
   "cell_type": "code",
   "execution_count": 17,
   "metadata": {},
   "outputs": [
    {
     "name": "stdout",
     "output_type": "stream",
     "text": [
      "Thanks to Allah ! now i understand Functions very well.\n",
      "\n",
      " it's very easy and handy.\n",
      "\n",
      " If i do practice i would be expert soon, means more practice more expertise. \n"
     ]
    }
   ],
   "source": [
    "# Functions are nothing but a set of code or a set of instructions\n",
    "\n",
    "# functions without Argument, without Return\n",
    "\n",
    "def printmsg() :\n",
    "    print(\"Thanks to Allah ! now i understand Functions very well.\")\n",
    "    print(\"\\n it's very easy and handy.\")\n",
    "    print(\"\\n If i do practice i would be expert soon, means more practice more expertise. \")\n",
    "    \n",
    "printmsg()"
   ]
  },
  {
   "cell_type": "code",
   "execution_count": 18,
   "metadata": {},
   "outputs": [
    {
     "name": "stdout",
     "output_type": "stream",
     "text": [
      "Thanks to Allah ! now i understand Functions very well.\n",
      "\n",
      " it's very easy and handy.\n",
      "\n",
      " If i do practice i would be expert soon, means more practice more expertise. \n",
      "\n",
      "\n",
      "Thanks to Allah ! now i understand Functions very well.\n",
      "\n",
      " it's very easy and handy.\n",
      "\n",
      " If i do practice i would be expert soon, means more practice more expertise. \n"
     ]
    }
   ],
   "source": [
    "printmsg()\n",
    "print()\n",
    "print()\n",
    "printmsg()"
   ]
  },
  {
   "cell_type": "code",
   "execution_count": 23,
   "metadata": {},
   "outputs": [
    {
     "name": "stdout",
     "output_type": "stream",
     "text": [
      "i am learning pythone and my name is  Mustafa sarwar\n"
     ]
    }
   ],
   "source": [
    "# Functions with Argument without Return\n",
    "\n",
    "\n",
    "\n",
    "def printname(name):\n",
    "    print(\"i am learning pythone and my name is \" ,name)\n",
    "printname(\"Mustafa sarwar\")    "
   ]
  },
  {
   "cell_type": "code",
   "execution_count": 24,
   "metadata": {},
   "outputs": [
    {
     "name": "stdout",
     "output_type": "stream",
     "text": [
      "i am learning pythone and my name is Mustafa sarwar\n"
     ]
    }
   ],
   "source": [
    "def printname(name):\n",
    "    print(\"i am learning pythone and my name is \" +name)\n",
    "printname(\"Mustafa sarwar\")    "
   ]
  },
  {
   "cell_type": "code",
   "execution_count": 25,
   "metadata": {},
   "outputs": [
    {
     "name": "stdout",
     "output_type": "stream",
     "text": [
      "i am learning pythone and my name is  Muhammad Mustafa Sarwar\n",
      "\n",
      "\n",
      "\n",
      "\n",
      "i am learning pythone and my name is Muhammad Mustafa Sarwar\n"
     ]
    }
   ],
   "source": [
    "def printname(name):\n",
    "    print(\"i am learning pythone and my name is \" ,name)\n",
    "    \n",
    "printname(\"Muhammad Mustafa Sarwar\")    \n",
    "\n",
    "print()\n",
    "print()\n",
    "print()\n",
    "print()\n",
    "\n",
    "\n",
    "def printname(name):\n",
    "    print(\"i am learning pythone and my name is \" +name)\n",
    "    \n",
    "printname(\"Muhammad Mustafa Sarwar\") "
   ]
  },
  {
   "cell_type": "code",
   "execution_count": 41,
   "metadata": {},
   "outputs": [
    {
     "name": "stdout",
     "output_type": "stream",
     "text": [
      "My name is Mustafa sarwar and my aim is to become a  Data Scientist.\n",
      "\n",
      "\n",
      "\n",
      "My name is Muhammad Mustafa Sarwarand i want to learn Data Science.\n"
     ]
    }
   ],
   "source": [
    "def namehobby(name,aim):\n",
    "    print(\"My name is\", name ,\"and my aim is to become a \",aim)\n",
    "    \n",
    "namehobby(\"Mustafa sarwar\",\"Data Scientist.\")\n",
    "\n",
    "print()\n",
    "print()\n",
    "print()\n",
    "\n",
    "def namemission(name,mission):\n",
    "    print(\"My name is \"+ name +\"and i want to learn\" + mission)\n",
    "    \n",
    "namemission(\"Muhammad Mustafa Sarwar\",\" Data Science.\")\n"
   ]
  },
  {
   "cell_type": "code",
   "execution_count": 51,
   "metadata": {},
   "outputs": [
    {
     "name": "stdout",
     "output_type": "stream",
     "text": [
      "32\n"
     ]
    }
   ],
   "source": [
    "def add(v1,v2):\n",
    "    print(v1+v2)\n",
    "    \n",
    "add(10,22)"
   ]
  },
  {
   "cell_type": "code",
   "execution_count": 45,
   "metadata": {},
   "outputs": [
    {
     "name": "stdout",
     "output_type": "stream",
     "text": [
      "24\n",
      "\n",
      "\n",
      "87\n"
     ]
    }
   ],
   "source": [
    "add(5,19)\n",
    "print()\n",
    "print()\n",
    "\n",
    "\n",
    "add(22,65)"
   ]
  },
  {
   "cell_type": "code",
   "execution_count": 57,
   "metadata": {},
   "outputs": [
    {
     "data": {
      "text/plain": [
       "15"
      ]
     },
     "execution_count": 57,
     "metadata": {},
     "output_type": "execute_result"
    }
   ],
   "source": [
    "# Functions with Argumnt and with Return\n",
    "\n",
    "\n",
    "def add1(val1,val2):\n",
    "    return val1 + val2\n",
    "\n",
    "add1(9,6)"
   ]
  },
  {
   "cell_type": "code",
   "execution_count": 60,
   "metadata": {},
   "outputs": [
    {
     "name": "stdout",
     "output_type": "stream",
     "text": [
      "\n",
      "\n",
      "\n"
     ]
    },
    {
     "data": {
      "text/plain": [
       "130"
      ]
     },
     "execution_count": 60,
     "metadata": {},
     "output_type": "execute_result"
    }
   ],
   "source": [
    "def add1(val1,val2):\n",
    "    return val1 + val2\n",
    "\n",
    "add1(9,6) * 3\n",
    "\n",
    "print()\n",
    "print()\n",
    "print()\n",
    "\n",
    "add1(12,14) * 5"
   ]
  },
  {
   "cell_type": "code",
   "execution_count": 61,
   "metadata": {},
   "outputs": [
    {
     "data": {
      "text/plain": [
       "45"
      ]
     },
     "execution_count": 61,
     "metadata": {},
     "output_type": "execute_result"
    }
   ],
   "source": [
    "add1(9,6) * 3"
   ]
  },
  {
   "cell_type": "code",
   "execution_count": 64,
   "metadata": {},
   "outputs": [
    {
     "ename": "NameError",
     "evalue": "name 'num1' is not defined",
     "output_type": "error",
     "traceback": [
      "\u001b[1;31m---------------------------------------------------------------------------\u001b[0m",
      "\u001b[1;31mNameError\u001b[0m                                 Traceback (most recent call last)",
      "\u001b[1;32m<ipython-input-64-69049de0156e>\u001b[0m in \u001b[0;36m<module>\u001b[1;34m\u001b[0m\n\u001b[0;32m      8\u001b[0m \u001b[1;31m#now calling num1\u001b[0m\u001b[1;33m\u001b[0m\u001b[1;33m\u001b[0m\u001b[1;33m\u001b[0m\u001b[0m\n\u001b[0;32m      9\u001b[0m \u001b[1;33m\u001b[0m\u001b[0m\n\u001b[1;32m---> 10\u001b[1;33m \u001b[0mprint\u001b[0m\u001b[1;33m(\u001b[0m\u001b[0mnum1\u001b[0m\u001b[1;33m)\u001b[0m\u001b[1;33m\u001b[0m\u001b[1;33m\u001b[0m\u001b[0m\n\u001b[0m",
      "\u001b[1;31mNameError\u001b[0m: name 'num1' is not defined"
     ]
    }
   ],
   "source": [
    "# local variable and global variable\n",
    "# Local Variable\n",
    "\n",
    "def testfunc():\n",
    "    num1 = 10\n",
    "    num2 = 20\n",
    "    print(num1 * num2)\n",
    "    \n",
    "# Now calling num1, but it shows en error because variable is defined inside the function body so it is called local variable \n",
    "# that's why pythone does'nt recognized the variable outside the function.\n",
    "\n",
    "\n",
    "\n",
    "print(num1)"
   ]
  },
  {
   "cell_type": "code",
   "execution_count": 65,
   "metadata": {},
   "outputs": [
    {
     "name": "stdout",
     "output_type": "stream",
     "text": [
      "10\n"
     ]
    }
   ],
   "source": [
    "# Global Variable\n",
    "\n",
    "num1 = 10\n",
    "num2 = 20\n",
    "\n",
    "def testfunc():\n",
    "    \n",
    "    print(num1 * num2)\n",
    "    \n",
    "#now calling num1, so it will print now because it is out side the function so the variable is called global variable\n",
    "\n",
    "print(num1)"
   ]
  },
  {
   "cell_type": "code",
   "execution_count": 2,
   "metadata": {},
   "outputs": [
    {
     "name": "stdout",
     "output_type": "stream",
     "text": [
      "\n",
      "\n",
      "\n",
      "28\n"
     ]
    }
   ],
   "source": [
    "def func2(x):\n",
    "    return x*2\n",
    "\n",
    "print()\n",
    "print()\n",
    "\n",
    "a = func2(14)\n",
    "print(a)"
   ]
  },
  {
   "cell_type": "code",
   "execution_count": 7,
   "metadata": {},
   "outputs": [
    {
     "name": "stdout",
     "output_type": "stream",
     "text": [
      "(22, 6, 22, 6, 22, 6, 22, 6)\n"
     ]
    }
   ],
   "source": [
    "def func2B(x,y):\n",
    "    return (x,y) * 4\n",
    "\n",
    "c = func2B(22,6)\n",
    "print(c)"
   ]
  },
  {
   "cell_type": "code",
   "execution_count": 11,
   "metadata": {},
   "outputs": [
    {
     "name": "stdout",
     "output_type": "stream",
     "text": [
      "-9\n"
     ]
    }
   ],
   "source": [
    "def func3(x,y) :\n",
    "    return (x-y)\n",
    "\n",
    "D = func3(7,16)\n",
    "print(D)"
   ]
  },
  {
   "cell_type": "code",
   "execution_count": 14,
   "metadata": {},
   "outputs": [
    {
     "name": "stdout",
     "output_type": "stream",
     "text": [
      "45.6\n",
      "\n",
      "still inside the function\n"
     ]
    },
    {
     "data": {
      "text/plain": [
       "182.4"
      ]
     },
     "execution_count": 14,
     "metadata": {},
     "output_type": "execute_result"
    }
   ],
   "source": [
    "def func4(x):\n",
    "    print(x)\n",
    "    print(\"\\nstill inside the function\")\n",
    "    return x * 4\n",
    "\n",
    "func4(45.6)\n"
   ]
  },
  {
   "cell_type": "code",
   "execution_count": 15,
   "metadata": {},
   "outputs": [
    {
     "name": "stdout",
     "output_type": "stream",
     "text": [
      "16\n",
      "weeee\n"
     ]
    }
   ],
   "source": [
    "def func5(some_argument):\n",
    "    print(some_argument)\n",
    "    print(\"weeee\")\n",
    "    \n",
    "func5(16)"
   ]
  },
  {
   "cell_type": "code",
   "execution_count": null,
   "metadata": {},
   "outputs": [],
   "source": [
    "# BMI Calculator\n",
    "\n",
    "name1 = \"IK\"\n",
    "height_m1 = 2\n",
    "weight_kg1 = 90\n",
    "\n",
    "\n",
    "name2 = \"IK's sister\"\n",
    "height_m2 = 1.8\n",
    "weight_kg2 = 70\n",
    "\n",
    "name3 = \"IK's brother\"\n",
    "height_m3 = 2.5\n",
    "weight_kg3 = 160"
   ]
  },
  {
   "cell_type": "code",
   "execution_count": 26,
   "metadata": {},
   "outputs": [
    {
     "name": "stdout",
     "output_type": "stream",
     "text": [
      "BMI :\n",
      "22.5\n"
     ]
    },
    {
     "data": {
      "text/plain": [
       "'Ik is not over weight.'"
      ]
     },
     "execution_count": 26,
     "metadata": {},
     "output_type": "execute_result"
    }
   ],
   "source": [
    "def bmi_calc(name, height_m, weight_kg):\n",
    "    bmi = weight_kg / (height_m ** 2)\n",
    "    print(\"BMI :\")\n",
    "    print(bmi)\n",
    "    if bmi < 25 :\n",
    "        return name + \" is not over weight.\"\n",
    "    else:\n",
    "        return name + \" is over weight.\"\n",
    "    \n",
    "    \n",
    "bmi_calc(\"Ik\", 2, 90)"
   ]
  },
  {
   "cell_type": "code",
   "execution_count": 20,
   "metadata": {},
   "outputs": [
    {
     "name": "stdout",
     "output_type": "stream",
     "text": [
      "BMI :\n",
      "22.5\n"
     ]
    },
    {
     "data": {
      "text/plain": [
       "'IK is not over weight.'"
      ]
     },
     "execution_count": 20,
     "metadata": {},
     "output_type": "execute_result"
    }
   ],
   "source": [
    "bmi_calc(\"IK\", 2, 90)"
   ]
  },
  {
   "cell_type": "code",
   "execution_count": 22,
   "metadata": {},
   "outputs": [
    {
     "name": "stdout",
     "output_type": "stream",
     "text": [
      "BMI :\n",
      "21.604938271604937\n"
     ]
    },
    {
     "data": {
      "text/plain": [
       "\"IK's sister is not over weight.\""
      ]
     },
     "execution_count": 22,
     "metadata": {},
     "output_type": "execute_result"
    }
   ],
   "source": [
    "bmi_calc(\"IK's sister\", 1.8, 70)"
   ]
  },
  {
   "cell_type": "code",
   "execution_count": 27,
   "metadata": {},
   "outputs": [
    {
     "name": "stdout",
     "output_type": "stream",
     "text": [
      "BMI :\n",
      "25.6\n"
     ]
    },
    {
     "data": {
      "text/plain": [
       "\"IK's brother is over weight.\""
      ]
     },
     "execution_count": 27,
     "metadata": {},
     "output_type": "execute_result"
    }
   ],
   "source": [
    "bmi_calc(\"IK's brother\", 2.5, 160)"
   ]
  },
  {
   "cell_type": "code",
   "execution_count": 31,
   "metadata": {},
   "outputs": [
    {
     "name": "stdout",
     "output_type": "stream",
     "text": [
      "BMI :\n",
      "22.5\n",
      "BMI :\n",
      "21.604938271604937\n",
      "BMI :\n",
      "25.6\n",
      "IK is not over weight.\n",
      "IK's sister is not over weight.\n",
      "IK's brother is over weight.\n"
     ]
    }
   ],
   "source": [
    "result1 = bmi_calc(\"IK\", 2, 90)\n",
    "result2 = bmi_calc(\"IK's sister\", 1.8, 70)\n",
    "result3 = bmi_calc(\"IK's brother\", 2.5, 160)\n",
    "\n",
    "\n",
    "print(result1)\n",
    "print(result2)\n",
    "print(result3)"
   ]
  },
  {
   "cell_type": "code",
   "execution_count": null,
   "metadata": {},
   "outputs": [],
   "source": []
  },
  {
   "cell_type": "code",
   "execution_count": 46,
   "metadata": {},
   "outputs": [
    {
     "name": "stdout",
     "output_type": "stream",
     "text": [
      "Tom's total is : 9000\n",
      "joe's total is : 1400\n"
     ]
    }
   ],
   "source": [
    "toms_exp_list = [2100,3400,3500]\n",
    "joes_exp_list = [200,500,700]\n",
    "\n",
    "\n",
    "def calculate_total(exp):\n",
    "    total = 0\n",
    "    for item in exp:\n",
    "        total = total + item\n",
    "    return total\n",
    "\n",
    "toms_total = calculate_total(toms_exp_list)\n",
    "joes_total = calculate_total(joes_exp_list)\n",
    "\n",
    "print(\"Tom's total is :\", toms_total)\n",
    "print(\"joe's total is :\", joes_total)"
   ]
  },
  {
   "cell_type": "code",
   "execution_count": null,
   "metadata": {},
   "outputs": [],
   "source": []
  },
  {
   "cell_type": "code",
   "execution_count": null,
   "metadata": {},
   "outputs": [],
   "source": []
  },
  {
   "cell_type": "code",
   "execution_count": null,
   "metadata": {},
   "outputs": [],
   "source": []
  },
  {
   "cell_type": "code",
   "execution_count": null,
   "metadata": {},
   "outputs": [],
   "source": []
  },
  {
   "cell_type": "code",
   "execution_count": null,
   "metadata": {},
   "outputs": [],
   "source": []
  }
 ],
 "metadata": {
  "kernelspec": {
   "display_name": "Python 3",
   "language": "python",
   "name": "python3"
  },
  "language_info": {
   "codemirror_mode": {
    "name": "ipython",
    "version": 3
   },
   "file_extension": ".py",
   "mimetype": "text/x-python",
   "name": "python",
   "nbconvert_exporter": "python",
   "pygments_lexer": "ipython3",
   "version": "3.7.4"
  }
 },
 "nbformat": 4,
 "nbformat_minor": 2
}
