{
 "cells": [
  {
   "cell_type": "markdown",
   "metadata": {},
   "source": [
    "# functions without Argument, without Return"
   ]
  },
  {
   "cell_type": "code",
   "execution_count": 1,
   "metadata": {},
   "outputs": [
    {
     "name": "stdout",
     "output_type": "stream",
     "text": [
      "Thanks to Allah ! now i understand Functions very well.\n",
      "\n",
      " it's very easy and handy.\n",
      "\n",
      " If i do practice i would be expert soon, means more practice more expertise. \n"
     ]
    }
   ],
   "source": [
    "# Functions are nothing but a set of code or a set of instructions\n",
    "\n",
    "\n",
    "\n",
    "def printmsg() :\n",
    "    print(\"Thanks to Allah ! now i understand Functions very well.\")\n",
    "    print(\"\\n it's very easy and handy.\")\n",
    "    print(\"\\n If i do practice i would be expert soon, means more practice more expertise. \")\n",
    "    \n",
    "printmsg()"
   ]
  },
  {
   "cell_type": "code",
   "execution_count": 18,
   "metadata": {},
   "outputs": [
    {
     "name": "stdout",
     "output_type": "stream",
     "text": [
      "Thanks to Allah ! now i understand Functions very well.\n",
      "\n",
      " it's very easy and handy.\n",
      "\n",
      " If i do practice i would be expert soon, means more practice more expertise. \n",
      "\n",
      "\n",
      "Thanks to Allah ! now i understand Functions very well.\n",
      "\n",
      " it's very easy and handy.\n",
      "\n",
      " If i do practice i would be expert soon, means more practice more expertise. \n"
     ]
    }
   ],
   "source": [
    "printmsg()\n",
    "print()\n",
    "print()\n",
    "printmsg()"
   ]
  },
  {
   "cell_type": "markdown",
   "metadata": {},
   "source": [
    "# Functions with Argument without Return"
   ]
  },
  {
   "cell_type": "code",
   "execution_count": 2,
   "metadata": {},
   "outputs": [
    {
     "name": "stdout",
     "output_type": "stream",
     "text": [
      "i am learning pythone and my name is  Mustafa sarwar\n"
     ]
    }
   ],
   "source": [
    "\n",
    "\n",
    "\n",
    "\n",
    "def printname(name):\n",
    "    print(\"i am learning pythone and my name is \" ,name)\n",
    "printname(\"Mustafa sarwar\")    "
   ]
  },
  {
   "cell_type": "code",
   "execution_count": 24,
   "metadata": {},
   "outputs": [
    {
     "name": "stdout",
     "output_type": "stream",
     "text": [
      "i am learning pythone and my name is Mustafa sarwar\n"
     ]
    }
   ],
   "source": [
    "def printname(name):\n",
    "    print(\"i am learning pythone and my name is \" +name)\n",
    "printname(\"Mustafa sarwar\")    "
   ]
  },
  {
   "cell_type": "code",
   "execution_count": 25,
   "metadata": {},
   "outputs": [
    {
     "name": "stdout",
     "output_type": "stream",
     "text": [
      "i am learning pythone and my name is  Muhammad Mustafa Sarwar\n",
      "\n",
      "\n",
      "\n",
      "\n",
      "i am learning pythone and my name is Muhammad Mustafa Sarwar\n"
     ]
    }
   ],
   "source": [
    "def printname(name):\n",
    "    print(\"i am learning pythone and my name is \" ,name)\n",
    "    \n",
    "printname(\"Muhammad Mustafa Sarwar\")    \n",
    "\n",
    "print()\n",
    "print()\n",
    "print()\n",
    "print()\n",
    "\n",
    "\n",
    "def printname(name):\n",
    "    print(\"i am learning pythone and my name is \" +name)\n",
    "    \n",
    "printname(\"Muhammad Mustafa Sarwar\") "
   ]
  },
  {
   "cell_type": "code",
   "execution_count": 10,
   "metadata": {},
   "outputs": [
    {
     "name": "stdout",
     "output_type": "stream",
     "text": [
      "My name is Mustafa sarwar and my aim is to become a  Data Scientist.\n",
      "\n",
      "\n",
      "\n",
      "My name is Muhammad Mustafa Sarwar and i want to learn Data Science.\n"
     ]
    }
   ],
   "source": [
    "def namehobby(name,aim):\n",
    "    print(\"My name is\", name ,\"and my aim is to become a \",aim)\n",
    "    \n",
    "namehobby(\"Mustafa sarwar\",\"Data Scientist.\")\n",
    "\n",
    "print()\n",
    "print()\n",
    "print()\n",
    "\n",
    "def namemission(name,mission):\n",
    "    print(\"My name is \"+ name +\" and i want to learn\" + mission)\n",
    "    \n",
    "namemission(\"Muhammad Mustafa Sarwar\",\" Data Science.\")\n"
   ]
  },
  {
   "cell_type": "code",
   "execution_count": 51,
   "metadata": {},
   "outputs": [
    {
     "name": "stdout",
     "output_type": "stream",
     "text": [
      "32\n"
     ]
    }
   ],
   "source": [
    "def add(v1,v2):\n",
    "    print(v1+v2)\n",
    "    \n",
    "add(10,22)"
   ]
  },
  {
   "cell_type": "code",
   "execution_count": 45,
   "metadata": {},
   "outputs": [
    {
     "name": "stdout",
     "output_type": "stream",
     "text": [
      "24\n",
      "\n",
      "\n",
      "87\n"
     ]
    }
   ],
   "source": [
    "add(5,19)\n",
    "print()\n",
    "print()\n",
    "\n",
    "\n",
    "add(22,65)"
   ]
  },
  {
   "cell_type": "markdown",
   "metadata": {},
   "source": [
    "# Functions with Argument and with Return\n"
   ]
  },
  {
   "cell_type": "code",
   "execution_count": 12,
   "metadata": {},
   "outputs": [
    {
     "name": "stdout",
     "output_type": "stream",
     "text": [
      "27\n"
     ]
    }
   ],
   "source": [
    "def add_one(v1,v2) :\n",
    "    print(v1+v2)\n",
    "add_one(12,15)    "
   ]
  },
  {
   "cell_type": "code",
   "execution_count": null,
   "metadata": {},
   "outputs": [],
   "source": [
    "# it will do only thing what we define in print statement and except that nothing will print but.....\n"
   ]
  },
  {
   "cell_type": "code",
   "execution_count": 7,
   "metadata": {},
   "outputs": [
    {
     "data": {
      "text/plain": [
       "15"
      ]
     },
     "execution_count": 7,
     "metadata": {},
     "output_type": "execute_result"
    }
   ],
   "source": [
    "# but if we use return function it will do more things with given arguments and orders\n",
    "\n",
    "def add1(val1,val2):\n",
    "    return val1 + val2\n",
    "\n",
    "add1(9,6)"
   ]
  },
  {
   "cell_type": "code",
   "execution_count": 14,
   "metadata": {},
   "outputs": [
    {
     "name": "stdout",
     "output_type": "stream",
     "text": [
      "\n",
      "\n",
      "\n"
     ]
    },
    {
     "data": {
      "text/plain": [
       "130"
      ]
     },
     "execution_count": 14,
     "metadata": {},
     "output_type": "execute_result"
    }
   ],
   "source": [
    "# but if we use return function it will do more things with given arguments and orders, like this....\n",
    "\n",
    "def add1(val1,val2):\n",
    "    return val1 + val2\n",
    "\n",
    "\n",
    "\n",
    "print()\n",
    "print()\n",
    "print()\n",
    "\n",
    "add1(12,14) * 5"
   ]
  },
  {
   "cell_type": "code",
   "execution_count": 9,
   "metadata": {},
   "outputs": [
    {
     "data": {
      "text/plain": [
       "45"
      ]
     },
     "execution_count": 9,
     "metadata": {},
     "output_type": "execute_result"
    }
   ],
   "source": [
    "add1(9,6) * 3"
   ]
  },
  {
   "cell_type": "markdown",
   "metadata": {},
   "source": [
    "# adding argument to the function with return"
   ]
  },
  {
   "cell_type": "code",
   "execution_count": 15,
   "metadata": {},
   "outputs": [],
   "source": [
    "# if we don't tell the function to return what it will return nothing like it.....\n",
    "\n",
    "\n",
    "def add(a,b) :\n",
    "    return\n",
    "add(12,11)"
   ]
  },
  {
   "cell_type": "code",
   "execution_count": 16,
   "metadata": {},
   "outputs": [
    {
     "data": {
      "text/plain": [
       "23"
      ]
     },
     "execution_count": 16,
     "metadata": {},
     "output_type": "execute_result"
    }
   ],
   "source": [
    "def add(a,b) :\n",
    "    return a + b\n",
    "add(12,11)"
   ]
  },
  {
   "cell_type": "code",
   "execution_count": 18,
   "metadata": {},
   "outputs": [
    {
     "name": "stdout",
     "output_type": "stream",
     "text": [
      "14\n"
     ]
    }
   ],
   "source": [
    "# or \n",
    "\n",
    "def add(a,b):\n",
    "    return a+b\n",
    "\n",
    "total = add(5,9)\n",
    "print(total)"
   ]
  },
  {
   "cell_type": "code",
   "execution_count": 19,
   "metadata": {},
   "outputs": [
    {
     "name": "stdout",
     "output_type": "stream",
     "text": [
      "84\n"
     ]
    }
   ],
   "source": [
    "# more example\n",
    "\n",
    "def add(c,d):\n",
    "    return c * d\n",
    "\n",
    "total = add( c = 12, d = 7)\n",
    "print(total)"
   ]
  },
  {
   "cell_type": "markdown",
   "metadata": {},
   "source": [
    "# keyword arguments"
   ]
  },
  {
   "cell_type": "code",
   "execution_count": 23,
   "metadata": {},
   "outputs": [
    {
     "data": {
      "text/plain": [
       "26"
      ]
     },
     "execution_count": 23,
     "metadata": {},
     "output_type": "execute_result"
    }
   ],
   "source": [
    " def keyword_func(x = 7, y = 9):\n",
    "    return x+y\n",
    "\n",
    "keyword_func(11,15)"
   ]
  },
  {
   "cell_type": "code",
   "execution_count": 1,
   "metadata": {},
   "outputs": [
    {
     "ename": "NameError",
     "evalue": "name 'keyword_func' is not defined",
     "output_type": "error",
     "traceback": [
      "\u001b[1;31m---------------------------------------------------------------------------\u001b[0m",
      "\u001b[1;31mNameError\u001b[0m                                 Traceback (most recent call last)",
      "\u001b[1;32m<ipython-input-1-bd26c25f0d86>\u001b[0m in \u001b[0;36m<module>\u001b[1;34m\u001b[0m\n\u001b[0;32m      1\u001b[0m \u001b[1;31m# but if we nothing give any argument it will take by default value like it....\u001b[0m\u001b[1;33m\u001b[0m\u001b[1;33m\u001b[0m\u001b[1;33m\u001b[0m\u001b[0m\n\u001b[0;32m      2\u001b[0m \u001b[1;33m\u001b[0m\u001b[0m\n\u001b[1;32m----> 3\u001b[1;33m \u001b[0mkeyword_func\u001b[0m\u001b[1;33m(\u001b[0m\u001b[1;33m)\u001b[0m\u001b[1;33m\u001b[0m\u001b[1;33m\u001b[0m\u001b[0m\n\u001b[0m",
      "\u001b[1;31mNameError\u001b[0m: name 'keyword_func' is not defined"
     ]
    }
   ],
   "source": [
    "# but if we nothing give any argument it will take by default value like it....\n",
    "\n",
    "keyword_func()"
   ]
  },
  {
   "cell_type": "markdown",
   "metadata": {},
   "source": [
    "# Mixed arguments or Mixed functions"
   ]
  },
  {
   "cell_type": "code",
   "execution_count": 28,
   "metadata": {},
   "outputs": [],
   "source": [
    "# mixed function or mixed argument is the function where we provide some argument by default and leave some argument to fill...\n",
    "\n",
    "def mixed_func(a, b = 6, c = 8):\n",
    "    return a+b+c\n"
   ]
  },
  {
   "cell_type": "code",
   "execution_count": 31,
   "metadata": {},
   "outputs": [
    {
     "data": {
      "text/plain": [
       "15"
      ]
     },
     "execution_count": 31,
     "metadata": {},
     "output_type": "execute_result"
    }
   ],
   "source": [
    "mixed_func(1)"
   ]
  },
  {
   "cell_type": "markdown",
   "metadata": {},
   "source": [
    "# infinite arguments and keyword argument"
   ]
  },
  {
   "cell_type": "code",
   "execution_count": 2,
   "metadata": {},
   "outputs": [],
   "source": [
    "# we use * for arg and use ** for KW arg\n",
    "\n",
    "def many(*args, **kwargs):\n",
    "    print(args)\n",
    "    print(kwargs)"
   ]
  },
  {
   "cell_type": "code",
   "execution_count": 3,
   "metadata": {},
   "outputs": [
    {
     "name": "stdout",
     "output_type": "stream",
     "text": [
      "(1, 2, 3)\n",
      "{'name': 'Mustafa', 'organization': 'Al nafi'}\n"
     ]
    }
   ],
   "source": [
    "many(1,2,3, name = \"Mustafa\", organization = \"Al nafi\")"
   ]
  },
  {
   "cell_type": "markdown",
   "metadata": {},
   "source": [
    "# scope and global scope"
   ]
  },
  {
   "cell_type": "code",
   "execution_count": 5,
   "metadata": {},
   "outputs": [
    {
     "name": "stdout",
     "output_type": "stream",
     "text": [
      "14\n"
     ]
    },
    {
     "ename": "NameError",
     "evalue": "name 'a' is not defined",
     "output_type": "error",
     "traceback": [
      "\u001b[1;31m---------------------------------------------------------------------------\u001b[0m",
      "\u001b[1;31mNameError\u001b[0m                                 Traceback (most recent call last)",
      "\u001b[1;32m<ipython-input-5-956ce9c23296>\u001b[0m in \u001b[0;36m<module>\u001b[1;34m\u001b[0m\n\u001b[0;32m     10\u001b[0m \u001b[1;33m\u001b[0m\u001b[0m\n\u001b[0;32m     11\u001b[0m \u001b[0mprint\u001b[0m\u001b[1;33m(\u001b[0m\u001b[0mfunc_a\u001b[0m\u001b[1;33m(\u001b[0m\u001b[1;33m)\u001b[0m\u001b[1;33m)\u001b[0m\u001b[1;33m\u001b[0m\u001b[1;33m\u001b[0m\u001b[0m\n\u001b[1;32m---> 12\u001b[1;33m \u001b[0mprint\u001b[0m\u001b[1;33m(\u001b[0m\u001b[0mfunc_b\u001b[0m\u001b[1;33m(\u001b[0m\u001b[1;33m)\u001b[0m\u001b[1;33m)\u001b[0m\u001b[1;33m\u001b[0m\u001b[1;33m\u001b[0m\u001b[0m\n\u001b[0m",
      "\u001b[1;32m<ipython-input-5-956ce9c23296>\u001b[0m in \u001b[0;36mfunc_b\u001b[1;34m()\u001b[0m\n\u001b[0;32m      7\u001b[0m     \u001b[0mc\u001b[0m \u001b[1;33m=\u001b[0m \u001b[1;36m6\u001b[0m\u001b[1;33m\u001b[0m\u001b[1;33m\u001b[0m\u001b[0m\n\u001b[0;32m      8\u001b[0m \u001b[1;33m\u001b[0m\u001b[0m\n\u001b[1;32m----> 9\u001b[1;33m     \u001b[1;32mreturn\u001b[0m \u001b[0ma\u001b[0m\u001b[1;33m+\u001b[0m\u001b[0mc\u001b[0m\u001b[1;33m\u001b[0m\u001b[1;33m\u001b[0m\u001b[0m\n\u001b[0m\u001b[0;32m     10\u001b[0m \u001b[1;33m\u001b[0m\u001b[0m\n\u001b[0;32m     11\u001b[0m \u001b[0mprint\u001b[0m\u001b[1;33m(\u001b[0m\u001b[0mfunc_a\u001b[0m\u001b[1;33m(\u001b[0m\u001b[1;33m)\u001b[0m\u001b[1;33m)\u001b[0m\u001b[1;33m\u001b[0m\u001b[1;33m\u001b[0m\u001b[0m\n",
      "\u001b[1;31mNameError\u001b[0m: name 'a' is not defined"
     ]
    }
   ],
   "source": [
    "def func_a():\n",
    "    a = 10\n",
    "    b = 4\n",
    "    return a+b\n",
    "\n",
    "def func_b():\n",
    "    c = 6\n",
    "    \n",
    "    return a+c\n",
    "\n",
    "print(func_a())\n",
    "print(func_b())"
   ]
  },
  {
   "cell_type": "code",
   "execution_count": 6,
   "metadata": {},
   "outputs": [
    {
     "name": "stdout",
     "output_type": "stream",
     "text": [
      "14\n",
      "16\n"
     ]
    }
   ],
   "source": [
    "# but by this way it is so easy\n",
    "\n",
    "\n",
    "def func_a():\n",
    "    global a\n",
    "    a = 10\n",
    "    b = 4\n",
    "    return a+b\n",
    "\n",
    "def func_b():\n",
    "    c = 6\n",
    "    \n",
    "    return a+c\n",
    "\n",
    "print(func_a())\n",
    "print(func_b())"
   ]
  },
  {
   "cell_type": "code",
   "execution_count": null,
   "metadata": {},
   "outputs": [],
   "source": []
  },
  {
   "cell_type": "markdown",
   "metadata": {},
   "source": [
    "# local variable and global variable"
   ]
  },
  {
   "cell_type": "code",
   "execution_count": 4,
   "metadata": {},
   "outputs": [
    {
     "ename": "NameError",
     "evalue": "name 'num1' is not defined",
     "output_type": "error",
     "traceback": [
      "\u001b[1;31m---------------------------------------------------------------------------\u001b[0m",
      "\u001b[1;31mNameError\u001b[0m                                 Traceback (most recent call last)",
      "\u001b[1;32m<ipython-input-4-f6ad2b4570d2>\u001b[0m in \u001b[0;36m<module>\u001b[1;34m\u001b[0m\n\u001b[0;32m     11\u001b[0m \u001b[1;33m\u001b[0m\u001b[0m\n\u001b[0;32m     12\u001b[0m \u001b[1;33m\u001b[0m\u001b[0m\n\u001b[1;32m---> 13\u001b[1;33m \u001b[0mprint\u001b[0m\u001b[1;33m(\u001b[0m\u001b[0mnum1\u001b[0m\u001b[1;33m)\u001b[0m\u001b[1;33m\u001b[0m\u001b[1;33m\u001b[0m\u001b[0m\n\u001b[0m",
      "\u001b[1;31mNameError\u001b[0m: name 'num1' is not defined"
     ]
    }
   ],
   "source": [
    "\n",
    "# Local Variable\n",
    "\n",
    "def testfunc():\n",
    "    num1 = 10\n",
    "    num2 = 20\n",
    "    print(num1 * num2)\n",
    "    \n",
    "# Now calling num1, but it shows en error because variable is defined inside the function body so it is called local variable \n",
    "# that's why pythone does'nt recognized the variable outside the function.\n",
    "\n",
    "\n",
    "\n",
    "print(num1)"
   ]
  },
  {
   "cell_type": "code",
   "execution_count": 65,
   "metadata": {},
   "outputs": [
    {
     "name": "stdout",
     "output_type": "stream",
     "text": [
      "10\n"
     ]
    }
   ],
   "source": [
    "# Global Variable\n",
    "\n",
    "num1 = 10\n",
    "num2 = 20\n",
    "\n",
    "def testfunc():\n",
    "    \n",
    "    print(num1 * num2)\n",
    "    \n",
    "#now calling num1, so it will print now because it is out side the function so the variable is called global variable\n",
    "\n",
    "print(num1)"
   ]
  },
  {
   "cell_type": "code",
   "execution_count": 2,
   "metadata": {},
   "outputs": [
    {
     "name": "stdout",
     "output_type": "stream",
     "text": [
      "\n",
      "\n",
      "\n",
      "28\n"
     ]
    }
   ],
   "source": [
    "def func2(x):\n",
    "    return x*2\n",
    "\n",
    "print()\n",
    "print()\n",
    "\n",
    "a = func2(14)\n",
    "print(a)"
   ]
  },
  {
   "cell_type": "code",
   "execution_count": 7,
   "metadata": {},
   "outputs": [
    {
     "name": "stdout",
     "output_type": "stream",
     "text": [
      "(22, 6, 22, 6, 22, 6, 22, 6)\n"
     ]
    }
   ],
   "source": [
    "def func2B(x,y):\n",
    "    return (x,y) * 4\n",
    "\n",
    "c = func2B(22,6)\n",
    "print(c)"
   ]
  },
  {
   "cell_type": "code",
   "execution_count": 11,
   "metadata": {},
   "outputs": [
    {
     "name": "stdout",
     "output_type": "stream",
     "text": [
      "-9\n"
     ]
    }
   ],
   "source": [
    "def func3(x,y) :\n",
    "    return (x-y)\n",
    "\n",
    "D = func3(7,16)\n",
    "print(D)"
   ]
  },
  {
   "cell_type": "code",
   "execution_count": 14,
   "metadata": {},
   "outputs": [
    {
     "name": "stdout",
     "output_type": "stream",
     "text": [
      "45.6\n",
      "\n",
      "still inside the function\n"
     ]
    },
    {
     "data": {
      "text/plain": [
       "182.4"
      ]
     },
     "execution_count": 14,
     "metadata": {},
     "output_type": "execute_result"
    }
   ],
   "source": [
    "def func4(x):\n",
    "    print(x)\n",
    "    print(\"\\nstill inside the function\")\n",
    "    return x * 4\n",
    "\n",
    "func4(45.6)\n"
   ]
  },
  {
   "cell_type": "code",
   "execution_count": 8,
   "metadata": {},
   "outputs": [
    {
     "name": "stdout",
     "output_type": "stream",
     "text": [
      "16\n",
      "weeee\n"
     ]
    }
   ],
   "source": [
    "def func5(some_argument):\n",
    "    print(some_argument)\n",
    "    print(\"weeee\")\n",
    "    \n",
    "func5(16)"
   ]
  },
  {
   "cell_type": "markdown",
   "metadata": {},
   "source": [
    "# BMI Calculator"
   ]
  },
  {
   "cell_type": "code",
   "execution_count": null,
   "metadata": {},
   "outputs": [],
   "source": [
    "\n",
    "\n",
    "name1 = \"IK\"\n",
    "height_m1 = 2\n",
    "weight_kg1 = 90\n",
    "\n",
    "\n",
    "name2 = \"IK's sister\"\n",
    "height_m2 = 1.8\n",
    "weight_kg2 = 70\n",
    "\n",
    "name3 = \"IK's brother\"\n",
    "height_m3 = 2.5\n",
    "weight_kg3 = 160"
   ]
  },
  {
   "cell_type": "code",
   "execution_count": 26,
   "metadata": {},
   "outputs": [
    {
     "name": "stdout",
     "output_type": "stream",
     "text": [
      "BMI :\n",
      "22.5\n"
     ]
    },
    {
     "data": {
      "text/plain": [
       "'Ik is not over weight.'"
      ]
     },
     "execution_count": 26,
     "metadata": {},
     "output_type": "execute_result"
    }
   ],
   "source": [
    "def bmi_calc(name, height_m, weight_kg):\n",
    "    bmi = weight_kg / (height_m ** 2)\n",
    "    print(\"BMI :\")\n",
    "    print(bmi)\n",
    "    if bmi < 25 :\n",
    "        return name + \" is not over weight.\"\n",
    "    else:\n",
    "        return name + \" is over weight.\"\n",
    "    \n",
    "    \n",
    "bmi_calc(\"Ik\", 2, 90)"
   ]
  },
  {
   "cell_type": "code",
   "execution_count": 20,
   "metadata": {},
   "outputs": [
    {
     "name": "stdout",
     "output_type": "stream",
     "text": [
      "BMI :\n",
      "22.5\n"
     ]
    },
    {
     "data": {
      "text/plain": [
       "'IK is not over weight.'"
      ]
     },
     "execution_count": 20,
     "metadata": {},
     "output_type": "execute_result"
    }
   ],
   "source": [
    "bmi_calc(\"IK\", 2, 90)"
   ]
  },
  {
   "cell_type": "code",
   "execution_count": 22,
   "metadata": {},
   "outputs": [
    {
     "name": "stdout",
     "output_type": "stream",
     "text": [
      "BMI :\n",
      "21.604938271604937\n"
     ]
    },
    {
     "data": {
      "text/plain": [
       "\"IK's sister is not over weight.\""
      ]
     },
     "execution_count": 22,
     "metadata": {},
     "output_type": "execute_result"
    }
   ],
   "source": [
    "bmi_calc(\"IK's sister\", 1.8, 70)"
   ]
  },
  {
   "cell_type": "code",
   "execution_count": 27,
   "metadata": {},
   "outputs": [
    {
     "name": "stdout",
     "output_type": "stream",
     "text": [
      "BMI :\n",
      "25.6\n"
     ]
    },
    {
     "data": {
      "text/plain": [
       "\"IK's brother is over weight.\""
      ]
     },
     "execution_count": 27,
     "metadata": {},
     "output_type": "execute_result"
    }
   ],
   "source": [
    "bmi_calc(\"IK's brother\", 2.5, 160)"
   ]
  },
  {
   "cell_type": "code",
   "execution_count": 31,
   "metadata": {},
   "outputs": [
    {
     "name": "stdout",
     "output_type": "stream",
     "text": [
      "BMI :\n",
      "22.5\n",
      "BMI :\n",
      "21.604938271604937\n",
      "BMI :\n",
      "25.6\n",
      "IK is not over weight.\n",
      "IK's sister is not over weight.\n",
      "IK's brother is over weight.\n"
     ]
    }
   ],
   "source": [
    "result1 = bmi_calc(\"IK\", 2, 90)\n",
    "result2 = bmi_calc(\"IK's sister\", 1.8, 70)\n",
    "result3 = bmi_calc(\"IK's brother\", 2.5, 160)\n",
    "\n",
    "\n",
    "print(result1)\n",
    "print(result2)\n",
    "print(result3)"
   ]
  },
  {
   "cell_type": "code",
   "execution_count": null,
   "metadata": {},
   "outputs": [],
   "source": []
  },
  {
   "cell_type": "code",
   "execution_count": 46,
   "metadata": {},
   "outputs": [
    {
     "name": "stdout",
     "output_type": "stream",
     "text": [
      "Tom's total is : 9000\n",
      "joe's total is : 1400\n"
     ]
    }
   ],
   "source": [
    "toms_exp_list = [2100,3400,3500]\n",
    "joes_exp_list = [200,500,700]\n",
    "\n",
    "\n",
    "def calculate_total(exp):\n",
    "    total = 0\n",
    "    for item in exp:\n",
    "        total = total + item\n",
    "    return total\n",
    "\n",
    "toms_total = calculate_total(toms_exp_list)\n",
    "joes_total = calculate_total(joes_exp_list)\n",
    "\n",
    "print(\"Tom's total is :\", toms_total)\n",
    "print(\"joe's total is :\", joes_total)"
   ]
  },
  {
   "cell_type": "code",
   "execution_count": 7,
   "metadata": {},
   "outputs": [
    {
     "name": "stdout",
     "output_type": "stream",
     "text": [
      "1052\n"
     ]
    }
   ],
   "source": [
    "imrun_bill =[270,134,65,187,396]\n",
    "\n",
    "\n",
    "def calc_total(bill) :\n",
    "    total = 0\n",
    "    for i in bill :\n",
    "        total = total + i\n",
    "    return total\n",
    "\n",
    "a = calc_total(imrun_bill)\n",
    "\n",
    "print(a)\n"
   ]
  },
  {
   "cell_type": "code",
   "execution_count": 9,
   "metadata": {},
   "outputs": [
    {
     "data": {
      "text/plain": [
       "1052"
      ]
     },
     "execution_count": 9,
     "metadata": {},
     "output_type": "execute_result"
    }
   ],
   "source": [
    "calc_total(imrun_bill)"
   ]
  },
  {
   "cell_type": "markdown",
   "metadata": {},
   "source": [
    "# an Empty function or a Stub"
   ]
  },
  {
   "cell_type": "code",
   "execution_count": null,
   "metadata": {},
   "outputs": [],
   "source": [
    "# a pass function means it has no argument.\n",
    "# the pass statement is known as null operation, which means that when pass is executed, nothing-\n",
    "# -happens."
   ]
  },
  {
   "cell_type": "code",
   "execution_count": 4,
   "metadata": {},
   "outputs": [
    {
     "name": "stdout",
     "output_type": "stream",
     "text": [
      "we have created a function.\n"
     ]
    }
   ],
   "source": [
    "def alnafi_func() :\n",
    "    print(\"we have created a function.\")\n",
    "alnafi_func()"
   ]
  },
  {
   "cell_type": "code",
   "execution_count": 5,
   "metadata": {},
   "outputs": [],
   "source": [
    "def empty_func() :\n",
    "    pass\n",
    "empty_func()"
   ]
  },
  {
   "cell_type": "code",
   "execution_count": null,
   "metadata": {},
   "outputs": [],
   "source": []
  },
  {
   "cell_type": "markdown",
   "metadata": {},
   "source": [
    "# Beta level up"
   ]
  },
  {
   "cell_type": "code",
   "execution_count": null,
   "metadata": {},
   "outputs": [],
   "source": [
    "# definition \n",
    "\n",
    "# functions are code blocks assigned to a name that can be called repeatedly inside a code script.\n",
    "\n",
    "# Methods need to be define only once. The definition must precisely define what to do . like a set of instructions.\n",
    "\n",
    "# then when ever you call that function , python will know what code- block tp execute.\n",
    "\n",
    "# Methods or functions can take argument and return values too.\n",
    "\n",
    "# Arguments are what variables you want to execute the code block on.\n",
    "\n",
    "# Return data is what the method ultimately outputs after performing the computation.\n",
    "\n",
    "# you define a method as a combination of def statement and return statement, including your code block in between.\n",
    "\n"
   ]
  },
  {
   "cell_type": "code",
   "execution_count": 1,
   "metadata": {},
   "outputs": [],
   "source": [
    "def is_even(number) :\n",
    "    if number %2 == 0:\n",
    "        return True\n",
    "    \n",
    "    else :\n",
    "        return False\n",
    "        "
   ]
  },
  {
   "cell_type": "code",
   "execution_count": 2,
   "metadata": {},
   "outputs": [
    {
     "data": {
      "text/plain": [
       "True"
      ]
     },
     "execution_count": 2,
     "metadata": {},
     "output_type": "execute_result"
    }
   ],
   "source": [
    "is_even(12)"
   ]
  },
  {
   "cell_type": "code",
   "execution_count": 3,
   "metadata": {},
   "outputs": [
    {
     "data": {
      "text/plain": [
       "False"
      ]
     },
     "execution_count": 3,
     "metadata": {},
     "output_type": "execute_result"
    }
   ],
   "source": [
    "is_even(7)"
   ]
  },
  {
   "cell_type": "code",
   "execution_count": 7,
   "metadata": {},
   "outputs": [],
   "source": [
    "# or this one is much better\n",
    "\n",
    "def check_num(num) :\n",
    "    if num %2 ==0 and num != 0 :\n",
    "        print(\"it's an even number.\")\n",
    "    \n",
    "    elif num %2 != 0 :\n",
    "        print(\"it's an odd number.\")\n",
    "    \n",
    "    else :\n",
    "    \n",
    "        print(\"Neighter an even nor an odd number it is, it's a zero number.\")"
   ]
  },
  {
   "cell_type": "code",
   "execution_count": 6,
   "metadata": {},
   "outputs": [
    {
     "name": "stdout",
     "output_type": "stream",
     "text": [
      "it's an odd number.\n"
     ]
    }
   ],
   "source": [
    "check_num(19)"
   ]
  },
  {
   "cell_type": "code",
   "execution_count": 28,
   "metadata": {},
   "outputs": [
    {
     "name": "stdout",
     "output_type": "stream",
     "text": [
      "Neighter an even nor an odd number it is, it's a zero number.\n"
     ]
    }
   ],
   "source": [
    "check_num(0)"
   ]
  },
  {
   "cell_type": "markdown",
   "metadata": {},
   "source": [
    "# first exercise in beta level up"
   ]
  },
  {
   "cell_type": "code",
   "execution_count": 18,
   "metadata": {},
   "outputs": [],
   "source": [
    "grocery_list = [\"tea\", \"milk\", \"sugar\", \"rice\", \"chicken\", \"oil\"]"
   ]
  },
  {
   "cell_type": "code",
   "execution_count": 19,
   "metadata": {},
   "outputs": [],
   "source": [
    "def add_gr_list(item):\n",
    "    \n",
    "    grocery_list.append(item)\n",
    "    print(f'''new item \"{item}\" has been added in list. \\n ''')\n",
    "    print(grocery_list)\n",
    "    "
   ]
  },
  {
   "cell_type": "code",
   "execution_count": 20,
   "metadata": {},
   "outputs": [
    {
     "name": "stdout",
     "output_type": "stream",
     "text": [
      "new item \"spices\" has been added in list. \n",
      " \n",
      "['tea', 'milk', 'sugar', 'rice', 'chicken', 'oil', 'spices']\n"
     ]
    }
   ],
   "source": [
    "add_gr_list(\"spices\")\n",
    "\n"
   ]
  },
  {
   "cell_type": "markdown",
   "metadata": {},
   "source": [
    "# Exercise no. 2 inerting with given position."
   ]
  },
  {
   "cell_type": "code",
   "execution_count": 33,
   "metadata": {},
   "outputs": [],
   "source": [
    "def add_index(item):\n",
    "    \n",
    "    grocery_list.insert(3, item)\n",
    "    print(f'''new item \"{item}\" has been added in list at index''', grocery_list.index(item))\n",
    "    print(grocery_list)"
   ]
  },
  {
   "cell_type": "code",
   "execution_count": 35,
   "metadata": {},
   "outputs": [
    {
     "name": "stdout",
     "output_type": "stream",
     "text": [
      "new item \"cold drink\" has been added in list at index 3\n",
      "['tea', 'milk', 'sugar', 'cold drink', 'cold drink', 'item', 'rice', 'chicken', 'oil', 'spices', 'spices', 'spices', 'spices', 'spices', 'spices', 'spices']\n"
     ]
    }
   ],
   "source": [
    "add_index(\"cold drink\")"
   ]
  },
  {
   "cell_type": "code",
   "execution_count": null,
   "metadata": {},
   "outputs": [],
   "source": []
  },
  {
   "cell_type": "code",
   "execution_count": 3,
   "metadata": {},
   "outputs": [],
   "source": [
    "new_grocery = [\"tea\", \"milk\", \"sugar\", \"rice\", \"chicken\", \"oil\"]"
   ]
  },
  {
   "cell_type": "code",
   "execution_count": 10,
   "metadata": {},
   "outputs": [],
   "source": [
    "def add_ind(item):\n",
    "    \n",
    "    new_grocery.insert(3, item)\n",
    "    print(f'''new item \"{item}\" has been added in list at index''', new_grocery.index(item))\n",
    "    print(new_grocery)"
   ]
  },
  {
   "cell_type": "code",
   "execution_count": 12,
   "metadata": {},
   "outputs": [
    {
     "name": "stdout",
     "output_type": "stream",
     "text": [
      "new item \"peanuts\" has been added in list at index 3\n",
      "['tea', 'milk', 'sugar', 'peanuts', 'peanuts', 'peanuts', 'peanuts', 'rice', 'chicken', 'oil']\n"
     ]
    }
   ],
   "source": [
    "add_ind(\"peanuts\")"
   ]
  },
  {
   "cell_type": "code",
   "execution_count": 13,
   "metadata": {},
   "outputs": [],
   "source": [
    "def add_new(ind, item):\n",
    "    \n",
    "    new_grocery.insert(ind, item)\n",
    "    print(f'''new item \"{item}\" has been added in list at index''', new_grocery.index(item))\n",
    "    print(new_grocery)"
   ]
  },
  {
   "cell_type": "code",
   "execution_count": 14,
   "metadata": {},
   "outputs": [
    {
     "name": "stdout",
     "output_type": "stream",
     "text": [
      "new item \"soap\" has been added in list at index 5\n",
      "['tea', 'milk', 'sugar', 'peanuts', 'peanuts', 'soap', 'peanuts', 'peanuts', 'rice', 'chicken', 'oil']\n"
     ]
    }
   ],
   "source": [
    "add_new(5, \"soap\")"
   ]
  },
  {
   "cell_type": "code",
   "execution_count": null,
   "metadata": {},
   "outputs": [],
   "source": []
  },
  {
   "cell_type": "code",
   "execution_count": 54,
   "metadata": {},
   "outputs": [],
   "source": [
    "def cut_new(ind):\n",
    "    \n",
    "    new_grocery.pop(ind)\n",
    "    print(f'''an item  has been deleted from list at index''', new_grocery.index(ind))\n",
    "    print(new_grocery)"
   ]
  },
  {
   "cell_type": "code",
   "execution_count": 55,
   "metadata": {},
   "outputs": [
    {
     "ename": "IndexError",
     "evalue": "pop index out of range",
     "output_type": "error",
     "traceback": [
      "\u001b[1;31m---------------------------------------------------------------------------\u001b[0m",
      "\u001b[1;31mIndexError\u001b[0m                                Traceback (most recent call last)",
      "\u001b[1;32m<ipython-input-55-738c4f384135>\u001b[0m in \u001b[0;36m<module>\u001b[1;34m\u001b[0m\n\u001b[1;32m----> 1\u001b[1;33m \u001b[0mcut_new\u001b[0m\u001b[1;33m(\u001b[0m\u001b[1;36m1\u001b[0m\u001b[1;33m)\u001b[0m\u001b[1;33m\u001b[0m\u001b[1;33m\u001b[0m\u001b[0m\n\u001b[0m",
      "\u001b[1;32m<ipython-input-54-7b966ccff347>\u001b[0m in \u001b[0;36mcut_new\u001b[1;34m(ind)\u001b[0m\n\u001b[0;32m      1\u001b[0m \u001b[1;32mdef\u001b[0m \u001b[0mcut_new\u001b[0m\u001b[1;33m(\u001b[0m\u001b[0mind\u001b[0m\u001b[1;33m)\u001b[0m\u001b[1;33m:\u001b[0m\u001b[1;33m\u001b[0m\u001b[1;33m\u001b[0m\u001b[0m\n\u001b[0;32m      2\u001b[0m \u001b[1;33m\u001b[0m\u001b[0m\n\u001b[1;32m----> 3\u001b[1;33m     \u001b[0mnew_grocery\u001b[0m\u001b[1;33m.\u001b[0m\u001b[0mpop\u001b[0m\u001b[1;33m(\u001b[0m\u001b[0mind\u001b[0m\u001b[1;33m)\u001b[0m\u001b[1;33m\u001b[0m\u001b[1;33m\u001b[0m\u001b[0m\n\u001b[0m\u001b[0;32m      4\u001b[0m     \u001b[0mprint\u001b[0m\u001b[1;33m(\u001b[0m\u001b[1;34mf'''an item  has been deleted from list at index'''\u001b[0m\u001b[1;33m,\u001b[0m \u001b[0mnew_grocery\u001b[0m\u001b[1;33m.\u001b[0m\u001b[0mindex\u001b[0m\u001b[1;33m(\u001b[0m\u001b[0mind\u001b[0m\u001b[1;33m)\u001b[0m\u001b[1;33m)\u001b[0m\u001b[1;33m\u001b[0m\u001b[1;33m\u001b[0m\u001b[0m\n\u001b[0;32m      5\u001b[0m     \u001b[0mprint\u001b[0m\u001b[1;33m(\u001b[0m\u001b[0mnew_grocery\u001b[0m\u001b[1;33m)\u001b[0m\u001b[1;33m\u001b[0m\u001b[1;33m\u001b[0m\u001b[0m\n",
      "\u001b[1;31mIndexError\u001b[0m: pop index out of range"
     ]
    }
   ],
   "source": [
    "cut_new(1)"
   ]
  },
  {
   "cell_type": "code",
   "execution_count": 63,
   "metadata": {},
   "outputs": [
    {
     "data": {
      "text/plain": [
       "['tea']"
      ]
     },
     "execution_count": 63,
     "metadata": {},
     "output_type": "execute_result"
    }
   ],
   "source": [
    "new_grocery"
   ]
  },
  {
   "cell_type": "code",
   "execution_count": null,
   "metadata": {},
   "outputs": [],
   "source": []
  },
  {
   "cell_type": "markdown",
   "metadata": {},
   "source": [
    "# exercise no. 3 successfull pop an item and show in statement"
   ]
  },
  {
   "cell_type": "code",
   "execution_count": 56,
   "metadata": {},
   "outputs": [],
   "source": [
    "groc_one = ['tea', 'milk', 'sugar', 'peanuts', 'peanuts', 'peanuts', 'peanuts', 'rice', 'chicken', 'oil']"
   ]
  },
  {
   "cell_type": "code",
   "execution_count": 64,
   "metadata": {},
   "outputs": [],
   "source": [
    "def cut_one(ind):\n",
    "    \n",
    "    groc_one.pop(ind)\n",
    "    print(f'''an item \"{groc_one.pop(ind)}\"  has been deleted from list at index \\n ''' )\n",
    "    print(groc_one)"
   ]
  },
  {
   "cell_type": "code",
   "execution_count": 65,
   "metadata": {},
   "outputs": [
    {
     "name": "stdout",
     "output_type": "stream",
     "text": [
      "an item \"chicken\"  has been deleted from list at index \n",
      " \n",
      "['tea', 'milk', 'sugar', 'oil']\n"
     ]
    }
   ],
   "source": [
    "cut_one(3)"
   ]
  },
  {
   "cell_type": "markdown",
   "metadata": {},
   "source": [
    "# again practicing exercise no. 2 successfully....******"
   ]
  },
  {
   "cell_type": "code",
   "execution_count": null,
   "metadata": {},
   "outputs": [],
   "source": [
    "# in previous one there was a problem if we run the code multiple time it adds the item multiple time...\n",
    "# to avoid that i make this new one..."
   ]
  },
  {
   "cell_type": "code",
   "execution_count": 1,
   "metadata": {},
   "outputs": [],
   "source": [
    "bakery_list = [\"nimco\", \"biscuit\", \"toast\", \"bread\", \"chips\", \"juices\"]"
   ]
  },
  {
   "cell_type": "code",
   "execution_count": 9,
   "metadata": {},
   "outputs": [],
   "source": [
    "def add_elem(item):\n",
    "    \n",
    "    if bakery_list[3] != item :\n",
    "            \n",
    "        bakery_list.insert(3, item)\n",
    "        print(f'''new item \"{item}\" has been added in list at index''', bakery_list.index(item))\n",
    "        print(\" \\n And the new list is : \" , bakery_list)\n",
    "        \n",
    "    else:\n",
    "        print(f''' \"{item}\" is already exist in the list, \\n \\n and the list is : ''' , bakery_list)"
   ]
  },
  {
   "cell_type": "code",
   "execution_count": 3,
   "metadata": {},
   "outputs": [
    {
     "name": "stdout",
     "output_type": "stream",
     "text": [
      "new item \"cake\" has been added in list at index 3\n",
      " \n",
      " And the new list is :  ['nimco', 'biscuit', 'toast', 'cake', 'bread', 'chips', 'juices']\n"
     ]
    }
   ],
   "source": [
    "# adding the given item...\n",
    "\n",
    "\n",
    "add_elem(\"cake\")"
   ]
  },
  {
   "cell_type": "code",
   "execution_count": 10,
   "metadata": {},
   "outputs": [
    {
     "name": "stdout",
     "output_type": "stream",
     "text": [
      " \"cake\" is already exist in the list, \n",
      " \n",
      " and the list is :  ['nimco', 'biscuit', 'toast', 'cake', 'bread', 'chips', 'juices']\n"
     ]
    }
   ],
   "source": [
    "\n",
    "\n",
    "add_elem(\"cake\")   # not adding item as it is already in the list..."
   ]
  },
  {
   "cell_type": "markdown",
   "metadata": {},
   "source": [
    "# same exercise by using index position and \" NOT IN \" function.\n",
    "\n",
    "# it will check the given item in the whole list not only in given index position."
   ]
  },
  {
   "cell_type": "code",
   "execution_count": 11,
   "metadata": {},
   "outputs": [],
   "source": [
    "vege_list = [\"onion\", \"potato\", \"tomato\", \"green chilli\"]"
   ]
  },
  {
   "cell_type": "code",
   "execution_count": 15,
   "metadata": {},
   "outputs": [],
   "source": [
    "def add_vege(ind, item) :\n",
    "    \n",
    "    if item not in vege_list :\n",
    "        vege_list.insert(ind, item)\n",
    "        print(f''' New item \"{item}\" has been added at index''', vege_list.index(item))\n",
    "        print('''\\n And the new list is : ''', vege_list )\n",
    "        \n",
    "    else :\n",
    "        \n",
    "        print(f''' \"{item}\" is already exist in the list at index''', f''' \"{vege_list.index(item)}\" ''', \"and the list is : \\n \")\n",
    "        print(vege_list)"
   ]
  },
  {
   "cell_type": "code",
   "execution_count": 13,
   "metadata": {},
   "outputs": [
    {
     "name": "stdout",
     "output_type": "stream",
     "text": [
      " New item \"carrot\" has been added at index 2\n",
      "\n",
      " And the new list is :  ['onion', 'potato', 'carrot', 'tomato', 'green chilli']\n"
     ]
    }
   ],
   "source": [
    "add_vege(2, \"carrot\")"
   ]
  },
  {
   "cell_type": "code",
   "execution_count": 16,
   "metadata": {},
   "outputs": [
    {
     "name": "stdout",
     "output_type": "stream",
     "text": [
      " \"green chilli\" is already exist in the list at index  \"4\"  and the list is : \n",
      " \n",
      "['onion', 'potato', 'carrot', 'tomato', 'green chilli']\n"
     ]
    }
   ],
   "source": [
    "add_vege(3, \"green chilli\")"
   ]
  },
  {
   "cell_type": "markdown",
   "metadata": {},
   "source": [
    "# again excercise no. 3 success fully with better code ********"
   ]
  },
  {
   "cell_type": "code",
   "execution_count": 18,
   "metadata": {},
   "outputs": [],
   "source": [
    "fruity_list = [\"popaye\", \"pomegranate\", \"melon\", \"blue berries\", \"guava\", \"apple\", \"pine apple\", \"to1\", \"TO5\", \"TO9\"]"
   ]
  },
  {
   "cell_type": "code",
   "execution_count": 21,
   "metadata": {},
   "outputs": [],
   "source": [
    "def pop_elem(item) :\n",
    "    \n",
    "    if item in fruity_list :\n",
    "        k = fruity_list.index(item)\n",
    "        popped_item = fruity_list.pop(k)\n",
    "        print(f''' An item \"{popped_item}\" has been poped successfully from the list at index''', f' \"{k}\" ')\n",
    "        print(\"and the new list is : \")\n",
    "        print(fruity_list)\n",
    "        \n",
    "    else :\n",
    "        \n",
    "        print(f''' \"{item}\" does not exist in the list \\n ''')\n",
    "        print(\"and the list is : \")\n",
    "        print(fruity_list)\n",
    "        \n",
    "        \n",
    "# Here we are giving item rather then index position....\n",
    "\n",
    "# and check that if that is available or not if it is....\n",
    "\n",
    "# then make a variable to find the value of index of item and to store in it....\n",
    "\n",
    "# then we pop the item and find the poped item at a time using by \" popped item method\".....\n",
    "\n",
    "# and k is the position of poped item here.."
   ]
  },
  {
   "cell_type": "code",
   "execution_count": 20,
   "metadata": {},
   "outputs": [
    {
     "name": "stdout",
     "output_type": "stream",
     "text": [
      " An item \"to1\" has been poped from the list at index   \"7\" \n",
      "and the new list is : \n",
      "['popaye', 'pomegranate', 'melon', 'blue berries', 'guava', 'apple', 'pine apple', 'TO5', 'TO9']\n"
     ]
    }
   ],
   "source": [
    "pop_elem(\"to1\")"
   ]
  },
  {
   "cell_type": "code",
   "execution_count": 22,
   "metadata": {},
   "outputs": [
    {
     "name": "stdout",
     "output_type": "stream",
     "text": [
      " An item \"TO5\" has been poped successfully from the list at index  \"7\" \n",
      "and the new list is : \n",
      "['popaye', 'pomegranate', 'melon', 'blue berries', 'guava', 'apple', 'pine apple', 'TO9']\n"
     ]
    }
   ],
   "source": [
    "pop_elem(\"TO5\")"
   ]
  },
  {
   "cell_type": "markdown",
   "metadata": {},
   "source": [
    "# now we try to pop the item again that is already poped...  *******"
   ]
  },
  {
   "cell_type": "code",
   "execution_count": 24,
   "metadata": {},
   "outputs": [
    {
     "name": "stdout",
     "output_type": "stream",
     "text": [
      " \"to1\" does not exist in the list \n",
      " \n",
      "and the list is : \n",
      "['popaye', 'pomegranate', 'melon', 'blue berries', 'guava', 'apple', 'pine apple', 'TO9']\n"
     ]
    }
   ],
   "source": [
    "pop_elem(\"to1\")\n",
    "\n",
    "\n",
    "# here it is........."
   ]
  },
  {
   "cell_type": "code",
   "execution_count": null,
   "metadata": {},
   "outputs": [],
   "source": []
  },
  {
   "cell_type": "code",
   "execution_count": null,
   "metadata": {},
   "outputs": [],
   "source": []
  },
  {
   "cell_type": "code",
   "execution_count": null,
   "metadata": {},
   "outputs": [],
   "source": []
  },
  {
   "cell_type": "code",
   "execution_count": null,
   "metadata": {},
   "outputs": [],
   "source": []
  },
  {
   "cell_type": "code",
   "execution_count": null,
   "metadata": {},
   "outputs": [],
   "source": []
  },
  {
   "cell_type": "code",
   "execution_count": null,
   "metadata": {},
   "outputs": [],
   "source": []
  },
  {
   "cell_type": "code",
   "execution_count": null,
   "metadata": {},
   "outputs": [],
   "source": []
  },
  {
   "cell_type": "code",
   "execution_count": null,
   "metadata": {},
   "outputs": [],
   "source": []
  },
  {
   "cell_type": "code",
   "execution_count": null,
   "metadata": {},
   "outputs": [],
   "source": []
  },
  {
   "cell_type": "code",
   "execution_count": null,
   "metadata": {},
   "outputs": [],
   "source": []
  }
 ],
 "metadata": {
  "kernelspec": {
   "display_name": "Python 3",
   "language": "python",
   "name": "python3"
  },
  "language_info": {
   "codemirror_mode": {
    "name": "ipython",
    "version": 3
   },
   "file_extension": ".py",
   "mimetype": "text/x-python",
   "name": "python",
   "nbconvert_exporter": "python",
   "pygments_lexer": "ipython3",
   "version": "3.7.4"
  }
 },
 "nbformat": 4,
 "nbformat_minor": 2
}
