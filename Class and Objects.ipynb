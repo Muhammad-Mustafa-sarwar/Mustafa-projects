{
 "cells": [
  {
   "cell_type": "code",
   "execution_count": 1,
   "metadata": {},
   "outputs": [
    {
     "name": "stdout",
     "output_type": "stream",
     "text": [
      "tom cruise shoots a film\n",
      "tom cruise says how are you?\n"
     ]
    }
   ],
   "source": [
    "class Human:\n",
    "    def __init__(self, n, o):\n",
    "        self.name = n\n",
    "        self.occupation = o\n",
    "        \n",
    "        \n",
    "    def do_work(self) :\n",
    "        if self.occupation == \"tennis player\" :\n",
    "            print(self.name, \"plays tennis\")\n",
    "        \n",
    "            \n",
    "        elif self.occupation == \"actor\" :\n",
    "            print(self.name, \"shoots a film\")\n",
    "            \n",
    "        \n",
    "    def speaks(self) :\n",
    "            print(self.name,\"says how are you?\")\n",
    "            \n",
    "        \n",
    "        \n",
    "            \n",
    "tom = Human(\"tom cruise\",\"actor\")\n",
    "tom.do_work()\n",
    "tom.speaks()\n"
   ]
  },
  {
   "cell_type": "code",
   "execution_count": 6,
   "metadata": {},
   "outputs": [
    {
     "name": "stdout",
     "output_type": "stream",
     "text": [
      "Maria shrapoa plays tennis\n",
      "Maria shrapoa says how are you?\n"
     ]
    }
   ],
   "source": [
    "Maria = Human(\"Maria shrapoa\", \"tennis player\")\n",
    "Maria.do_work()\n",
    "Maria.speaks()"
   ]
  },
  {
   "cell_type": "code",
   "execution_count": 5,
   "metadata": {},
   "outputs": [
    {
     "name": "stdout",
     "output_type": "stream",
     "text": [
      "Mustafa\n",
      "Aslam\n",
      "40000\n",
      "Manager\n",
      "True\n",
      "\n",
      " Good salary\n"
     ]
    }
   ],
   "source": [
    "class Employee :\n",
    "    def __init__(self, name, father_name, designation, salary, is_active):\n",
    "        self.name = name\n",
    "        self.father_name = father_name\n",
    "        self.designation = designation\n",
    "        self.salary = salary\n",
    "        self.is_active = is_active\n",
    "        \n",
    "        \n",
    "employee_1 = Employee(\"Mustafa\", \"Aslam\", \"Manager\", 40000, True)\n",
    "\n",
    "\n",
    "print(employee_1.name)\n",
    "print(employee_1.father_name)\n",
    "print(employee_1.salary)\n",
    "print(employee_1.designation)\n",
    "print(employee_1.is_active)\n",
    "\n",
    "if employee_1.salary > 25000 :\n",
    "    print(\"\\n Good salary\")\n",
    "    \n",
    "else :\n",
    "    print(\"\\n Salary is Not Good Enough\")\n",
    "    "
   ]
  },
  {
   "cell_type": "code",
   "execution_count": null,
   "metadata": {},
   "outputs": [],
   "source": []
  },
  {
   "cell_type": "code",
   "execution_count": null,
   "metadata": {},
   "outputs": [],
   "source": []
  },
  {
   "cell_type": "code",
   "execution_count": null,
   "metadata": {},
   "outputs": [],
   "source": []
  }
 ],
 "metadata": {
  "kernelspec": {
   "display_name": "Python 3",
   "language": "python",
   "name": "python3"
  },
  "language_info": {
   "codemirror_mode": {
    "name": "ipython",
    "version": 3
   },
   "file_extension": ".py",
   "mimetype": "text/x-python",
   "name": "python",
   "nbconvert_exporter": "python",
   "pygments_lexer": "ipython3",
   "version": "3.7.4"
  }
 },
 "nbformat": 4,
 "nbformat_minor": 2
}
