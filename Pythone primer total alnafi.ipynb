{
 "cells": [
  {
   "cell_type": "code",
   "execution_count": 1,
   "metadata": {},
   "outputs": [
    {
     "data": {
      "text/plain": [
       "100"
      ]
     },
     "execution_count": 1,
     "metadata": {},
     "output_type": "execute_result"
    }
   ],
   "source": [
    "# Mathemetical functions\n",
    "\n",
    "65+35"
   ]
  },
  {
   "cell_type": "code",
   "execution_count": 2,
   "metadata": {},
   "outputs": [
    {
     "data": {
      "text/plain": [
       "-43"
      ]
     },
     "execution_count": 2,
     "metadata": {},
     "output_type": "execute_result"
    }
   ],
   "source": [
    "22-65"
   ]
  },
  {
   "cell_type": "code",
   "execution_count": 3,
   "metadata": {},
   "outputs": [
    {
     "data": {
      "text/plain": [
       "14"
      ]
     },
     "execution_count": 3,
     "metadata": {},
     "output_type": "execute_result"
    }
   ],
   "source": [
    "21-7"
   ]
  },
  {
   "cell_type": "code",
   "execution_count": 5,
   "metadata": {},
   "outputs": [
    {
     "data": {
      "text/plain": [
       "31.0"
      ]
     },
     "execution_count": 5,
     "metadata": {},
     "output_type": "execute_result"
    }
   ],
   "source": [
    "93/3"
   ]
  },
  {
   "cell_type": "code",
   "execution_count": 7,
   "metadata": {},
   "outputs": [
    {
     "data": {
      "text/plain": [
       "258.5"
      ]
     },
     "execution_count": 7,
     "metadata": {},
     "output_type": "execute_result"
    }
   ],
   "source": [
    "96+25*6.5"
   ]
  },
  {
   "cell_type": "code",
   "execution_count": 8,
   "metadata": {},
   "outputs": [
    {
     "data": {
      "text/plain": [
       "2163.5"
      ]
     },
     "execution_count": 8,
     "metadata": {},
     "output_type": "execute_result"
    }
   ],
   "source": [
    "65+96+(89/2)*45"
   ]
  },
  {
   "cell_type": "code",
   "execution_count": 10,
   "metadata": {},
   "outputs": [
    {
     "data": {
      "text/plain": [
       "210.1818181818182"
      ]
     },
     "execution_count": 10,
     "metadata": {},
     "output_type": "execute_result"
    }
   ],
   "source": [
    "70*(56/(45-23))+32"
   ]
  },
  {
   "cell_type": "code",
   "execution_count": 11,
   "metadata": {},
   "outputs": [
    {
     "data": {
      "text/plain": [
       "168"
      ]
     },
     "execution_count": 11,
     "metadata": {},
     "output_type": "execute_result"
    }
   ],
   "source": [
    "a = 81\n",
    "b= 56\n",
    "c= 31\n",
    "a+b+c"
   ]
  },
  {
   "cell_type": "code",
   "execution_count": 12,
   "metadata": {},
   "outputs": [
    {
     "name": "stdout",
     "output_type": "stream",
     "text": [
      "a wonderfull day\n"
     ]
    }
   ],
   "source": [
    "m = 'a wonderfull day'\n",
    "print(m)"
   ]
  },
  {
   "cell_type": "code",
   "execution_count": 13,
   "metadata": {},
   "outputs": [
    {
     "name": "stdout",
     "output_type": "stream",
     "text": [
      "close your eyes and sleep without tention\n"
     ]
    }
   ],
   "source": [
    "k = \"close your eyes and sleep without tention\"\n",
    "print(k)"
   ]
  },
  {
   "cell_type": "code",
   "execution_count": 15,
   "metadata": {},
   "outputs": [
    {
     "name": "stdout",
     "output_type": "stream",
     "text": [
      " My name is mustafa\n",
      "i want to learn data science\n",
      "and i will do my best inshallah for it\n"
     ]
    }
   ],
   "source": [
    "# usage of triple qoute for multi line string\n",
    "\n",
    "\n",
    "\n",
    "o= ''' My name is mustafa\n",
    "i want to learn data science\n",
    "and i will do my best inshallah for it'''\n",
    "print(o)"
   ]
  },
  {
   "cell_type": "code",
   "execution_count": 21,
   "metadata": {},
   "outputs": [
    {
     "name": "stdout",
     "output_type": "stream",
     "text": [
      "he said, \"aren't, shoudn't, can't, coudn't, wouldn't\"\n"
     ]
    }
   ],
   "source": [
    "# Usage of \\ (bacl slash) for avoiding qoute confusion\n",
    "\n",
    "\n",
    "\n",
    "Qoutes = 'he said, \"aren\\'t, shoudn\\'t, can\\'t, coudn\\'t, wouldn\\'t\"'\n",
    "print(Qoutes)"
   ]
  },
  {
   "cell_type": "code",
   "execution_count": 24,
   "metadata": {},
   "outputs": [
    {
     "name": "stdout",
     "output_type": "stream",
     "text": [
      "i scored 989 score.\n"
     ]
    }
   ],
   "source": [
    "# Usage of %s and % (for Embedding value.)\n",
    "\n",
    "\n",
    "MS = 989\n",
    "talk = 'i scored %s score.'\n",
    "print(talk %MS)"
   ]
  },
  {
   "cell_type": "code",
   "execution_count": 25,
   "metadata": {},
   "outputs": [
    {
     "name": "stdout",
     "output_type": "stream",
     "text": [
      "what did number 2 says to number 9 , Nice belts you brought\n"
     ]
    }
   ],
   "source": [
    "# Usage of %s and % (for Embedding value.)\n",
    "\n",
    "\n",
    "alpha = 'what did number %s says to number %s , Nice belts you brought'\n",
    "print(alpha %(2,9))"
   ]
  },
  {
   "cell_type": "code",
   "execution_count": 28,
   "metadata": {},
   "outputs": [
    {
     "data": {
      "text/plain": [
       "'a ba ba ba ba ba ba ba ba ba ba ba ba ba ba ba ba ba ba ba ba ba ba ba ba b'"
      ]
     },
     "execution_count": 28,
     "metadata": {},
     "output_type": "execute_result"
    }
   ],
   "source": [
    "# Multiplying strings\n",
    "\n",
    "\n",
    "'a b'*25"
   ]
  },
  {
   "cell_type": "code",
   "execution_count": 44,
   "metadata": {},
   "outputs": [
    {
     "name": "stdout",
     "output_type": "stream",
     "text": [
      "Dear sir!\n",
      "                          12 DHA phase 5\n",
      "                          H.no 346 110/1\n",
      "                          monitino House\n",
      "\n",
      "\n",
      "\n",
      "\n",
      "\n",
      "                          i think some think is really going wrong because i am not receiving the report properly and \n",
      "you should consider on the matter seriously i am afraid that we will not be able to aceive the target this year,\n",
      "i hope you will respond me \n",
      "\n",
      "\n",
      "\n",
      "Regards,\n",
      "sincerely yours\n",
      "Muhammad Mustafa sarwar\n"
     ]
    }
   ],
   "source": [
    "# Using a variable again n again with %s & s\n",
    "\n",
    "\n",
    "p = ' '*25\n",
    "print('Dear sir!')\n",
    "print('%s 12 DHA phase 5' %p)\n",
    "print('%s H.no 346 110/1' %p)\n",
    "print('%s monitino House' %p)\n",
    "print()\n",
    "print()\n",
    "print()\n",
    "print()\n",
    "print()\n",
    "print('''%s i think some think is really going wrong because i am not receiving the report properly and \n",
    "you should consider on the matter seriously i am afraid that we will not be able to aceive the target this year,\n",
    "i hope you will respond me ''' %p)\n",
    "print()\n",
    "print()\n",
    "print()\n",
    "print('Regards,')\n",
    "print('sincerely yours')\n",
    "print('Muhammad Mustafa sarwar')\n"
   ]
  },
  {
   "cell_type": "code",
   "execution_count": 54,
   "metadata": {},
   "outputs": [
    {
     "name": "stdout",
     "output_type": "stream",
     "text": [
      "['daal', 'Oil', 'ghee', 'Tea', 'detergent', 'Macroni', 'jelly']\n",
      "['daal', 'Oil', 'ghee', 'Tea']\n",
      "Macroni\n",
      "['Oil', 'ghee']\n",
      "['ghee', 'Tea', 'detergent', 'Macroni', 'jelly']\n",
      "['Oil', 'ghee', 'Tea', 'detergent', 'Macroni']\n",
      "[]\n",
      "['Macroni', 'jelly']\n",
      "['Macroni']\n"
     ]
    }
   ],
   "source": [
    "# List & Slicing\n",
    "\n",
    "\n",
    "Imrun_List = ['daal', 'Oil', 'ghee', 'Tea', 'detergent', 'Macroni', 'jelly']\n",
    "print(Imrun_List)\n",
    "print(Imrun_List[0:4])\n",
    "print(Imrun_List[5])\n",
    "print(Imrun_List[1:3])\n",
    "print(Imrun_List[2:7])\n",
    "print(Imrun_List[1:6])\n",
    "print(Imrun_List[4:3])\n",
    "print(Imrun_List[5:7])\n",
    "print(Imrun_List[5:6])"
   ]
  },
  {
   "cell_type": "code",
   "execution_count": 63,
   "metadata": {},
   "outputs": [
    {
     "name": "stdout",
     "output_type": "stream",
     "text": [
      "[6, 5, 7, 1, 3, 9, 0, 54, 87]\n",
      "\n",
      "\n",
      "\n",
      "\n",
      "['why', 'was', 'afraid', 'of', 'fall']\n",
      "\n",
      "\n",
      "\n",
      "[6, 5, 7, 1, 3, 9, 0, 54, 87, 'why', 'was', 'afraid', 'of', 'fall']\n",
      "\n",
      "\n",
      "\n",
      "[[6, 5, 7, 1, 3, 9, 0, 54, 87], ['why', 'was', 'afraid', 'of', 'fall']]\n"
     ]
    }
   ],
   "source": [
    "# list including numbers & string\n",
    "\n",
    "\n",
    "num = [6,5,7,1,3,9,0,54,87]\n",
    "print(num)\n",
    "\n",
    "print()\n",
    "print()\n",
    "print()\n",
    "print()\n",
    "\n",
    "\n",
    "string = ['why','was','afraid', 'of', 'fall']\n",
    "print(string)\n",
    "print()\n",
    "print()\n",
    "print()\n",
    "\n",
    "\n",
    "\n",
    "# Nested list in a list\n",
    "\n",
    "\n",
    "print(num + string)\n",
    "print()\n",
    "print()\n",
    "print()\n",
    "my_list = [num, string]\n",
    "print(my_list)\n"
   ]
  },
  {
   "cell_type": "code",
   "execution_count": 81,
   "metadata": {},
   "outputs": [
    {
     "name": "stdout",
     "output_type": "stream",
     "text": [
      "['detergent', 'soap', 'polish', 'oil', 'biscuits']\n",
      "\n",
      "\n",
      "\n",
      "['detergent', 'soap', 'polish', 'oil', 'biscuits', 'chocolates', 'cold drinks', 'cup cakes']\n",
      "\n",
      "\n",
      "\n",
      "\n",
      "['detergent', 'polish', 'oil', 'biscuits', 'chocolates', 'cold drinks', 'cup cakes']\n",
      "\n",
      "\n",
      "\n",
      "['detergent', 'polish', 'oil', 'biscuits', 'chocolates', 'cold drinks', 'cup cakes', 'detergent', 'polish', 'oil', 'biscuits', 'chocolates', 'cold drinks', 'cup cakes', 'detergent', 'polish', 'oil', 'biscuits', 'chocolates', 'cold drinks', 'cup cakes', 'detergent', 'polish', 'oil', 'biscuits', 'chocolates', 'cold drinks', 'cup cakes', 'detergent', 'polish', 'oil', 'biscuits', 'chocolates', 'cold drinks', 'cup cakes']\n"
     ]
    }
   ],
   "source": [
    "# Editing an existing list\n",
    "\n",
    "list_101 = ['detergent', 'soap', 'polish', 'oil', 'biscuits',]\n",
    "print(list_101)\n",
    "print()\n",
    "print()\n",
    "print()\n",
    "list_101.append('chocolates')\n",
    "list_101.append('cold drinks')\n",
    "list_101.append('cup cakes')\n",
    "print(list_101)\n",
    "print()\n",
    "print()\n",
    "print()\n",
    "print()\n",
    "\n",
    "# deleting an item from a list\n",
    "\n",
    "\n",
    "del list_101[1]\n",
    "print(list_101)\n",
    "\n",
    "# multiplying the list\n",
    "\n",
    "\n",
    "print()\n",
    "print()\n",
    "print()\n",
    "print(list_101*5)\n",
    "\n"
   ]
  },
  {
   "cell_type": "code",
   "execution_count": 88,
   "metadata": {},
   "outputs": [
    {
     "name": "stdout",
     "output_type": "stream",
     "text": [
      "('treat', 'medicine', 0, 56, 'toast')\n",
      "\n",
      "\n",
      "medicine\n",
      "\n",
      "\n",
      "('treat', 'medicine')\n",
      "\n",
      "\n",
      "('medicine', 0, 56, 'toast')\n",
      "\n",
      "\n",
      "(0, 56)\n"
     ]
    }
   ],
   "source": [
    " #  Tuples & slicing\n",
    "    \n",
    "    \n",
    "fibs = ('treat', 'medicine', 0, 56, 'toast')\n",
    "print(fibs)\n",
    "print()\n",
    "print()\n",
    "print(fibs[1])\n",
    "print()\n",
    "print()\n",
    "print(fibs[0:2])\n",
    "print()\n",
    "print()\n",
    "print(fibs[1:5])\n",
    "print()\n",
    "print()\n",
    "print(fibs[2:4])"
   ]
  },
  {
   "cell_type": "code",
   "execution_count": 2,
   "metadata": {},
   "outputs": [
    {
     "name": "stdout",
     "output_type": "stream",
     "text": [
      "56\n"
     ]
    }
   ],
   "source": [
    "fibs = ('treat', 'medicine', 0, 56, 'toast')\n",
    "print(fibs[3])"
   ]
  },
  {
   "cell_type": "code",
   "execution_count": 26,
   "metadata": {},
   "outputs": [
    {
     "name": "stdout",
     "output_type": "stream",
     "text": [
      "{'faizan': 'cricket', 'omer': 'football', 'kashif': 'hockey', 'bilal': 'rugby'}\n"
     ]
    }
   ],
   "source": [
    "# Maps or Dictionary\n",
    "\n",
    "fav_sports = {'faizan':'cricket', 'omer':'football', 'kashif':'hockey', 'bilal':'rugby'}\n",
    "print(fav_sports)\n"
   ]
  },
  {
   "cell_type": "code",
   "execution_count": 4,
   "metadata": {},
   "outputs": [
    {
     "name": "stdout",
     "output_type": "stream",
     "text": [
      "{'faizan': 'cricket', 'omer': 'football', 'kashif': 'hockey', 'bilal': 'rugby'}\n"
     ]
    }
   ],
   "source": [
    "print(fav_sports)"
   ]
  },
  {
   "cell_type": "code",
   "execution_count": 11,
   "metadata": {},
   "outputs": [
    {
     "name": "stdout",
     "output_type": "stream",
     "text": [
      "rugby\n"
     ]
    }
   ],
   "source": [
    "print(fav_sports['bilal'])"
   ]
  },
  {
   "cell_type": "code",
   "execution_count": 27,
   "metadata": {},
   "outputs": [
    {
     "name": "stdout",
     "output_type": "stream",
     "text": [
      "{'faizan': 'cricket', 'omer': 'football', 'kashif': 'hockey', 'bilal': 'rugby'}\n"
     ]
    }
   ],
   "source": [
    "fav_sports['bilal']:'basket ball'  # not working\n",
    "print(fav_sports)"
   ]
  },
  {
   "cell_type": "code",
   "execution_count": 37,
   "metadata": {},
   "outputs": [
    {
     "name": "stdout",
     "output_type": "stream",
     "text": [
      "you need to grow more\n",
      "right time for admisson in university\n",
      "what feild you like\n"
     ]
    }
   ],
   "source": [
    "# IF and else condition\n",
    "\n",
    "# IF statement\n",
    "\n",
    "age = 21\n",
    "if age > 15 :\n",
    "    print('you need to grow more')\n",
    "    \n",
    "if age > 20 :\n",
    "    print('right time for admisson in university')\n",
    "    print('what feild you like')\n"
   ]
  },
  {
   "cell_type": "code",
   "execution_count": 38,
   "metadata": {},
   "outputs": [
    {
     "name": "stdout",
     "output_type": "stream",
     "text": [
      "you need to grow more\n"
     ]
    }
   ],
   "source": [
    "age = 18\n",
    "if age > 15 :\n",
    "    print('you need to grow more')\n",
    "    \n",
    "if age > 20 :\n",
    "    print('right time for admisson in university')\n",
    "    print('what feild you like')\n"
   ]
  },
  {
   "cell_type": "code",
   "execution_count": 42,
   "metadata": {},
   "outputs": [
    {
     "name": "stdout",
     "output_type": "stream",
     "text": [
      "you need to grow more\n"
     ]
    }
   ],
   "source": [
    "age = 16\n",
    "if age > 15 :\n",
    "    print('you need to grow more')\n",
    "    \n",
    "if age > 20 :\n",
    "    print('right time for admisson in university')\n",
    "    print('what feild you like')\n"
   ]
  },
  {
   "cell_type": "code",
   "execution_count": 1,
   "metadata": {},
   "outputs": [
    {
     "name": "stdout",
     "output_type": "stream",
     "text": [
      "are you learning pythone ?\n",
      "well you are still able to learn\n"
     ]
    }
   ],
   "source": [
    "age = 35\n",
    "if age == 35 :\n",
    "    print('are you learning pythone ?')\n",
    "if age >= 25 :\n",
    "    print('well you are still able to learn')\n",
    "if age <= 20 :\n",
    "    print('why don\\t you learn data science ?')"
   ]
  },
  {
   "cell_type": "code",
   "execution_count": 3,
   "metadata": {},
   "outputs": [
    {
     "name": "stdout",
     "output_type": "stream",
     "text": [
      "well you are still able to learn\n"
     ]
    }
   ],
   "source": [
    "age = 23\n",
    "if age == 35 :\n",
    "    print('are you learning pythone ?')\n",
    "if age >= 20 :\n",
    "    print('well you are still able to learn')\n",
    "if age <= 20 :\n",
    "    print('why don\\t you learn data science ?')"
   ]
  },
  {
   "cell_type": "code",
   "execution_count": 5,
   "metadata": {},
   "outputs": [
    {
     "name": "stdout",
     "output_type": "stream",
     "text": [
      "why don't you learn data science ?\n"
     ]
    }
   ],
   "source": [
    "age = 18\n",
    "if age == 35 :\n",
    "    print('are you learning pythone ?')\n",
    "if age >= 25 :\n",
    "    print('well you are still able to learn')\n",
    "if age <= 20 :\n",
    "    print('why don\\'t you learn data science ?')"
   ]
  },
  {
   "cell_type": "code",
   "execution_count": 8,
   "metadata": {},
   "outputs": [
    {
     "name": "stdout",
     "output_type": "stream",
     "text": [
      "it's time to do something\n"
     ]
    }
   ],
   "source": [
    "age = 23\n",
    "if age == 35 :\n",
    "    print('are you learning pythone ?')\n",
    "if age >= 25 :\n",
    "    print('well you are still able to learn')\n",
    "if age <= 20 :\n",
    "    print('why don\\'t you learn data science ?')\n",
    "else :\n",
    "    print('it\\'s time to do something')"
   ]
  },
  {
   "cell_type": "code",
   "execution_count": 14,
   "metadata": {},
   "outputs": [
    {
     "name": "stdout",
     "output_type": "stream",
     "text": [
      "are you confused what to cook ?\n",
      " \n",
      " now it's up to you.\n"
     ]
    }
   ],
   "source": [
    "day = 'thursday'\n",
    "\n",
    "print('are you confused what to cook ?')\n",
    "\n",
    "if day == 'sunday':\n",
    "    print('\\n definately it\\'s a biryani day')\n",
    "    \n",
    "if day == 'monday' :\n",
    "    print('\\n try a vegetable today')\n",
    "    \n",
    "if day == 'friday' :\n",
    "    print(' \\n aalo gosht is a better choice for today')\n",
    "    \n",
    "else :\n",
    "    print( ' \\n now it\\'s up to you.')\n",
    "    \n"
   ]
  },
  {
   "cell_type": "code",
   "execution_count": 20,
   "metadata": {},
   "outputs": [
    {
     "name": "stdout",
     "output_type": "stream",
     "text": [
      "are you confused what to cook ?\n",
      "\n",
      " definately it's a biryani day\n"
     ]
    }
   ],
   "source": [
    "# elif statement\n",
    "\n",
    "day = 'sunday'\n",
    "\n",
    "print('are you confused what to cook ?')\n",
    "\n",
    "if day == 'sunday':\n",
    "    print('\\n definately it\\'s a biryani day')\n",
    "    \n",
    "elif day == 'monday' :\n",
    "    print('\\n try a vegetable today')\n",
    "    \n",
    "elif day == 'friday' :\n",
    "    print(' \\n aalo gosht is a better choice for today')\n",
    "    \n",
    "else :\n",
    "    print( ' \\n now it\\'s up to you.')\n",
    "\n"
   ]
  },
  {
   "cell_type": "code",
   "execution_count": 18,
   "metadata": {},
   "outputs": [
    {
     "name": "stdout",
     "output_type": "stream",
     "text": [
      "what is your hair colour ?\n",
      "\n",
      " nice you may be belong to asia\n"
     ]
    }
   ],
   "source": [
    "colour = 'black'\n",
    "\n",
    "print('what is your hair colour ?')\n",
    "\n",
    "if colour == 'black' :\n",
    "    print('\\n nice you may be belong to asia')\n",
    "    \n",
    "else :\n",
    "    print('\\n may be you don\\'t belong to asia')"
   ]
  },
  {
   "cell_type": "code",
   "execution_count": 19,
   "metadata": {},
   "outputs": [
    {
     "name": "stdout",
     "output_type": "stream",
     "text": [
      "what is your hair colour ?\n",
      "\n",
      " may be you don't belong to asia\n"
     ]
    }
   ],
   "source": [
    "colour = 'brown'\n",
    "\n",
    "print('what is your hair colour ?')\n",
    "\n",
    "if colour == 'black' :\n",
    "    print('\\n nice you may be belong to asia')\n",
    "    \n",
    "else :\n",
    "    print('\\n may be you don\\'t belong to asia')"
   ]
  },
  {
   "cell_type": "code",
   "execution_count": 22,
   "metadata": {},
   "outputs": [
    {
     "name": "stdout",
     "output_type": "stream",
     "text": [
      "are you confused what to cook ?\n",
      "\n",
      " wow! sunday definately it's a biryani day\n"
     ]
    }
   ],
   "source": [
    "day = 'sunday'\n",
    "\n",
    "print('are you confused what to cook ?')\n",
    "\n",
    "if day == 'sunday':\n",
    "    print('\\n wow! %s definately it\\'s a biryani day' %day)\n",
    "    \n",
    "elif day == 'monday' :\n",
    "    print('\\n try a vegetable today')\n",
    "    \n",
    "elif day == 'friday' :\n",
    "    print(' \\n aalo gosht is a better choice for today')\n",
    "    \n",
    "else :\n",
    "    print( ' \\n now it\\'s up to you.')\n"
   ]
  },
  {
   "cell_type": "code",
   "execution_count": 24,
   "metadata": {},
   "outputs": [
    {
     "name": "stdout",
     "output_type": "stream",
     "text": [
      "are you confused what to cook ?\n",
      "\n",
      " wow! friday dafinately it's a day for some thing special\n"
     ]
    }
   ],
   "source": [
    "day = 'friday'\n",
    "\n",
    "print('are you confused what to cook ?')\n",
    "\n",
    "if day == 'sunday' or day == 'friday' :\n",
    "    print('\\n wow! %s dafinately it\\'s a day for some thing special' %day)\n",
    "    \n",
    "elif day == 'monday' :\n",
    "    print('\\n try a vegetable today')\n",
    "else :\n",
    "    print( ' \\n now it\\'s up to you.')\n"
   ]
  },
  {
   "cell_type": "code",
   "execution_count": 33,
   "metadata": {},
   "outputs": [
    {
     "name": "stdout",
     "output_type": "stream",
     "text": [
      "\n",
      " humm! there are alot of choices , you can make daal, vegetables, or something light.\n"
     ]
    }
   ],
   "source": [
    "# combining the conditions\n",
    "\n",
    "\n",
    "\n",
    "\n",
    "day = 'teusday'\n",
    "\n",
    "if day == 'teusday' or day == 'monday' or day == 'wednesday' or day == 'thursday' or day == 'satarday' :\n",
    "    print('\\n humm! there are alot of choices , you can make daal, vegetables, or something light.')\n",
    "    \n",
    "else :\n",
    "    print('hey! it\\'s %s ... means some thing special should be in the menu' %day)"
   ]
  },
  {
   "cell_type": "code",
   "execution_count": 32,
   "metadata": {},
   "outputs": [
    {
     "name": "stdout",
     "output_type": "stream",
     "text": [
      "\n",
      " hey! it's friday ... means some thing special should be in the menu\n"
     ]
    }
   ],
   "source": [
    "day = 'friday'\n",
    "\n",
    "if day == 'teusday' or day == 'monday' or day == 'wednesday' or day == 'thursday' or day == 'satarday' :\n",
    "    print('\\n humm! there are alot of choices , you can make daal, vegetables, or something light.')\n",
    "    \n",
    "else :\n",
    "    print('\\n hey! it\\'s %s ... means some thing special should be in the menu' %day)"
   ]
  },
  {
   "cell_type": "code",
   "execution_count": 35,
   "metadata": {},
   "outputs": [
    {
     "name": "stdout",
     "output_type": "stream",
     "text": [
      "\n",
      " you should be in university\n"
     ]
    }
   ],
   "source": [
    "age = 18\n",
    "\n",
    "if age >= 15 and age <= 20 :\n",
    "    print('\\n you should be in university')\n",
    "elif age >= 12 and age <= 14 :\n",
    "    print('\\n it\\'s time to workhard')\n",
    "else :\n",
    "    print('\\n i don\\'t know')"
   ]
  },
  {
   "cell_type": "code",
   "execution_count": 36,
   "metadata": {},
   "outputs": [
    {
     "name": "stdout",
     "output_type": "stream",
     "text": [
      "\n",
      " i don't know\n"
     ]
    }
   ],
   "source": [
    "age = 24\n",
    "\n",
    "if age >= 15 and age <= 20 :\n",
    "    print('\\n you should be in university')\n",
    "elif age >= 12 and age <= 14 :\n",
    "    print('\\n it\\'s time to workhard')\n",
    "else :\n",
    "    print('\\n i don\\'t know')"
   ]
  },
  {
   "cell_type": "code",
   "execution_count": 39,
   "metadata": {},
   "outputs": [
    {
     "name": "stdout",
     "output_type": "stream",
     "text": [
      " \n",
      " variable myval does'nt have a value\n"
     ]
    }
   ],
   "source": [
    "myval= 'none'\n",
    "\n",
    "if myval == 'none' :\n",
    "    print(' \\n variable myval does\\'nt have a value')"
   ]
  },
  {
   "cell_type": "code",
   "execution_count": 42,
   "metadata": {},
   "outputs": [
    {
     "name": "stdout",
     "output_type": "stream",
     "text": [
      "you wan't to play blue whale ! it's not for you.\n"
     ]
    }
   ],
   "source": [
    "# int and str and float\n",
    "\n",
    "\n",
    "\n",
    "age = '10'\n",
    "conv_age = int(age)\n",
    "if conv_age == 10 :\n",
    "    print('you wan\\'t to play blue whale ! it\\'s not for you.')\n"
   ]
  },
  {
   "cell_type": "code",
   "execution_count": 44,
   "metadata": {},
   "outputs": [
    {
     "name": "stdout",
     "output_type": "stream",
     "text": [
      "you wan't to play \"blue whale \" ! it's not for you.\n"
     ]
    }
   ],
   "source": [
    "age = '15'\n",
    "conv_age = int(age)\n",
    "if conv_age >= 10 :\n",
    "    print('you wan\\'t to play \"blue whale \" ! it\\'s not for you.')\n"
   ]
  },
  {
   "cell_type": "code",
   "execution_count": 47,
   "metadata": {},
   "outputs": [],
   "source": [
    "age = '15.5'\n",
    "conv_age = float(age)\n",
    "if conv_age >= 17 :\n",
    "    print('you wan\\'t to play \"blue whale \" ! it\\'s not for you.')\n"
   ]
  },
  {
   "cell_type": "code",
   "execution_count": 48,
   "metadata": {},
   "outputs": [
    {
     "name": "stdout",
     "output_type": "stream",
     "text": [
      "you wan't to play \"blue whale \" ! it's not for you.\n"
     ]
    }
   ],
   "source": [
    "age = '12.5'\n",
    "conv_age = float(age)\n",
    "if conv_age >= 12 :\n",
    "    print('you wan\\'t to play \"blue whale \" ! it\\'s not for you.')\n"
   ]
  },
  {
   "cell_type": "code",
   "execution_count": null,
   "metadata": {},
   "outputs": [],
   "source": [
    "# Loops\n",
    "\n"
   ]
  },
  {
   "cell_type": "code",
   "execution_count": null,
   "metadata": {},
   "outputs": [],
   "source": []
  },
  {
   "cell_type": "code",
   "execution_count": null,
   "metadata": {},
   "outputs": [],
   "source": []
  },
  {
   "cell_type": "code",
   "execution_count": null,
   "metadata": {},
   "outputs": [],
   "source": []
  }
 ],
 "metadata": {
  "kernelspec": {
   "display_name": "Python 3",
   "language": "python",
   "name": "python3"
  },
  "language_info": {
   "codemirror_mode": {
    "name": "ipython",
    "version": 3
   },
   "file_extension": ".py",
   "mimetype": "text/x-python",
   "name": "python",
   "nbconvert_exporter": "python",
   "pygments_lexer": "ipython3",
   "version": "3.7.4"
  }
 },
 "nbformat": 4,
 "nbformat_minor": 2
}
