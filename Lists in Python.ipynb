{
 "cells": [
  {
   "cell_type": "code",
   "execution_count": 1,
   "metadata": {},
   "outputs": [
    {
     "name": "stdout",
     "output_type": "stream",
     "text": [
      "['surf', 'hand wash', 'bath soap']\n"
     ]
    }
   ],
   "source": [
    "my_list = ['surf', 'hand wash', 'bath soap']\n",
    "print(my_list)"
   ]
  },
  {
   "cell_type": "code",
   "execution_count": 2,
   "metadata": {},
   "outputs": [
    {
     "name": "stdout",
     "output_type": "stream",
     "text": [
      "['surf', 'hand wash', 'bath soap']\n"
     ]
    }
   ],
   "source": [
    "my_list = ['surf', 'hand wash', 'bath soap']\n",
    "print(my_list)"
   ]
  },
  {
   "cell_type": "code",
   "execution_count": 3,
   "metadata": {},
   "outputs": [
    {
     "name": "stdout",
     "output_type": "stream",
     "text": [
      "hand wash\n"
     ]
    }
   ],
   "source": [
    "print(my_list[1])"
   ]
  },
  {
   "cell_type": "code",
   "execution_count": 4,
   "metadata": {},
   "outputs": [
    {
     "name": "stdout",
     "output_type": "stream",
     "text": [
      "surf\n"
     ]
    }
   ],
   "source": [
    "print(my_list[0])"
   ]
  },
  {
   "cell_type": "code",
   "execution_count": 5,
   "metadata": {},
   "outputs": [
    {
     "name": "stdout",
     "output_type": "stream",
     "text": [
      "bath soap\n"
     ]
    }
   ],
   "source": [
    "print(my_list[2])"
   ]
  },
  {
   "cell_type": "markdown",
   "metadata": {},
   "source": [
    "# find the type and class "
   ]
  },
  {
   "cell_type": "code",
   "execution_count": 6,
   "metadata": {},
   "outputs": [
    {
     "name": "stdout",
     "output_type": "stream",
     "text": [
      "my_list :  <class 'list'>\n",
      "['surf', 'hand wash', 'bath soap']\n"
     ]
    }
   ],
   "source": [
    "\n",
    "\n",
    "\n",
    "my_list = ['surf', 'hand wash', 'bath soap']\n",
    "print(\"my_list : \", type(my_list))\n",
    "print(my_list)"
   ]
  },
  {
   "cell_type": "code",
   "execution_count": 7,
   "metadata": {},
   "outputs": [
    {
     "name": "stdout",
     "output_type": "stream",
     "text": [
      "hand wash\n"
     ]
    }
   ],
   "source": [
    "print(my_list[1])"
   ]
  },
  {
   "cell_type": "code",
   "execution_count": 8,
   "metadata": {},
   "outputs": [
    {
     "name": "stdout",
     "output_type": "stream",
     "text": [
      "surf\n"
     ]
    }
   ],
   "source": [
    "my_list = ['surf', 'hand wash', 'bath soap']\n",
    "print(my_list[0])"
   ]
  },
  {
   "cell_type": "markdown",
   "metadata": {},
   "source": [
    "# change the value in a list"
   ]
  },
  {
   "cell_type": "code",
   "execution_count": 9,
   "metadata": {},
   "outputs": [
    {
     "name": "stdout",
     "output_type": "stream",
     "text": [
      "['surf', 'hand wash', 'bath soap']\n",
      "\n",
      "\n",
      "\n",
      "\n",
      "['surf', 'shampoo', 'bath soap']\n"
     ]
    }
   ],
   "source": [
    "\n",
    "\n",
    "\n",
    "my_list = ['surf', 'hand wash', 'bath soap']\n",
    "print(my_list)\n",
    "print()\n",
    "print()\n",
    "print()\n",
    "print()\n",
    "my_list[1] = 'shampoo'\n",
    "print(my_list)"
   ]
  },
  {
   "cell_type": "code",
   "execution_count": 10,
   "metadata": {},
   "outputs": [
    {
     "name": "stdout",
     "output_type": "stream",
     "text": [
      "['surf', 'hand wash', 'bath soap']\n"
     ]
    }
   ],
   "source": [
    "my_list = ['surf', 'hand wash', 'bath soap']\n",
    "print(my_list)"
   ]
  },
  {
   "cell_type": "markdown",
   "metadata": {},
   "source": [
    "# List & Slicing\n"
   ]
  },
  {
   "cell_type": "code",
   "execution_count": 11,
   "metadata": {},
   "outputs": [
    {
     "name": "stdout",
     "output_type": "stream",
     "text": [
      "['daal', 'Oil', 'ghee', 'Tea', 'detergent', 'Macroni', 'jelly']\n",
      "['daal', 'Oil', 'ghee', 'Tea']\n",
      "Macroni\n",
      "['Oil', 'ghee']\n",
      "['ghee', 'Tea', 'detergent', 'Macroni', 'jelly']\n",
      "['Oil', 'ghee', 'Tea', 'detergent', 'Macroni']\n",
      "\n",
      "\n",
      "\n",
      "[]\n",
      "\n",
      "\n",
      "['Macroni', 'jelly']\n",
      "['Macroni']\n"
     ]
    }
   ],
   "source": [
    "\n",
    "\n",
    "Imrun_List = ['daal', 'Oil', 'ghee', 'Tea', 'detergent', 'Macroni', 'jelly']\n",
    "print(Imrun_List)\n",
    "print(Imrun_List[0:4])\n",
    "print(Imrun_List[5])\n",
    "print(Imrun_List[1:3])\n",
    "print(Imrun_List[2:7])\n",
    "print(Imrun_List[1:6])\n",
    "\n",
    "print()\n",
    "print()\n",
    "print()\n",
    "print(Imrun_List[4:3])\n",
    "print()\n",
    "print()\n",
    "\n",
    "print(Imrun_List[5:7])\n",
    "print(Imrun_List[5:6])"
   ]
  },
  {
   "cell_type": "code",
   "execution_count": 12,
   "metadata": {},
   "outputs": [
    {
     "name": "stdout",
     "output_type": "stream",
     "text": [
      "['daal', 'Oil', 'ghee', 'Tea', 'detergent', 'Macroni', 'jelly']\n"
     ]
    }
   ],
   "source": [
    "Imrun_List = ['daal', 'Oil', 'ghee', 'Tea', 'detergent', 'Macroni', 'jelly']\n",
    "print(Imrun_List)\n",
    "\n"
   ]
  },
  {
   "cell_type": "code",
   "execution_count": 13,
   "metadata": {},
   "outputs": [
    {
     "name": "stdout",
     "output_type": "stream",
     "text": [
      "['daal', 'Oil', 'ghee', 'Tea', 'detergent', 'Macroni', 'jelly']\n",
      "\n",
      "\n",
      "\n",
      "\n"
     ]
    },
    {
     "data": {
      "text/plain": [
       "['daal', 'Oil', 'ghee', 'Tea', 'detergent', 'Macroni', 'jelly']"
      ]
     },
     "execution_count": 13,
     "metadata": {},
     "output_type": "execute_result"
    }
   ],
   "source": [
    "print(Imrun_List)\n",
    "print()\n",
    "print()\n",
    "print()\n",
    "print()\n",
    "Imrun_List = ['daal', 'Oil', 'ghee', 'Tea', 'detergent', 'Macroni', 'jelly']\n",
    "(Imrun_List)\n"
   ]
  },
  {
   "cell_type": "markdown",
   "metadata": {},
   "source": [
    "# list including numbers & string\n"
   ]
  },
  {
   "cell_type": "code",
   "execution_count": 14,
   "metadata": {},
   "outputs": [
    {
     "name": "stdout",
     "output_type": "stream",
     "text": [
      "[6, 5, 7, 1, 3, 9, 0, 54, 87]\n",
      "\n",
      "\n",
      "\n",
      "\n",
      "['why', 'was', 'afraid', 'of', 'fall']\n",
      "\n",
      "\n",
      "\n",
      "[6, 5, 7, 1, 3, 9, 0, 54, 87, 'why', 'was', 'afraid', 'of', 'fall']\n",
      "\n",
      "\n",
      "\n",
      "[[6, 5, 7, 1, 3, 9, 0, 54, 87], ['why', 'was', 'afraid', 'of', 'fall']]\n"
     ]
    }
   ],
   "source": [
    "\n",
    "\n",
    "num = [6,5,7,1,3,9,0,54,87]\n",
    "print(num)\n",
    "\n",
    "print()\n",
    "print()\n",
    "print()\n",
    "print()\n",
    "\n",
    "\n",
    "string = ['why','was','afraid', 'of', 'fall']\n",
    "print(string)\n",
    "print()\n",
    "print()\n",
    "print()\n",
    "\n",
    "\n",
    "\n",
    "# Nested list in a list\n",
    "\n",
    "\n",
    "print(num + string)\n",
    "print()\n",
    "print()\n",
    "print()\n",
    "my_list = [num, string]\n",
    "print(my_list)\n"
   ]
  },
  {
   "cell_type": "markdown",
   "metadata": {},
   "source": [
    "# Editing an existing list"
   ]
  },
  {
   "cell_type": "code",
   "execution_count": 15,
   "metadata": {},
   "outputs": [
    {
     "name": "stdout",
     "output_type": "stream",
     "text": [
      "['detergent', 'soap', 'polish', 'oil', 'biscuits']\n",
      "\n",
      "\n",
      "\n",
      "['detergent', 'soap', 'polish', 'oil', 'biscuits', 'chocolates', 'cold drinks', 'cup cakes']\n",
      "\n",
      "\n",
      "\n",
      "\n",
      "['detergent', 'polish', 'oil', 'biscuits', 'chocolates', 'cold drinks', 'cup cakes']\n",
      "\n",
      "\n",
      "\n",
      "['detergent', 'polish', 'oil', 'biscuits', 'chocolates', 'cold drinks', 'cup cakes', 'detergent', 'polish', 'oil', 'biscuits', 'chocolates', 'cold drinks', 'cup cakes', 'detergent', 'polish', 'oil', 'biscuits', 'chocolates', 'cold drinks', 'cup cakes', 'detergent', 'polish', 'oil', 'biscuits', 'chocolates', 'cold drinks', 'cup cakes', 'detergent', 'polish', 'oil', 'biscuits', 'chocolates', 'cold drinks', 'cup cakes']\n"
     ]
    }
   ],
   "source": [
    "\n",
    "\n",
    "list_101 = ['detergent', 'soap', 'polish', 'oil', 'biscuits',]\n",
    "print(list_101)\n",
    "print()\n",
    "print()\n",
    "print()\n",
    "list_101.append('chocolates')\n",
    "list_101.append('cold drinks')\n",
    "list_101.append('cup cakes')\n",
    "print(list_101)\n",
    "print()\n",
    "print()\n",
    "print()\n",
    "print()\n",
    "\n",
    "# deleting an item from a list\n",
    "\n",
    "\n",
    "del list_101[1]\n",
    "print(list_101)\n",
    "\n",
    "# multiplying the list\n",
    "\n",
    "\n",
    "print()\n",
    "print()\n",
    "print()\n",
    "print(list_101*5)\n",
    "\n"
   ]
  },
  {
   "cell_type": "markdown",
   "metadata": {},
   "source": [
    "# list with range function"
   ]
  },
  {
   "cell_type": "code",
   "execution_count": 16,
   "metadata": {},
   "outputs": [
    {
     "name": "stdout",
     "output_type": "stream",
     "text": [
      "[10, 11, 12, 13, 14, 15, 16, 17, 18, 19]\n"
     ]
    }
   ],
   "source": [
    "\n",
    "\n",
    "\n",
    "print(list(range(10,20)))"
   ]
  },
  {
   "cell_type": "markdown",
   "metadata": {},
   "source": [
    "# Sorting out a list"
   ]
  },
  {
   "cell_type": "code",
   "execution_count": 17,
   "metadata": {},
   "outputs": [
    {
     "name": "stdout",
     "output_type": "stream",
     "text": [
      "[12, 19, 26, 32, 42, 69, 96]\n"
     ]
    }
   ],
   "source": [
    "fusion_list = [12,42,96,69,26,32,19]\n",
    "fusion_list.sort()\n",
    "print(fusion_list)"
   ]
  },
  {
   "cell_type": "markdown",
   "metadata": {},
   "source": [
    "# Nested list"
   ]
  },
  {
   "cell_type": "code",
   "execution_count": 18,
   "metadata": {},
   "outputs": [
    {
     "name": "stdout",
     "output_type": "stream",
     "text": [
      "[[1, 2, 3, 65, 12], ['hook', 'van', 'lamp', 'table', 'bike'], [1, 'bolt', 23, 'milk', 'bread', 47]]\n"
     ]
    }
   ],
   "source": [
    "list_one = [1,2,3,65,12]\n",
    "list_two = ['hook', 'van', 'lamp', 'table', 'bike']\n",
    "list_three = [1, 'bolt', 23, 'milk', 'bread', 47]\n",
    "my_nested_list = [list_one, list_two, list_three]\n",
    "print(my_nested_list)"
   ]
  },
  {
   "cell_type": "markdown",
   "metadata": {},
   "source": [
    "# len function for list"
   ]
  },
  {
   "cell_type": "code",
   "execution_count": 7,
   "metadata": {},
   "outputs": [],
   "source": [
    "list_101 = ['rooh afza', 'gulab', 100, 65.7]"
   ]
  },
  {
   "cell_type": "code",
   "execution_count": 8,
   "metadata": {},
   "outputs": [
    {
     "data": {
      "text/plain": [
       "4"
      ]
     },
     "execution_count": 8,
     "metadata": {},
     "output_type": "execute_result"
    }
   ],
   "source": [
    "len(list_101)"
   ]
  },
  {
   "cell_type": "code",
   "execution_count": 9,
   "metadata": {},
   "outputs": [
    {
     "data": {
      "text/plain": [
       "'rooh afza'"
      ]
     },
     "execution_count": 9,
     "metadata": {},
     "output_type": "execute_result"
    }
   ],
   "source": [
    "# we use [ ] for indexing and slicing of list\n",
    "\n",
    "list_101[0]"
   ]
  },
  {
   "cell_type": "code",
   "execution_count": 10,
   "metadata": {},
   "outputs": [
    {
     "data": {
      "text/plain": [
       "['gulab', 100, 65.7]"
      ]
     },
     "execution_count": 10,
     "metadata": {},
     "output_type": "execute_result"
    }
   ],
   "source": [
    "list_101[1:]"
   ]
  },
  {
   "cell_type": "markdown",
   "metadata": {},
   "source": [
    "# concatenating two list"
   ]
  },
  {
   "cell_type": "code",
   "execution_count": 11,
   "metadata": {},
   "outputs": [],
   "source": [
    "second_list = [\"juice\", 'biryani', 'mutton karahi']"
   ]
  },
  {
   "cell_type": "code",
   "execution_count": 12,
   "metadata": {},
   "outputs": [
    {
     "data": {
      "text/plain": [
       "['rooh afza', 'gulab', 100, 65.7, 'juice', 'biryani', 'mutton karahi']"
      ]
     },
     "execution_count": 12,
     "metadata": {},
     "output_type": "execute_result"
    }
   ],
   "source": [
    "list_101 + second_list"
   ]
  },
  {
   "cell_type": "code",
   "execution_count": 13,
   "metadata": {},
   "outputs": [],
   "source": [
    "# and we want to save this list than\n",
    "\n",
    "list_201 = list_101 + second_list"
   ]
  },
  {
   "cell_type": "code",
   "execution_count": 14,
   "metadata": {},
   "outputs": [
    {
     "data": {
      "text/plain": [
       "['rooh afza', 'gulab', 100, 65.7, 'juice', 'biryani', 'mutton karahi']"
      ]
     },
     "execution_count": 14,
     "metadata": {},
     "output_type": "execute_result"
    }
   ],
   "source": [
    "list_201"
   ]
  },
  {
   "cell_type": "markdown",
   "metadata": {},
   "source": [
    "# Appending the list"
   ]
  },
  {
   "cell_type": "code",
   "execution_count": 15,
   "metadata": {},
   "outputs": [],
   "source": [
    "# we use () when appending into a list\n",
    "# and the change is permanant\n",
    "\n",
    "list_201.append('salad')"
   ]
  },
  {
   "cell_type": "code",
   "execution_count": 16,
   "metadata": {},
   "outputs": [
    {
     "data": {
      "text/plain": [
       "['rooh afza', 'gulab', 100, 65.7, 'juice', 'biryani', 'mutton karahi', 'salad']"
      ]
     },
     "execution_count": 16,
     "metadata": {},
     "output_type": "execute_result"
    }
   ],
   "source": [
    "list_201"
   ]
  },
  {
   "cell_type": "markdown",
   "metadata": {},
   "source": [
    "# Pop method \n",
    "\n",
    "# pop means remove"
   ]
  },
  {
   "cell_type": "code",
   "execution_count": 17,
   "metadata": {},
   "outputs": [
    {
     "data": {
      "text/plain": [
       "'salad'"
      ]
     },
     "execution_count": 17,
     "metadata": {},
     "output_type": "execute_result"
    }
   ],
   "source": [
    "# .pop method\n",
    "\n",
    "# if we use pop method than by default last item will be poped.\n",
    "# and at the result it will show what is popped.\n",
    "\n",
    "list_201.pop()\n"
   ]
  },
  {
   "cell_type": "code",
   "execution_count": 18,
   "metadata": {},
   "outputs": [
    {
     "data": {
      "text/plain": [
       "['rooh afza', 'gulab', 100, 65.7, 'juice', 'biryani', 'mutton karahi']"
      ]
     },
     "execution_count": 18,
     "metadata": {},
     "output_type": "execute_result"
    }
   ],
   "source": [
    "# Now it is\n",
    "\n",
    "list_201"
   ]
  },
  {
   "cell_type": "markdown",
   "metadata": {},
   "source": [
    "# here we poped an item, saved the the list after pop the item by the name\n",
    "\n",
    "# \"list_201\" and saved that in avariable \" popped_list\""
   ]
  },
  {
   "cell_type": "code",
   "execution_count": 15,
   "metadata": {},
   "outputs": [],
   "source": [
    "# or another way is\n",
    "\n",
    "popped_list = list_201.pop()\n",
    "\n",
    "\n",
    "# here we poped an item, saved the the list after pop the item by the name \"list_201\" and saved that in avariable \" popped_list\""
   ]
  },
  {
   "cell_type": "code",
   "execution_count": 16,
   "metadata": {},
   "outputs": [
    {
     "data": {
      "text/plain": [
       "['rooh afza', 'gulab', 100, 65.7, 'juice', 'biryani']"
      ]
     },
     "execution_count": 16,
     "metadata": {},
     "output_type": "execute_result"
    }
   ],
   "source": [
    "# in this way we can save and find again the deleted item from the list\n",
    "\n",
    "list_201"
   ]
  },
  {
   "cell_type": "code",
   "execution_count": 17,
   "metadata": {},
   "outputs": [
    {
     "data": {
      "text/plain": [
       "'mutton karahi'"
      ]
     },
     "execution_count": 17,
     "metadata": {},
     "output_type": "execute_result"
    }
   ],
   "source": [
    "# like this\n",
    "\n",
    "popped_list"
   ]
  },
  {
   "cell_type": "code",
   "execution_count": 18,
   "metadata": {},
   "outputs": [
    {
     "data": {
      "text/plain": [
       "100"
      ]
     },
     "execution_count": 18,
     "metadata": {},
     "output_type": "execute_result"
    }
   ],
   "source": [
    "# Removing item by index position\n",
    "\n",
    "list_201.pop(2)"
   ]
  },
  {
   "cell_type": "code",
   "execution_count": 19,
   "metadata": {},
   "outputs": [
    {
     "data": {
      "text/plain": [
       "['rooh afza', 'gulab', 65.7, 'juice', 'biryani']"
      ]
     },
     "execution_count": 19,
     "metadata": {},
     "output_type": "execute_result"
    }
   ],
   "source": [
    "list_201"
   ]
  },
  {
   "cell_type": "markdown",
   "metadata": {},
   "source": [
    "# sort Function"
   ]
  },
  {
   "cell_type": "code",
   "execution_count": 3,
   "metadata": {},
   "outputs": [],
   "source": [
    "Alpha_list = ['a', 'f', 'k', 'z', 'm', 'w', 'l' ]\n",
    "\n",
    "Num_list = [1, 10, 56, 3, 12, 98, 23, 31, 7]"
   ]
  },
  {
   "cell_type": "code",
   "execution_count": 4,
   "metadata": {},
   "outputs": [],
   "source": [
    "Alpha_list.sort()"
   ]
  },
  {
   "cell_type": "code",
   "execution_count": 6,
   "metadata": {},
   "outputs": [
    {
     "data": {
      "text/plain": [
       "['a', 'f', 'k', 'l', 'm', 'w', 'z']"
      ]
     },
     "execution_count": 6,
     "metadata": {},
     "output_type": "execute_result"
    }
   ],
   "source": [
    "Alpha_list"
   ]
  },
  {
   "cell_type": "code",
   "execution_count": 23,
   "metadata": {},
   "outputs": [],
   "source": [
    "Num_list.sort()"
   ]
  },
  {
   "cell_type": "code",
   "execution_count": 7,
   "metadata": {},
   "outputs": [
    {
     "data": {
      "text/plain": [
       "[1, 10, 56, 3, 12, 98, 23, 31, 7]"
      ]
     },
     "execution_count": 7,
     "metadata": {},
     "output_type": "execute_result"
    }
   ],
   "source": [
    "Num_list"
   ]
  },
  {
   "cell_type": "markdown",
   "metadata": {},
   "source": [
    "# Reversing the list"
   ]
  },
  {
   "cell_type": "code",
   "execution_count": 25,
   "metadata": {},
   "outputs": [],
   "source": [
    "Alpha_list.reverse()"
   ]
  },
  {
   "cell_type": "code",
   "execution_count": 26,
   "metadata": {},
   "outputs": [
    {
     "data": {
      "text/plain": [
       "['z', 'w', 'm', 'l', 'k', 'f', 'a']"
      ]
     },
     "execution_count": 26,
     "metadata": {},
     "output_type": "execute_result"
    }
   ],
   "source": [
    "Alpha_list"
   ]
  },
  {
   "cell_type": "code",
   "execution_count": 8,
   "metadata": {},
   "outputs": [],
   "source": [
    "Num_list.reverse()"
   ]
  },
  {
   "cell_type": "code",
   "execution_count": 19,
   "metadata": {},
   "outputs": [
    {
     "data": {
      "text/plain": [
       "[7, 31, 23, 98, 12, 3, 56, 10, 1]"
      ]
     },
     "execution_count": 19,
     "metadata": {},
     "output_type": "execute_result"
    }
   ],
   "source": [
    "Num_list"
   ]
  },
  {
   "cell_type": "markdown",
   "metadata": {},
   "source": [
    "# .find   finding the index osition of given item"
   ]
  },
  {
   "cell_type": "code",
   "execution_count": 18,
   "metadata": {},
   "outputs": [
    {
     "data": {
      "text/plain": [
       "6"
      ]
     },
     "execution_count": 18,
     "metadata": {},
     "output_type": "execute_result"
    }
   ],
   "source": [
    "Num_list.index(56)"
   ]
  },
  {
   "cell_type": "markdown",
   "metadata": {},
   "source": [
    "# Beta level up"
   ]
  },
  {
   "cell_type": "code",
   "execution_count": null,
   "metadata": {},
   "outputs": [],
   "source": [
    "# definition of a List\n",
    "\n",
    "# a data structure that can store a collection of data together.\n",
    "\n",
    "# can store any type of data ( String, int, float, Bool).\n",
    "\n",
    "# length is not fixed we can enhance the size of list.\n",
    "\n",
    "# "
   ]
  },
  {
   "cell_type": "markdown",
   "metadata": {},
   "source": [
    "# Methods of Initializing a list"
   ]
  },
  {
   "cell_type": "code",
   "execution_count": 1,
   "metadata": {},
   "outputs": [
    {
     "data": {
      "text/plain": [
       "[]"
      ]
     },
     "execution_count": 1,
     "metadata": {},
     "output_type": "execute_result"
    }
   ],
   "source": [
    "# method no. 1\n",
    "\n",
    "my_first_list = []       # declairs an empty list\n",
    "my_first_list"
   ]
  },
  {
   "cell_type": "code",
   "execution_count": 2,
   "metadata": {},
   "outputs": [
    {
     "data": {
      "text/plain": [
       "[]"
      ]
     },
     "execution_count": 2,
     "metadata": {},
     "output_type": "execute_result"
    }
   ],
   "source": [
    "# method no. 2\n",
    "\n",
    "my_second_list = list()   # declairs an empty list\n",
    "\n",
    "my_second_list"
   ]
  },
  {
   "cell_type": "code",
   "execution_count": 3,
   "metadata": {},
   "outputs": [
    {
     "data": {
      "text/plain": [
       "[1, 2, 3, 4, 5]"
      ]
     },
     "execution_count": 3,
     "metadata": {},
     "output_type": "execute_result"
    }
   ],
   "source": [
    "# method no. 3   assigning values directly...\n",
    "\n",
    "my_list_0 = [1,2,3,4,5]  # declairs a list with 5 elements....\n",
    "\n",
    "my_list_0"
   ]
  },
  {
   "cell_type": "code",
   "execution_count": 5,
   "metadata": {},
   "outputs": [
    {
     "data": {
      "text/plain": [
       "[0, 1, 2, 3, 4, 5, 6, 7, 8, 9]"
      ]
     },
     "execution_count": 5,
     "metadata": {},
     "output_type": "execute_result"
    }
   ],
   "source": [
    "# method no. 4  BY comprehension...\n",
    "\n",
    "my_new_list = [value for value in range(0,10)]\n",
    "\n",
    "my_new_list"
   ]
  },
  {
   "cell_type": "markdown",
   "metadata": {},
   "source": [
    "# difference between append and insert..."
   ]
  },
  {
   "cell_type": "code",
   "execution_count": null,
   "metadata": {},
   "outputs": [],
   "source": [
    "# append function only add the new element in last of the list....\n",
    "# but by using insert function we can add a certain element in a ertain postion..."
   ]
  },
  {
   "cell_type": "markdown",
   "metadata": {},
   "source": [
    "# .insert function"
   ]
  },
  {
   "cell_type": "code",
   "execution_count": 36,
   "metadata": {},
   "outputs": [
    {
     "data": {
      "text/plain": [
       "[1, 2, 3, 4, 5, 6, 7, 8, 9, 10, 11, 12, 13, 14, 15]"
      ]
     },
     "execution_count": 36,
     "metadata": {},
     "output_type": "execute_result"
    }
   ],
   "source": [
    "alpha_list = [1,2,3,4,5,6,7,8,9,10,11,12,13,14,15]\n",
    "\n",
    "alpha_list"
   ]
  },
  {
   "cell_type": "code",
   "execution_count": 37,
   "metadata": {},
   "outputs": [
    {
     "data": {
      "text/plain": [
       "[1, 2, 3, 4, 5, 6, 7, 8, 9, 10, 11, 12, 13, 14, 15, 356]"
      ]
     },
     "execution_count": 37,
     "metadata": {},
     "output_type": "execute_result"
    }
   ],
   "source": [
    "alpha_list.append(356)\n",
    "\n",
    "alpha_list"
   ]
  },
  {
   "cell_type": "code",
   "execution_count": 22,
   "metadata": {},
   "outputs": [
    {
     "data": {
      "text/plain": [
       "[0,\n",
       " 1,\n",
       " 48,\n",
       " 48,\n",
       " 48,\n",
       " 48,\n",
       " 48,\n",
       " 48,\n",
       " 2,\n",
       " 3,\n",
       " 4,\n",
       " 5,\n",
       " 6,\n",
       " 7,\n",
       " 8,\n",
       " 9,\n",
       " 56,\n",
       " 56,\n",
       " 56,\n",
       " 56,\n",
       " 56,\n",
       " 56,\n",
       " 56]"
      ]
     },
     "execution_count": 22,
     "metadata": {},
     "output_type": "execute_result"
    }
   ],
   "source": [
    "my_new_list.append(56)\n",
    "\n",
    "my_new_list"
   ]
  },
  {
   "cell_type": "code",
   "execution_count": 27,
   "metadata": {},
   "outputs": [
    {
     "data": {
      "text/plain": [
       "4"
      ]
     },
     "execution_count": 27,
     "metadata": {},
     "output_type": "execute_result"
    }
   ],
   "source": [
    "my_new_list.pop(3)\n",
    "my_new_list.pop(4)\n",
    "my_new_list.pop(5)"
   ]
  },
  {
   "cell_type": "code",
   "execution_count": 28,
   "metadata": {},
   "outputs": [
    {
     "data": {
      "text/plain": [
       "[0, 1, 48, 48, 3, 5, 6, 7, 8, 9, 56, 56, 56, 56, 56, 56, 56]"
      ]
     },
     "execution_count": 28,
     "metadata": {},
     "output_type": "execute_result"
    }
   ],
   "source": [
    "my_new_list"
   ]
  },
  {
   "cell_type": "code",
   "execution_count": 29,
   "metadata": {},
   "outputs": [
    {
     "data": {
      "text/plain": [
       "48"
      ]
     },
     "execution_count": 29,
     "metadata": {},
     "output_type": "execute_result"
    }
   ],
   "source": [
    "my_new_list.pop(2)"
   ]
  },
  {
   "cell_type": "code",
   "execution_count": 30,
   "metadata": {},
   "outputs": [
    {
     "data": {
      "text/plain": [
       "56"
      ]
     },
     "execution_count": 30,
     "metadata": {},
     "output_type": "execute_result"
    }
   ],
   "source": [
    "my_new_list.pop()\n",
    "my_new_list.pop()\n",
    "my_new_list.pop()\n",
    "my_new_list.pop()\n",
    "my_new_list.pop()\n",
    "my_new_list.pop()"
   ]
  },
  {
   "cell_type": "code",
   "execution_count": 31,
   "metadata": {},
   "outputs": [
    {
     "data": {
      "text/plain": [
       "[0, 1, 48, 3, 5, 6, 7, 8, 9, 56]"
      ]
     },
     "execution_count": 31,
     "metadata": {},
     "output_type": "execute_result"
    }
   ],
   "source": [
    "my_new_list"
   ]
  },
  {
   "cell_type": "code",
   "execution_count": 32,
   "metadata": {},
   "outputs": [
    {
     "data": {
      "text/plain": [
       "[0, 1, 48, 3, 98, 5, 6, 7, 8, 9, 56]"
      ]
     },
     "execution_count": 32,
     "metadata": {},
     "output_type": "execute_result"
    }
   ],
   "source": [
    "my_new_list.insert(4,98)\n",
    "my_new_list\n",
    "\n",
    "\n",
    "# previous on the 4th position the element was 5 but after using the insert function we make the 4 th position element 98\n",
    "\n",
    "# here new element will not replace the position 4 but the element in 4th position will be position 5....."
   ]
  },
  {
   "cell_type": "code",
   "execution_count": null,
   "metadata": {},
   "outputs": [],
   "source": []
  },
  {
   "cell_type": "code",
   "execution_count": null,
   "metadata": {},
   "outputs": [],
   "source": []
  },
  {
   "cell_type": "code",
   "execution_count": null,
   "metadata": {},
   "outputs": [],
   "source": []
  },
  {
   "cell_type": "code",
   "execution_count": null,
   "metadata": {},
   "outputs": [],
   "source": []
  },
  {
   "cell_type": "code",
   "execution_count": null,
   "metadata": {},
   "outputs": [],
   "source": []
  },
  {
   "cell_type": "code",
   "execution_count": null,
   "metadata": {},
   "outputs": [],
   "source": []
  },
  {
   "cell_type": "code",
   "execution_count": null,
   "metadata": {},
   "outputs": [],
   "source": []
  },
  {
   "cell_type": "code",
   "execution_count": null,
   "metadata": {},
   "outputs": [],
   "source": []
  },
  {
   "cell_type": "code",
   "execution_count": null,
   "metadata": {},
   "outputs": [],
   "source": []
  }
 ],
 "metadata": {
  "kernelspec": {
   "display_name": "Python 3",
   "language": "python",
   "name": "python3"
  },
  "language_info": {
   "codemirror_mode": {
    "name": "ipython",
    "version": 3
   },
   "file_extension": ".py",
   "mimetype": "text/x-python",
   "name": "python",
   "nbconvert_exporter": "python",
   "pygments_lexer": "ipython3",
   "version": "3.7.4"
  }
 },
 "nbformat": 4,
 "nbformat_minor": 2
}
